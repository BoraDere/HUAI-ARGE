{
 "cells": [
  {
   "cell_type": "markdown",
   "metadata": {},
   "source": [
    "# Göğüs Kanseri Sınıflandırması\n",
    "- Yazar: Bora Dere\n",
    "- Son güncelleme: 12/02/2024\n",
    "- İletişim: boradere@hotmail.com.tr"
   ]
  },
  {
   "cell_type": "markdown",
   "metadata": {},
   "source": [
    "## 1- Veriyi Araştırma"
   ]
  },
  {
   "cell_type": "markdown",
   "metadata": {},
   "source": [
    "### 1.1- Importlar ve Veri Setinin Yüklenmesi"
   ]
  },
  {
   "cell_type": "code",
   "execution_count": 1,
   "metadata": {},
   "outputs": [
    {
     "data": {
      "text/html": [
       "<div>\n",
       "<style scoped>\n",
       "    .dataframe tbody tr th:only-of-type {\n",
       "        vertical-align: middle;\n",
       "    }\n",
       "\n",
       "    .dataframe tbody tr th {\n",
       "        vertical-align: top;\n",
       "    }\n",
       "\n",
       "    .dataframe thead th {\n",
       "        text-align: right;\n",
       "    }\n",
       "</style>\n",
       "<table border=\"1\" class=\"dataframe\">\n",
       "  <thead>\n",
       "    <tr style=\"text-align: right;\">\n",
       "      <th></th>\n",
       "      <th>Clump_thickness</th>\n",
       "      <th>Uniformity_of_cell_size</th>\n",
       "      <th>Uniformity_of_cell_shape</th>\n",
       "      <th>Marginal_adhesion</th>\n",
       "      <th>Single_epithelial_cell_size</th>\n",
       "      <th>Bare_nuclei</th>\n",
       "      <th>Bland_chromatin</th>\n",
       "      <th>Normal_nucleoli</th>\n",
       "      <th>Mitoses</th>\n",
       "      <th>Class</th>\n",
       "    </tr>\n",
       "  </thead>\n",
       "  <tbody>\n",
       "    <tr>\n",
       "      <th>0</th>\n",
       "      <td>5</td>\n",
       "      <td>1</td>\n",
       "      <td>1</td>\n",
       "      <td>1</td>\n",
       "      <td>2</td>\n",
       "      <td>1.0</td>\n",
       "      <td>3</td>\n",
       "      <td>1</td>\n",
       "      <td>1</td>\n",
       "      <td>2</td>\n",
       "    </tr>\n",
       "    <tr>\n",
       "      <th>1</th>\n",
       "      <td>5</td>\n",
       "      <td>4</td>\n",
       "      <td>4</td>\n",
       "      <td>5</td>\n",
       "      <td>7</td>\n",
       "      <td>10.0</td>\n",
       "      <td>3</td>\n",
       "      <td>2</td>\n",
       "      <td>1</td>\n",
       "      <td>2</td>\n",
       "    </tr>\n",
       "    <tr>\n",
       "      <th>2</th>\n",
       "      <td>3</td>\n",
       "      <td>1</td>\n",
       "      <td>1</td>\n",
       "      <td>1</td>\n",
       "      <td>2</td>\n",
       "      <td>2.0</td>\n",
       "      <td>3</td>\n",
       "      <td>1</td>\n",
       "      <td>1</td>\n",
       "      <td>2</td>\n",
       "    </tr>\n",
       "    <tr>\n",
       "      <th>3</th>\n",
       "      <td>6</td>\n",
       "      <td>8</td>\n",
       "      <td>8</td>\n",
       "      <td>1</td>\n",
       "      <td>3</td>\n",
       "      <td>4.0</td>\n",
       "      <td>3</td>\n",
       "      <td>7</td>\n",
       "      <td>1</td>\n",
       "      <td>2</td>\n",
       "    </tr>\n",
       "    <tr>\n",
       "      <th>4</th>\n",
       "      <td>4</td>\n",
       "      <td>1</td>\n",
       "      <td>1</td>\n",
       "      <td>3</td>\n",
       "      <td>2</td>\n",
       "      <td>1.0</td>\n",
       "      <td>3</td>\n",
       "      <td>1</td>\n",
       "      <td>1</td>\n",
       "      <td>2</td>\n",
       "    </tr>\n",
       "    <tr>\n",
       "      <th>...</th>\n",
       "      <td>...</td>\n",
       "      <td>...</td>\n",
       "      <td>...</td>\n",
       "      <td>...</td>\n",
       "      <td>...</td>\n",
       "      <td>...</td>\n",
       "      <td>...</td>\n",
       "      <td>...</td>\n",
       "      <td>...</td>\n",
       "      <td>...</td>\n",
       "    </tr>\n",
       "    <tr>\n",
       "      <th>694</th>\n",
       "      <td>3</td>\n",
       "      <td>1</td>\n",
       "      <td>1</td>\n",
       "      <td>1</td>\n",
       "      <td>3</td>\n",
       "      <td>2.0</td>\n",
       "      <td>1</td>\n",
       "      <td>1</td>\n",
       "      <td>1</td>\n",
       "      <td>2</td>\n",
       "    </tr>\n",
       "    <tr>\n",
       "      <th>695</th>\n",
       "      <td>2</td>\n",
       "      <td>1</td>\n",
       "      <td>1</td>\n",
       "      <td>1</td>\n",
       "      <td>2</td>\n",
       "      <td>1.0</td>\n",
       "      <td>1</td>\n",
       "      <td>1</td>\n",
       "      <td>1</td>\n",
       "      <td>2</td>\n",
       "    </tr>\n",
       "    <tr>\n",
       "      <th>696</th>\n",
       "      <td>5</td>\n",
       "      <td>10</td>\n",
       "      <td>10</td>\n",
       "      <td>3</td>\n",
       "      <td>7</td>\n",
       "      <td>3.0</td>\n",
       "      <td>8</td>\n",
       "      <td>10</td>\n",
       "      <td>2</td>\n",
       "      <td>4</td>\n",
       "    </tr>\n",
       "    <tr>\n",
       "      <th>697</th>\n",
       "      <td>4</td>\n",
       "      <td>8</td>\n",
       "      <td>6</td>\n",
       "      <td>4</td>\n",
       "      <td>3</td>\n",
       "      <td>4.0</td>\n",
       "      <td>10</td>\n",
       "      <td>6</td>\n",
       "      <td>1</td>\n",
       "      <td>4</td>\n",
       "    </tr>\n",
       "    <tr>\n",
       "      <th>698</th>\n",
       "      <td>4</td>\n",
       "      <td>8</td>\n",
       "      <td>8</td>\n",
       "      <td>5</td>\n",
       "      <td>4</td>\n",
       "      <td>5.0</td>\n",
       "      <td>10</td>\n",
       "      <td>4</td>\n",
       "      <td>1</td>\n",
       "      <td>4</td>\n",
       "    </tr>\n",
       "  </tbody>\n",
       "</table>\n",
       "<p>699 rows × 10 columns</p>\n",
       "</div>"
      ],
      "text/plain": [
       "     Clump_thickness  Uniformity_of_cell_size  Uniformity_of_cell_shape  \\\n",
       "0                  5                        1                         1   \n",
       "1                  5                        4                         4   \n",
       "2                  3                        1                         1   \n",
       "3                  6                        8                         8   \n",
       "4                  4                        1                         1   \n",
       "..               ...                      ...                       ...   \n",
       "694                3                        1                         1   \n",
       "695                2                        1                         1   \n",
       "696                5                       10                        10   \n",
       "697                4                        8                         6   \n",
       "698                4                        8                         8   \n",
       "\n",
       "     Marginal_adhesion  Single_epithelial_cell_size  Bare_nuclei  \\\n",
       "0                    1                            2          1.0   \n",
       "1                    5                            7         10.0   \n",
       "2                    1                            2          2.0   \n",
       "3                    1                            3          4.0   \n",
       "4                    3                            2          1.0   \n",
       "..                 ...                          ...          ...   \n",
       "694                  1                            3          2.0   \n",
       "695                  1                            2          1.0   \n",
       "696                  3                            7          3.0   \n",
       "697                  4                            3          4.0   \n",
       "698                  5                            4          5.0   \n",
       "\n",
       "     Bland_chromatin  Normal_nucleoli  Mitoses  Class  \n",
       "0                  3                1        1      2  \n",
       "1                  3                2        1      2  \n",
       "2                  3                1        1      2  \n",
       "3                  3                7        1      2  \n",
       "4                  3                1        1      2  \n",
       "..               ...              ...      ...    ...  \n",
       "694                1                1        1      2  \n",
       "695                1                1        1      2  \n",
       "696                8               10        2      4  \n",
       "697               10                6        1      4  \n",
       "698               10                4        1      4  \n",
       "\n",
       "[699 rows x 10 columns]"
      ]
     },
     "execution_count": 1,
     "metadata": {},
     "output_type": "execute_result"
    }
   ],
   "source": [
    "import matplotlib.pyplot as plt\n",
    "import pandas as pd\n",
    "import numpy as np\n",
    "\n",
    "import seaborn as sns\n",
    "sns.set_theme()\n",
    "\n",
    "import warnings\n",
    "warnings.filterwarnings('ignore')\n",
    "\n",
    "from ucimlrepo import fetch_ucirepo \n",
    "breast_cancer_wisconsin_original = fetch_ucirepo(id=15) \n",
    "\n",
    "X = breast_cancer_wisconsin_original.data.features \n",
    "y = breast_cancer_wisconsin_original.data.targets \n",
    "\n",
    "X['index'] = X.index\n",
    "y['index'] = y.index\n",
    "\n",
    "df = pd.merge(X, y, on=['index'])\n",
    "df.drop('index', inplace=True, axis=1)\n",
    "\n",
    "df"
   ]
  },
  {
   "cell_type": "markdown",
   "metadata": {},
   "source": [
    "### 1.2- Veri Hakkında Genel Bilgi"
   ]
  },
  {
   "cell_type": "markdown",
   "metadata": {},
   "source": [
    "Bu veri, Dr. William Wolberg'in 2.5 seneyi biraz aşkın klinik çalışmaları sonucu bir araya gelmiştir. Senede 2-3 defa güncellenen bu veri 15 Temmuz 1992'de çalışmalarda kullanılması için bağışlanmış olup güncellenme geçmişi şu şekildedir:\n",
    "\n",
    "- Grup 1: 367 veri (Ocak 1989)\n",
    "- Grup 2:  70 veri (Ekim 1989)\n",
    "- Grup 3:  31 veri (Şubat 1990)\n",
    "- Grup 4:  17 veri (Nisan 1990)\n",
    "- Grup 5:  48 veri (Ağustos 1990)\n",
    "- Grup 6:  49 veri (Güncellendi: Ocak 1991)\n",
    "- Grup 7:  31 veri (Temmuz 1991)\n",
    "- Grup 8:  86 veri (Kasım 1991)\n",
    "\n",
    "Dr. Wolberg'in kendi tahlilleri üzerine dayandığı için güvenilir bir veri olarak değerlendiriliyor. 2010'dan 2019'a kadar alıntılanmış olması da genel olarak güvenilir olduğunun bir göstergesi olarak sayılabilir. "
   ]
  },
  {
   "cell_type": "markdown",
   "metadata": {},
   "source": [
    "## 2- EDA"
   ]
  },
  {
   "cell_type": "code",
   "execution_count": 2,
   "metadata": {},
   "outputs": [
    {
     "name": "stdout",
     "output_type": "stream",
     "text": [
      "<class 'pandas.core.frame.DataFrame'>\n",
      "RangeIndex: 699 entries, 0 to 698\n",
      "Data columns (total 10 columns):\n",
      " #   Column                       Non-Null Count  Dtype  \n",
      "---  ------                       --------------  -----  \n",
      " 0   Clump_thickness              699 non-null    int64  \n",
      " 1   Uniformity_of_cell_size      699 non-null    int64  \n",
      " 2   Uniformity_of_cell_shape     699 non-null    int64  \n",
      " 3   Marginal_adhesion            699 non-null    int64  \n",
      " 4   Single_epithelial_cell_size  699 non-null    int64  \n",
      " 5   Bare_nuclei                  683 non-null    float64\n",
      " 6   Bland_chromatin              699 non-null    int64  \n",
      " 7   Normal_nucleoli              699 non-null    int64  \n",
      " 8   Mitoses                      699 non-null    int64  \n",
      " 9   Class                        699 non-null    int64  \n",
      "dtypes: float64(1), int64(9)\n",
      "memory usage: 54.7 KB\n"
     ]
    }
   ],
   "source": [
    "df.info()"
   ]
  },
  {
   "cell_type": "code",
   "execution_count": 3,
   "metadata": {},
   "outputs": [
    {
     "data": {
      "text/html": [
       "<div>\n",
       "<style scoped>\n",
       "    .dataframe tbody tr th:only-of-type {\n",
       "        vertical-align: middle;\n",
       "    }\n",
       "\n",
       "    .dataframe tbody tr th {\n",
       "        vertical-align: top;\n",
       "    }\n",
       "\n",
       "    .dataframe thead th {\n",
       "        text-align: right;\n",
       "    }\n",
       "</style>\n",
       "<table border=\"1\" class=\"dataframe\">\n",
       "  <thead>\n",
       "    <tr style=\"text-align: right;\">\n",
       "      <th></th>\n",
       "      <th>count</th>\n",
       "      <th>mean</th>\n",
       "      <th>std</th>\n",
       "      <th>min</th>\n",
       "      <th>25%</th>\n",
       "      <th>50%</th>\n",
       "      <th>75%</th>\n",
       "      <th>max</th>\n",
       "    </tr>\n",
       "  </thead>\n",
       "  <tbody>\n",
       "    <tr>\n",
       "      <th>Clump_thickness</th>\n",
       "      <td>699.0</td>\n",
       "      <td>4.417740</td>\n",
       "      <td>2.815741</td>\n",
       "      <td>1.0</td>\n",
       "      <td>2.0</td>\n",
       "      <td>4.0</td>\n",
       "      <td>6.0</td>\n",
       "      <td>10.0</td>\n",
       "    </tr>\n",
       "    <tr>\n",
       "      <th>Uniformity_of_cell_size</th>\n",
       "      <td>699.0</td>\n",
       "      <td>3.134478</td>\n",
       "      <td>3.051459</td>\n",
       "      <td>1.0</td>\n",
       "      <td>1.0</td>\n",
       "      <td>1.0</td>\n",
       "      <td>5.0</td>\n",
       "      <td>10.0</td>\n",
       "    </tr>\n",
       "    <tr>\n",
       "      <th>Uniformity_of_cell_shape</th>\n",
       "      <td>699.0</td>\n",
       "      <td>3.207439</td>\n",
       "      <td>2.971913</td>\n",
       "      <td>1.0</td>\n",
       "      <td>1.0</td>\n",
       "      <td>1.0</td>\n",
       "      <td>5.0</td>\n",
       "      <td>10.0</td>\n",
       "    </tr>\n",
       "    <tr>\n",
       "      <th>Marginal_adhesion</th>\n",
       "      <td>699.0</td>\n",
       "      <td>2.806867</td>\n",
       "      <td>2.855379</td>\n",
       "      <td>1.0</td>\n",
       "      <td>1.0</td>\n",
       "      <td>1.0</td>\n",
       "      <td>4.0</td>\n",
       "      <td>10.0</td>\n",
       "    </tr>\n",
       "    <tr>\n",
       "      <th>Single_epithelial_cell_size</th>\n",
       "      <td>699.0</td>\n",
       "      <td>3.216023</td>\n",
       "      <td>2.214300</td>\n",
       "      <td>1.0</td>\n",
       "      <td>2.0</td>\n",
       "      <td>2.0</td>\n",
       "      <td>4.0</td>\n",
       "      <td>10.0</td>\n",
       "    </tr>\n",
       "    <tr>\n",
       "      <th>Bare_nuclei</th>\n",
       "      <td>683.0</td>\n",
       "      <td>3.544656</td>\n",
       "      <td>3.643857</td>\n",
       "      <td>1.0</td>\n",
       "      <td>1.0</td>\n",
       "      <td>1.0</td>\n",
       "      <td>6.0</td>\n",
       "      <td>10.0</td>\n",
       "    </tr>\n",
       "    <tr>\n",
       "      <th>Bland_chromatin</th>\n",
       "      <td>699.0</td>\n",
       "      <td>3.437768</td>\n",
       "      <td>2.438364</td>\n",
       "      <td>1.0</td>\n",
       "      <td>2.0</td>\n",
       "      <td>3.0</td>\n",
       "      <td>5.0</td>\n",
       "      <td>10.0</td>\n",
       "    </tr>\n",
       "    <tr>\n",
       "      <th>Normal_nucleoli</th>\n",
       "      <td>699.0</td>\n",
       "      <td>2.866953</td>\n",
       "      <td>3.053634</td>\n",
       "      <td>1.0</td>\n",
       "      <td>1.0</td>\n",
       "      <td>1.0</td>\n",
       "      <td>4.0</td>\n",
       "      <td>10.0</td>\n",
       "    </tr>\n",
       "    <tr>\n",
       "      <th>Mitoses</th>\n",
       "      <td>699.0</td>\n",
       "      <td>1.589413</td>\n",
       "      <td>1.715078</td>\n",
       "      <td>1.0</td>\n",
       "      <td>1.0</td>\n",
       "      <td>1.0</td>\n",
       "      <td>1.0</td>\n",
       "      <td>10.0</td>\n",
       "    </tr>\n",
       "    <tr>\n",
       "      <th>Class</th>\n",
       "      <td>699.0</td>\n",
       "      <td>2.689557</td>\n",
       "      <td>0.951273</td>\n",
       "      <td>2.0</td>\n",
       "      <td>2.0</td>\n",
       "      <td>2.0</td>\n",
       "      <td>4.0</td>\n",
       "      <td>4.0</td>\n",
       "    </tr>\n",
       "  </tbody>\n",
       "</table>\n",
       "</div>"
      ],
      "text/plain": [
       "                             count      mean       std  min  25%  50%  75%  \\\n",
       "Clump_thickness              699.0  4.417740  2.815741  1.0  2.0  4.0  6.0   \n",
       "Uniformity_of_cell_size      699.0  3.134478  3.051459  1.0  1.0  1.0  5.0   \n",
       "Uniformity_of_cell_shape     699.0  3.207439  2.971913  1.0  1.0  1.0  5.0   \n",
       "Marginal_adhesion            699.0  2.806867  2.855379  1.0  1.0  1.0  4.0   \n",
       "Single_epithelial_cell_size  699.0  3.216023  2.214300  1.0  2.0  2.0  4.0   \n",
       "Bare_nuclei                  683.0  3.544656  3.643857  1.0  1.0  1.0  6.0   \n",
       "Bland_chromatin              699.0  3.437768  2.438364  1.0  2.0  3.0  5.0   \n",
       "Normal_nucleoli              699.0  2.866953  3.053634  1.0  1.0  1.0  4.0   \n",
       "Mitoses                      699.0  1.589413  1.715078  1.0  1.0  1.0  1.0   \n",
       "Class                        699.0  2.689557  0.951273  2.0  2.0  2.0  4.0   \n",
       "\n",
       "                              max  \n",
       "Clump_thickness              10.0  \n",
       "Uniformity_of_cell_size      10.0  \n",
       "Uniformity_of_cell_shape     10.0  \n",
       "Marginal_adhesion            10.0  \n",
       "Single_epithelial_cell_size  10.0  \n",
       "Bare_nuclei                  10.0  \n",
       "Bland_chromatin              10.0  \n",
       "Normal_nucleoli              10.0  \n",
       "Mitoses                      10.0  \n",
       "Class                         4.0  "
      ]
     },
     "execution_count": 3,
     "metadata": {},
     "output_type": "execute_result"
    }
   ],
   "source": [
    "df.describe().T"
   ]
  },
  {
   "cell_type": "code",
   "execution_count": 4,
   "metadata": {},
   "outputs": [
    {
     "data": {
      "text/plain": [
       "Clump_thickness                0.000000\n",
       "Uniformity_of_cell_size        0.000000\n",
       "Uniformity_of_cell_shape       0.000000\n",
       "Marginal_adhesion              0.000000\n",
       "Single_epithelial_cell_size    0.000000\n",
       "Bare_nuclei                    2.288984\n",
       "Bland_chromatin                0.000000\n",
       "Normal_nucleoli                0.000000\n",
       "Mitoses                        0.000000\n",
       "Class                          0.000000\n",
       "dtype: float64"
      ]
     },
     "execution_count": 4,
     "metadata": {},
     "output_type": "execute_result"
    }
   ],
   "source": [
    "(df.isnull().sum()/len(df))*100"
   ]
  },
  {
   "cell_type": "markdown",
   "metadata": {},
   "source": [
    "NaN değerleri droplamak veya doldurmaya çalışmak gibi seçeneklerimiz var. İkisini de yapacağımızı düşünerek iki farklı veri oluşturuyoruz."
   ]
  },
  {
   "cell_type": "code",
   "execution_count": 5,
   "metadata": {},
   "outputs": [
    {
     "data": {
      "text/html": [
       "<div>\n",
       "<style scoped>\n",
       "    .dataframe tbody tr th:only-of-type {\n",
       "        vertical-align: middle;\n",
       "    }\n",
       "\n",
       "    .dataframe tbody tr th {\n",
       "        vertical-align: top;\n",
       "    }\n",
       "\n",
       "    .dataframe thead th {\n",
       "        text-align: right;\n",
       "    }\n",
       "</style>\n",
       "<table border=\"1\" class=\"dataframe\">\n",
       "  <thead>\n",
       "    <tr style=\"text-align: right;\">\n",
       "      <th></th>\n",
       "      <th>Clump_thickness</th>\n",
       "      <th>Uniformity_of_cell_size</th>\n",
       "      <th>Uniformity_of_cell_shape</th>\n",
       "      <th>Marginal_adhesion</th>\n",
       "      <th>Single_epithelial_cell_size</th>\n",
       "      <th>Bare_nuclei</th>\n",
       "      <th>Bland_chromatin</th>\n",
       "      <th>Normal_nucleoli</th>\n",
       "      <th>Mitoses</th>\n",
       "      <th>Class</th>\n",
       "    </tr>\n",
       "  </thead>\n",
       "  <tbody>\n",
       "    <tr>\n",
       "      <th>0</th>\n",
       "      <td>5</td>\n",
       "      <td>1</td>\n",
       "      <td>1</td>\n",
       "      <td>1</td>\n",
       "      <td>2</td>\n",
       "      <td>1.0</td>\n",
       "      <td>3</td>\n",
       "      <td>1</td>\n",
       "      <td>1</td>\n",
       "      <td>2</td>\n",
       "    </tr>\n",
       "    <tr>\n",
       "      <th>1</th>\n",
       "      <td>5</td>\n",
       "      <td>4</td>\n",
       "      <td>4</td>\n",
       "      <td>5</td>\n",
       "      <td>7</td>\n",
       "      <td>10.0</td>\n",
       "      <td>3</td>\n",
       "      <td>2</td>\n",
       "      <td>1</td>\n",
       "      <td>2</td>\n",
       "    </tr>\n",
       "    <tr>\n",
       "      <th>2</th>\n",
       "      <td>3</td>\n",
       "      <td>1</td>\n",
       "      <td>1</td>\n",
       "      <td>1</td>\n",
       "      <td>2</td>\n",
       "      <td>2.0</td>\n",
       "      <td>3</td>\n",
       "      <td>1</td>\n",
       "      <td>1</td>\n",
       "      <td>2</td>\n",
       "    </tr>\n",
       "    <tr>\n",
       "      <th>3</th>\n",
       "      <td>6</td>\n",
       "      <td>8</td>\n",
       "      <td>8</td>\n",
       "      <td>1</td>\n",
       "      <td>3</td>\n",
       "      <td>4.0</td>\n",
       "      <td>3</td>\n",
       "      <td>7</td>\n",
       "      <td>1</td>\n",
       "      <td>2</td>\n",
       "    </tr>\n",
       "    <tr>\n",
       "      <th>4</th>\n",
       "      <td>4</td>\n",
       "      <td>1</td>\n",
       "      <td>1</td>\n",
       "      <td>3</td>\n",
       "      <td>2</td>\n",
       "      <td>1.0</td>\n",
       "      <td>3</td>\n",
       "      <td>1</td>\n",
       "      <td>1</td>\n",
       "      <td>2</td>\n",
       "    </tr>\n",
       "    <tr>\n",
       "      <th>...</th>\n",
       "      <td>...</td>\n",
       "      <td>...</td>\n",
       "      <td>...</td>\n",
       "      <td>...</td>\n",
       "      <td>...</td>\n",
       "      <td>...</td>\n",
       "      <td>...</td>\n",
       "      <td>...</td>\n",
       "      <td>...</td>\n",
       "      <td>...</td>\n",
       "    </tr>\n",
       "    <tr>\n",
       "      <th>694</th>\n",
       "      <td>3</td>\n",
       "      <td>1</td>\n",
       "      <td>1</td>\n",
       "      <td>1</td>\n",
       "      <td>3</td>\n",
       "      <td>2.0</td>\n",
       "      <td>1</td>\n",
       "      <td>1</td>\n",
       "      <td>1</td>\n",
       "      <td>2</td>\n",
       "    </tr>\n",
       "    <tr>\n",
       "      <th>695</th>\n",
       "      <td>2</td>\n",
       "      <td>1</td>\n",
       "      <td>1</td>\n",
       "      <td>1</td>\n",
       "      <td>2</td>\n",
       "      <td>1.0</td>\n",
       "      <td>1</td>\n",
       "      <td>1</td>\n",
       "      <td>1</td>\n",
       "      <td>2</td>\n",
       "    </tr>\n",
       "    <tr>\n",
       "      <th>696</th>\n",
       "      <td>5</td>\n",
       "      <td>10</td>\n",
       "      <td>10</td>\n",
       "      <td>3</td>\n",
       "      <td>7</td>\n",
       "      <td>3.0</td>\n",
       "      <td>8</td>\n",
       "      <td>10</td>\n",
       "      <td>2</td>\n",
       "      <td>4</td>\n",
       "    </tr>\n",
       "    <tr>\n",
       "      <th>697</th>\n",
       "      <td>4</td>\n",
       "      <td>8</td>\n",
       "      <td>6</td>\n",
       "      <td>4</td>\n",
       "      <td>3</td>\n",
       "      <td>4.0</td>\n",
       "      <td>10</td>\n",
       "      <td>6</td>\n",
       "      <td>1</td>\n",
       "      <td>4</td>\n",
       "    </tr>\n",
       "    <tr>\n",
       "      <th>698</th>\n",
       "      <td>4</td>\n",
       "      <td>8</td>\n",
       "      <td>8</td>\n",
       "      <td>5</td>\n",
       "      <td>4</td>\n",
       "      <td>5.0</td>\n",
       "      <td>10</td>\n",
       "      <td>4</td>\n",
       "      <td>1</td>\n",
       "      <td>4</td>\n",
       "    </tr>\n",
       "  </tbody>\n",
       "</table>\n",
       "<p>683 rows × 10 columns</p>\n",
       "</div>"
      ],
      "text/plain": [
       "     Clump_thickness  Uniformity_of_cell_size  Uniformity_of_cell_shape  \\\n",
       "0                  5                        1                         1   \n",
       "1                  5                        4                         4   \n",
       "2                  3                        1                         1   \n",
       "3                  6                        8                         8   \n",
       "4                  4                        1                         1   \n",
       "..               ...                      ...                       ...   \n",
       "694                3                        1                         1   \n",
       "695                2                        1                         1   \n",
       "696                5                       10                        10   \n",
       "697                4                        8                         6   \n",
       "698                4                        8                         8   \n",
       "\n",
       "     Marginal_adhesion  Single_epithelial_cell_size  Bare_nuclei  \\\n",
       "0                    1                            2          1.0   \n",
       "1                    5                            7         10.0   \n",
       "2                    1                            2          2.0   \n",
       "3                    1                            3          4.0   \n",
       "4                    3                            2          1.0   \n",
       "..                 ...                          ...          ...   \n",
       "694                  1                            3          2.0   \n",
       "695                  1                            2          1.0   \n",
       "696                  3                            7          3.0   \n",
       "697                  4                            3          4.0   \n",
       "698                  5                            4          5.0   \n",
       "\n",
       "     Bland_chromatin  Normal_nucleoli  Mitoses  Class  \n",
       "0                  3                1        1      2  \n",
       "1                  3                2        1      2  \n",
       "2                  3                1        1      2  \n",
       "3                  3                7        1      2  \n",
       "4                  3                1        1      2  \n",
       "..               ...              ...      ...    ...  \n",
       "694                1                1        1      2  \n",
       "695                1                1        1      2  \n",
       "696                8               10        2      4  \n",
       "697               10                6        1      4  \n",
       "698               10                4        1      4  \n",
       "\n",
       "[683 rows x 10 columns]"
      ]
     },
     "execution_count": 5,
     "metadata": {},
     "output_type": "execute_result"
    }
   ],
   "source": [
    "df_na_dropped = df.dropna()\n",
    "df_na_dropped"
   ]
  },
  {
   "cell_type": "markdown",
   "metadata": {},
   "source": [
    "Şimdi asıl verinin dağılımını inceleyebiliriz."
   ]
  },
  {
   "cell_type": "code",
   "execution_count": 6,
   "metadata": {},
   "outputs": [
    {
     "data": {
      "image/png": "[encoded data removed]",
      "text/plain": [
       "<Figure size 1600x2500 with 10 Axes>"
      ]
     },
     "metadata": {},
     "output_type": "display_data"
    }
   ],
   "source": [
    "plt.figure(figsize=(16, 25))\n",
    "\n",
    "for i, col in enumerate(df.columns):\n",
    "    plt.subplot(5, 2, i+1)\n",
    "    sns.histplot(data=df, x=col, palette='viridis', kde=True, hue='Class')\n",
    "    plt.ylabel('Sayı')\n",
    "    plt.title(f\"{col} özelliğinin dağılımı\")\n",
    "\n",
    "plt.tight_layout()"
   ]
  },
  {
   "cell_type": "markdown",
   "metadata": {},
   "source": [
    "Hue kullanarak özelliklerin arasındaki korelasyon hakkında çok ufak da olsa ön bilgi edinebiliyoruz. Misal Clump_thickness ile malignancy arasında doğru orantı var gibi görünüyor. Aklımızın bir köşesinde dursun.\n",
    "\n",
    "Şimdi, outlierlarla ilgili sadece ön bilgi edinmek için özellikleri boxplotlara yerleştireceğiz."
   ]
  },
  {
   "cell_type": "code",
   "execution_count": 7,
   "metadata": {},
   "outputs": [
    {
     "data": {
      "image/png": "[encoded data removed]",
      "text/plain": [
       "<Figure size 1000x1000 with 10 Axes>"
      ]
     },
     "metadata": {},
     "output_type": "display_data"
    }
   ],
   "source": [
    "plt.figure(figsize=(10, 10))\n",
    "\n",
    "for i, col in enumerate(df.columns):\n",
    "    plt.subplot(5, 2, i+1)\n",
    "    sns.boxplot(data=df, x=col, color='#482677FF', saturation=.8)\n",
    "\n",
    "plt.tight_layout()"
   ]
  },
  {
   "cell_type": "markdown",
   "metadata": {},
   "source": [
    "Mitoses özelliği pek iç açıcı görünmüyor. Önceki plotta da verinin genelinin 1 olduğu görülüyordu, en başta kullandığımız verinin istatistiksel özeti de buna işaret ediyordu. Verideki hiçbir değer 0 veya negatif olmadığı için veriye gönül rahatlığıyla log transformation uygulayabiliriz. Bu, bizi çok fazla outlierla uğraşmaktan kurtaracaktır ve özelliklerin asimetrisini bir miktar düzeltecektir."
   ]
  },
  {
   "cell_type": "code",
   "execution_count": 8,
   "metadata": {},
   "outputs": [
    {
     "data": {
      "text/html": [
       "<div>\n",
       "<style scoped>\n",
       "    .dataframe tbody tr th:only-of-type {\n",
       "        vertical-align: middle;\n",
       "    }\n",
       "\n",
       "    .dataframe tbody tr th {\n",
       "        vertical-align: top;\n",
       "    }\n",
       "\n",
       "    .dataframe thead th {\n",
       "        text-align: right;\n",
       "    }\n",
       "</style>\n",
       "<table border=\"1\" class=\"dataframe\">\n",
       "  <thead>\n",
       "    <tr style=\"text-align: right;\">\n",
       "      <th></th>\n",
       "      <th>Clump_thickness</th>\n",
       "      <th>Uniformity_of_cell_size</th>\n",
       "      <th>Uniformity_of_cell_shape</th>\n",
       "      <th>Marginal_adhesion</th>\n",
       "      <th>Single_epithelial_cell_size</th>\n",
       "      <th>Bare_nuclei</th>\n",
       "      <th>Bland_chromatin</th>\n",
       "      <th>Normal_nucleoli</th>\n",
       "      <th>Mitoses</th>\n",
       "      <th>Class</th>\n",
       "    </tr>\n",
       "  </thead>\n",
       "  <tbody>\n",
       "    <tr>\n",
       "      <th>0</th>\n",
       "      <td>1.609438</td>\n",
       "      <td>0.000000</td>\n",
       "      <td>0.000000</td>\n",
       "      <td>0.000000</td>\n",
       "      <td>0.693147</td>\n",
       "      <td>0.000000</td>\n",
       "      <td>1.098612</td>\n",
       "      <td>0.000000</td>\n",
       "      <td>0.000000</td>\n",
       "      <td>0.693147</td>\n",
       "    </tr>\n",
       "    <tr>\n",
       "      <th>1</th>\n",
       "      <td>1.609438</td>\n",
       "      <td>1.386294</td>\n",
       "      <td>1.386294</td>\n",
       "      <td>1.609438</td>\n",
       "      <td>1.945910</td>\n",
       "      <td>2.302585</td>\n",
       "      <td>1.098612</td>\n",
       "      <td>0.693147</td>\n",
       "      <td>0.000000</td>\n",
       "      <td>0.693147</td>\n",
       "    </tr>\n",
       "    <tr>\n",
       "      <th>2</th>\n",
       "      <td>1.098612</td>\n",
       "      <td>0.000000</td>\n",
       "      <td>0.000000</td>\n",
       "      <td>0.000000</td>\n",
       "      <td>0.693147</td>\n",
       "      <td>0.693147</td>\n",
       "      <td>1.098612</td>\n",
       "      <td>0.000000</td>\n",
       "      <td>0.000000</td>\n",
       "      <td>0.693147</td>\n",
       "    </tr>\n",
       "    <tr>\n",
       "      <th>3</th>\n",
       "      <td>1.791759</td>\n",
       "      <td>2.079442</td>\n",
       "      <td>2.079442</td>\n",
       "      <td>0.000000</td>\n",
       "      <td>1.098612</td>\n",
       "      <td>1.386294</td>\n",
       "      <td>1.098612</td>\n",
       "      <td>1.945910</td>\n",
       "      <td>0.000000</td>\n",
       "      <td>0.693147</td>\n",
       "    </tr>\n",
       "    <tr>\n",
       "      <th>4</th>\n",
       "      <td>1.386294</td>\n",
       "      <td>0.000000</td>\n",
       "      <td>0.000000</td>\n",
       "      <td>1.098612</td>\n",
       "      <td>0.693147</td>\n",
       "      <td>0.000000</td>\n",
       "      <td>1.098612</td>\n",
       "      <td>0.000000</td>\n",
       "      <td>0.000000</td>\n",
       "      <td>0.693147</td>\n",
       "    </tr>\n",
       "    <tr>\n",
       "      <th>...</th>\n",
       "      <td>...</td>\n",
       "      <td>...</td>\n",
       "      <td>...</td>\n",
       "      <td>...</td>\n",
       "      <td>...</td>\n",
       "      <td>...</td>\n",
       "      <td>...</td>\n",
       "      <td>...</td>\n",
       "      <td>...</td>\n",
       "      <td>...</td>\n",
       "    </tr>\n",
       "    <tr>\n",
       "      <th>694</th>\n",
       "      <td>1.098612</td>\n",
       "      <td>0.000000</td>\n",
       "      <td>0.000000</td>\n",
       "      <td>0.000000</td>\n",
       "      <td>1.098612</td>\n",
       "      <td>0.693147</td>\n",
       "      <td>0.000000</td>\n",
       "      <td>0.000000</td>\n",
       "      <td>0.000000</td>\n",
       "      <td>0.693147</td>\n",
       "    </tr>\n",
       "    <tr>\n",
       "      <th>695</th>\n",
       "      <td>0.693147</td>\n",
       "      <td>0.000000</td>\n",
       "      <td>0.000000</td>\n",
       "      <td>0.000000</td>\n",
       "      <td>0.693147</td>\n",
       "      <td>0.000000</td>\n",
       "      <td>0.000000</td>\n",
       "      <td>0.000000</td>\n",
       "      <td>0.000000</td>\n",
       "      <td>0.693147</td>\n",
       "    </tr>\n",
       "    <tr>\n",
       "      <th>696</th>\n",
       "      <td>1.609438</td>\n",
       "      <td>2.302585</td>\n",
       "      <td>2.302585</td>\n",
       "      <td>1.098612</td>\n",
       "      <td>1.945910</td>\n",
       "      <td>1.098612</td>\n",
       "      <td>2.079442</td>\n",
       "      <td>2.302585</td>\n",
       "      <td>0.693147</td>\n",
       "      <td>1.386294</td>\n",
       "    </tr>\n",
       "    <tr>\n",
       "      <th>697</th>\n",
       "      <td>1.386294</td>\n",
       "      <td>2.079442</td>\n",
       "      <td>1.791759</td>\n",
       "      <td>1.386294</td>\n",
       "      <td>1.098612</td>\n",
       "      <td>1.386294</td>\n",
       "      <td>2.302585</td>\n",
       "      <td>1.791759</td>\n",
       "      <td>0.000000</td>\n",
       "      <td>1.386294</td>\n",
       "    </tr>\n",
       "    <tr>\n",
       "      <th>698</th>\n",
       "      <td>1.386294</td>\n",
       "      <td>2.079442</td>\n",
       "      <td>2.079442</td>\n",
       "      <td>1.609438</td>\n",
       "      <td>1.386294</td>\n",
       "      <td>1.609438</td>\n",
       "      <td>2.302585</td>\n",
       "      <td>1.386294</td>\n",
       "      <td>0.000000</td>\n",
       "      <td>1.386294</td>\n",
       "    </tr>\n",
       "  </tbody>\n",
       "</table>\n",
       "<p>699 rows × 10 columns</p>\n",
       "</div>"
      ],
      "text/plain": [
       "     Clump_thickness  Uniformity_of_cell_size  Uniformity_of_cell_shape  \\\n",
       "0           1.609438                 0.000000                  0.000000   \n",
       "1           1.609438                 1.386294                  1.386294   \n",
       "2           1.098612                 0.000000                  0.000000   \n",
       "3           1.791759                 2.079442                  2.079442   \n",
       "4           1.386294                 0.000000                  0.000000   \n",
       "..               ...                      ...                       ...   \n",
       "694         1.098612                 0.000000                  0.000000   \n",
       "695         0.693147                 0.000000                  0.000000   \n",
       "696         1.609438                 2.302585                  2.302585   \n",
       "697         1.386294                 2.079442                  1.791759   \n",
       "698         1.386294                 2.079442                  2.079442   \n",
       "\n",
       "     Marginal_adhesion  Single_epithelial_cell_size  Bare_nuclei  \\\n",
       "0             0.000000                     0.693147     0.000000   \n",
       "1             1.609438                     1.945910     2.302585   \n",
       "2             0.000000                     0.693147     0.693147   \n",
       "3             0.000000                     1.098612     1.386294   \n",
       "4             1.098612                     0.693147     0.000000   \n",
       "..                 ...                          ...          ...   \n",
       "694           0.000000                     1.098612     0.693147   \n",
       "695           0.000000                     0.693147     0.000000   \n",
       "696           1.098612                     1.945910     1.098612   \n",
       "697           1.386294                     1.098612     1.386294   \n",
       "698           1.609438                     1.386294     1.609438   \n",
       "\n",
       "     Bland_chromatin  Normal_nucleoli   Mitoses     Class  \n",
       "0           1.098612         0.000000  0.000000  0.693147  \n",
       "1           1.098612         0.693147  0.000000  0.693147  \n",
       "2           1.098612         0.000000  0.000000  0.693147  \n",
       "3           1.098612         1.945910  0.000000  0.693147  \n",
       "4           1.098612         0.000000  0.000000  0.693147  \n",
       "..               ...              ...       ...       ...  \n",
       "694         0.000000         0.000000  0.000000  0.693147  \n",
       "695         0.000000         0.000000  0.000000  0.693147  \n",
       "696         2.079442         2.302585  0.693147  1.386294  \n",
       "697         2.302585         1.791759  0.000000  1.386294  \n",
       "698         2.302585         1.386294  0.000000  1.386294  \n",
       "\n",
       "[699 rows x 10 columns]"
      ]
     },
     "execution_count": 8,
     "metadata": {},
     "output_type": "execute_result"
    }
   ],
   "source": [
    "log_data = np.log(df)\n",
    "log_data"
   ]
  },
  {
   "cell_type": "markdown",
   "metadata": {},
   "source": [
    "Bir daha inceleyelim."
   ]
  },
  {
   "cell_type": "code",
   "execution_count": 9,
   "metadata": {},
   "outputs": [
    {
     "data": {
      "image/png": "[encoded data removed]",
      "text/plain": [
       "<Figure size 1000x1000 with 10 Axes>"
      ]
     },
     "metadata": {},
     "output_type": "display_data"
    }
   ],
   "source": [
    "plt.figure(figsize=(10, 10))\n",
    "\n",
    "for i, col in enumerate(df.columns):\n",
    "    plt.subplot(5, 2, i+1)\n",
    "    sns.boxplot(data=log_data, x=col, color='#482677FF', saturation=.8)\n",
    "\n",
    "plt.tight_layout()"
   ]
  },
  {
   "cell_type": "markdown",
   "metadata": {},
   "source": [
    "Verinin genelinde bir miktar işe yaramışa benziyor. Dolayısıyla aynısını NaN değerlerin atıldığı sete de yapıyoruz."
   ]
  },
  {
   "cell_type": "code",
   "execution_count": 10,
   "metadata": {},
   "outputs": [
    {
     "data": {
      "text/html": [
       "<div>\n",
       "<style scoped>\n",
       "    .dataframe tbody tr th:only-of-type {\n",
       "        vertical-align: middle;\n",
       "    }\n",
       "\n",
       "    .dataframe tbody tr th {\n",
       "        vertical-align: top;\n",
       "    }\n",
       "\n",
       "    .dataframe thead th {\n",
       "        text-align: right;\n",
       "    }\n",
       "</style>\n",
       "<table border=\"1\" class=\"dataframe\">\n",
       "  <thead>\n",
       "    <tr style=\"text-align: right;\">\n",
       "      <th></th>\n",
       "      <th>Clump_thickness</th>\n",
       "      <th>Uniformity_of_cell_size</th>\n",
       "      <th>Uniformity_of_cell_shape</th>\n",
       "      <th>Marginal_adhesion</th>\n",
       "      <th>Single_epithelial_cell_size</th>\n",
       "      <th>Bare_nuclei</th>\n",
       "      <th>Bland_chromatin</th>\n",
       "      <th>Normal_nucleoli</th>\n",
       "      <th>Mitoses</th>\n",
       "      <th>Class</th>\n",
       "    </tr>\n",
       "  </thead>\n",
       "  <tbody>\n",
       "    <tr>\n",
       "      <th>0</th>\n",
       "      <td>1.609438</td>\n",
       "      <td>0.000000</td>\n",
       "      <td>0.000000</td>\n",
       "      <td>0.000000</td>\n",
       "      <td>0.693147</td>\n",
       "      <td>0.000000</td>\n",
       "      <td>1.098612</td>\n",
       "      <td>0.000000</td>\n",
       "      <td>0.000000</td>\n",
       "      <td>0.693147</td>\n",
       "    </tr>\n",
       "    <tr>\n",
       "      <th>1</th>\n",
       "      <td>1.609438</td>\n",
       "      <td>1.386294</td>\n",
       "      <td>1.386294</td>\n",
       "      <td>1.609438</td>\n",
       "      <td>1.945910</td>\n",
       "      <td>2.302585</td>\n",
       "      <td>1.098612</td>\n",
       "      <td>0.693147</td>\n",
       "      <td>0.000000</td>\n",
       "      <td>0.693147</td>\n",
       "    </tr>\n",
       "    <tr>\n",
       "      <th>2</th>\n",
       "      <td>1.098612</td>\n",
       "      <td>0.000000</td>\n",
       "      <td>0.000000</td>\n",
       "      <td>0.000000</td>\n",
       "      <td>0.693147</td>\n",
       "      <td>0.693147</td>\n",
       "      <td>1.098612</td>\n",
       "      <td>0.000000</td>\n",
       "      <td>0.000000</td>\n",
       "      <td>0.693147</td>\n",
       "    </tr>\n",
       "    <tr>\n",
       "      <th>3</th>\n",
       "      <td>1.791759</td>\n",
       "      <td>2.079442</td>\n",
       "      <td>2.079442</td>\n",
       "      <td>0.000000</td>\n",
       "      <td>1.098612</td>\n",
       "      <td>1.386294</td>\n",
       "      <td>1.098612</td>\n",
       "      <td>1.945910</td>\n",
       "      <td>0.000000</td>\n",
       "      <td>0.693147</td>\n",
       "    </tr>\n",
       "    <tr>\n",
       "      <th>4</th>\n",
       "      <td>1.386294</td>\n",
       "      <td>0.000000</td>\n",
       "      <td>0.000000</td>\n",
       "      <td>1.098612</td>\n",
       "      <td>0.693147</td>\n",
       "      <td>0.000000</td>\n",
       "      <td>1.098612</td>\n",
       "      <td>0.000000</td>\n",
       "      <td>0.000000</td>\n",
       "      <td>0.693147</td>\n",
       "    </tr>\n",
       "    <tr>\n",
       "      <th>...</th>\n",
       "      <td>...</td>\n",
       "      <td>...</td>\n",
       "      <td>...</td>\n",
       "      <td>...</td>\n",
       "      <td>...</td>\n",
       "      <td>...</td>\n",
       "      <td>...</td>\n",
       "      <td>...</td>\n",
       "      <td>...</td>\n",
       "      <td>...</td>\n",
       "    </tr>\n",
       "    <tr>\n",
       "      <th>694</th>\n",
       "      <td>1.098612</td>\n",
       "      <td>0.000000</td>\n",
       "      <td>0.000000</td>\n",
       "      <td>0.000000</td>\n",
       "      <td>1.098612</td>\n",
       "      <td>0.693147</td>\n",
       "      <td>0.000000</td>\n",
       "      <td>0.000000</td>\n",
       "      <td>0.000000</td>\n",
       "      <td>0.693147</td>\n",
       "    </tr>\n",
       "    <tr>\n",
       "      <th>695</th>\n",
       "      <td>0.693147</td>\n",
       "      <td>0.000000</td>\n",
       "      <td>0.000000</td>\n",
       "      <td>0.000000</td>\n",
       "      <td>0.693147</td>\n",
       "      <td>0.000000</td>\n",
       "      <td>0.000000</td>\n",
       "      <td>0.000000</td>\n",
       "      <td>0.000000</td>\n",
       "      <td>0.693147</td>\n",
       "    </tr>\n",
       "    <tr>\n",
       "      <th>696</th>\n",
       "      <td>1.609438</td>\n",
       "      <td>2.302585</td>\n",
       "      <td>2.302585</td>\n",
       "      <td>1.098612</td>\n",
       "      <td>1.945910</td>\n",
       "      <td>1.098612</td>\n",
       "      <td>2.079442</td>\n",
       "      <td>2.302585</td>\n",
       "      <td>0.693147</td>\n",
       "      <td>1.386294</td>\n",
       "    </tr>\n",
       "    <tr>\n",
       "      <th>697</th>\n",
       "      <td>1.386294</td>\n",
       "      <td>2.079442</td>\n",
       "      <td>1.791759</td>\n",
       "      <td>1.386294</td>\n",
       "      <td>1.098612</td>\n",
       "      <td>1.386294</td>\n",
       "      <td>2.302585</td>\n",
       "      <td>1.791759</td>\n",
       "      <td>0.000000</td>\n",
       "      <td>1.386294</td>\n",
       "    </tr>\n",
       "    <tr>\n",
       "      <th>698</th>\n",
       "      <td>1.386294</td>\n",
       "      <td>2.079442</td>\n",
       "      <td>2.079442</td>\n",
       "      <td>1.609438</td>\n",
       "      <td>1.386294</td>\n",
       "      <td>1.609438</td>\n",
       "      <td>2.302585</td>\n",
       "      <td>1.386294</td>\n",
       "      <td>0.000000</td>\n",
       "      <td>1.386294</td>\n",
       "    </tr>\n",
       "  </tbody>\n",
       "</table>\n",
       "<p>683 rows × 10 columns</p>\n",
       "</div>"
      ],
      "text/plain": [
       "     Clump_thickness  Uniformity_of_cell_size  Uniformity_of_cell_shape  \\\n",
       "0           1.609438                 0.000000                  0.000000   \n",
       "1           1.609438                 1.386294                  1.386294   \n",
       "2           1.098612                 0.000000                  0.000000   \n",
       "3           1.791759                 2.079442                  2.079442   \n",
       "4           1.386294                 0.000000                  0.000000   \n",
       "..               ...                      ...                       ...   \n",
       "694         1.098612                 0.000000                  0.000000   \n",
       "695         0.693147                 0.000000                  0.000000   \n",
       "696         1.609438                 2.302585                  2.302585   \n",
       "697         1.386294                 2.079442                  1.791759   \n",
       "698         1.386294                 2.079442                  2.079442   \n",
       "\n",
       "     Marginal_adhesion  Single_epithelial_cell_size  Bare_nuclei  \\\n",
       "0             0.000000                     0.693147     0.000000   \n",
       "1             1.609438                     1.945910     2.302585   \n",
       "2             0.000000                     0.693147     0.693147   \n",
       "3             0.000000                     1.098612     1.386294   \n",
       "4             1.098612                     0.693147     0.000000   \n",
       "..                 ...                          ...          ...   \n",
       "694           0.000000                     1.098612     0.693147   \n",
       "695           0.000000                     0.693147     0.000000   \n",
       "696           1.098612                     1.945910     1.098612   \n",
       "697           1.386294                     1.098612     1.386294   \n",
       "698           1.609438                     1.386294     1.609438   \n",
       "\n",
       "     Bland_chromatin  Normal_nucleoli   Mitoses     Class  \n",
       "0           1.098612         0.000000  0.000000  0.693147  \n",
       "1           1.098612         0.693147  0.000000  0.693147  \n",
       "2           1.098612         0.000000  0.000000  0.693147  \n",
       "3           1.098612         1.945910  0.000000  0.693147  \n",
       "4           1.098612         0.000000  0.000000  0.693147  \n",
       "..               ...              ...       ...       ...  \n",
       "694         0.000000         0.000000  0.000000  0.693147  \n",
       "695         0.000000         0.000000  0.000000  0.693147  \n",
       "696         2.079442         2.302585  0.693147  1.386294  \n",
       "697         2.302585         1.791759  0.000000  1.386294  \n",
       "698         2.302585         1.386294  0.000000  1.386294  \n",
       "\n",
       "[683 rows x 10 columns]"
      ]
     },
     "execution_count": 10,
     "metadata": {},
     "output_type": "execute_result"
    }
   ],
   "source": [
    "log_na_dropped = np.log(df_na_dropped)\n",
    "log_na_dropped"
   ]
  },
  {
   "cell_type": "markdown",
   "metadata": {},
   "source": [
    "Class özelliği başta 2 ve 4 olarak kodlandığı için şu anda anlamsız duruyor. 0 ve 1 olarak kodluyoruz."
   ]
  },
  {
   "cell_type": "code",
   "execution_count": 11,
   "metadata": {},
   "outputs": [
    {
     "data": {
      "text/html": [
       "<div>\n",
       "<style scoped>\n",
       "    .dataframe tbody tr th:only-of-type {\n",
       "        vertical-align: middle;\n",
       "    }\n",
       "\n",
       "    .dataframe tbody tr th {\n",
       "        vertical-align: top;\n",
       "    }\n",
       "\n",
       "    .dataframe thead th {\n",
       "        text-align: right;\n",
       "    }\n",
       "</style>\n",
       "<table border=\"1\" class=\"dataframe\">\n",
       "  <thead>\n",
       "    <tr style=\"text-align: right;\">\n",
       "      <th></th>\n",
       "      <th>Clump_thickness</th>\n",
       "      <th>Uniformity_of_cell_size</th>\n",
       "      <th>Uniformity_of_cell_shape</th>\n",
       "      <th>Marginal_adhesion</th>\n",
       "      <th>Single_epithelial_cell_size</th>\n",
       "      <th>Bare_nuclei</th>\n",
       "      <th>Bland_chromatin</th>\n",
       "      <th>Normal_nucleoli</th>\n",
       "      <th>Mitoses</th>\n",
       "      <th>Class</th>\n",
       "    </tr>\n",
       "  </thead>\n",
       "  <tbody>\n",
       "    <tr>\n",
       "      <th>0</th>\n",
       "      <td>1.609438</td>\n",
       "      <td>0.000000</td>\n",
       "      <td>0.000000</td>\n",
       "      <td>0.000000</td>\n",
       "      <td>0.693147</td>\n",
       "      <td>0.000000</td>\n",
       "      <td>1.098612</td>\n",
       "      <td>0.000000</td>\n",
       "      <td>0.000000</td>\n",
       "      <td>0</td>\n",
       "    </tr>\n",
       "    <tr>\n",
       "      <th>1</th>\n",
       "      <td>1.609438</td>\n",
       "      <td>1.386294</td>\n",
       "      <td>1.386294</td>\n",
       "      <td>1.609438</td>\n",
       "      <td>1.945910</td>\n",
       "      <td>2.302585</td>\n",
       "      <td>1.098612</td>\n",
       "      <td>0.693147</td>\n",
       "      <td>0.000000</td>\n",
       "      <td>0</td>\n",
       "    </tr>\n",
       "    <tr>\n",
       "      <th>2</th>\n",
       "      <td>1.098612</td>\n",
       "      <td>0.000000</td>\n",
       "      <td>0.000000</td>\n",
       "      <td>0.000000</td>\n",
       "      <td>0.693147</td>\n",
       "      <td>0.693147</td>\n",
       "      <td>1.098612</td>\n",
       "      <td>0.000000</td>\n",
       "      <td>0.000000</td>\n",
       "      <td>0</td>\n",
       "    </tr>\n",
       "    <tr>\n",
       "      <th>3</th>\n",
       "      <td>1.791759</td>\n",
       "      <td>2.079442</td>\n",
       "      <td>2.079442</td>\n",
       "      <td>0.000000</td>\n",
       "      <td>1.098612</td>\n",
       "      <td>1.386294</td>\n",
       "      <td>1.098612</td>\n",
       "      <td>1.945910</td>\n",
       "      <td>0.000000</td>\n",
       "      <td>0</td>\n",
       "    </tr>\n",
       "    <tr>\n",
       "      <th>4</th>\n",
       "      <td>1.386294</td>\n",
       "      <td>0.000000</td>\n",
       "      <td>0.000000</td>\n",
       "      <td>1.098612</td>\n",
       "      <td>0.693147</td>\n",
       "      <td>0.000000</td>\n",
       "      <td>1.098612</td>\n",
       "      <td>0.000000</td>\n",
       "      <td>0.000000</td>\n",
       "      <td>0</td>\n",
       "    </tr>\n",
       "    <tr>\n",
       "      <th>...</th>\n",
       "      <td>...</td>\n",
       "      <td>...</td>\n",
       "      <td>...</td>\n",
       "      <td>...</td>\n",
       "      <td>...</td>\n",
       "      <td>...</td>\n",
       "      <td>...</td>\n",
       "      <td>...</td>\n",
       "      <td>...</td>\n",
       "      <td>...</td>\n",
       "    </tr>\n",
       "    <tr>\n",
       "      <th>694</th>\n",
       "      <td>1.098612</td>\n",
       "      <td>0.000000</td>\n",
       "      <td>0.000000</td>\n",
       "      <td>0.000000</td>\n",
       "      <td>1.098612</td>\n",
       "      <td>0.693147</td>\n",
       "      <td>0.000000</td>\n",
       "      <td>0.000000</td>\n",
       "      <td>0.000000</td>\n",
       "      <td>0</td>\n",
       "    </tr>\n",
       "    <tr>\n",
       "      <th>695</th>\n",
       "      <td>0.693147</td>\n",
       "      <td>0.000000</td>\n",
       "      <td>0.000000</td>\n",
       "      <td>0.000000</td>\n",
       "      <td>0.693147</td>\n",
       "      <td>0.000000</td>\n",
       "      <td>0.000000</td>\n",
       "      <td>0.000000</td>\n",
       "      <td>0.000000</td>\n",
       "      <td>0</td>\n",
       "    </tr>\n",
       "    <tr>\n",
       "      <th>696</th>\n",
       "      <td>1.609438</td>\n",
       "      <td>2.302585</td>\n",
       "      <td>2.302585</td>\n",
       "      <td>1.098612</td>\n",
       "      <td>1.945910</td>\n",
       "      <td>1.098612</td>\n",
       "      <td>2.079442</td>\n",
       "      <td>2.302585</td>\n",
       "      <td>0.693147</td>\n",
       "      <td>1</td>\n",
       "    </tr>\n",
       "    <tr>\n",
       "      <th>697</th>\n",
       "      <td>1.386294</td>\n",
       "      <td>2.079442</td>\n",
       "      <td>1.791759</td>\n",
       "      <td>1.386294</td>\n",
       "      <td>1.098612</td>\n",
       "      <td>1.386294</td>\n",
       "      <td>2.302585</td>\n",
       "      <td>1.791759</td>\n",
       "      <td>0.000000</td>\n",
       "      <td>1</td>\n",
       "    </tr>\n",
       "    <tr>\n",
       "      <th>698</th>\n",
       "      <td>1.386294</td>\n",
       "      <td>2.079442</td>\n",
       "      <td>2.079442</td>\n",
       "      <td>1.609438</td>\n",
       "      <td>1.386294</td>\n",
       "      <td>1.609438</td>\n",
       "      <td>2.302585</td>\n",
       "      <td>1.386294</td>\n",
       "      <td>0.000000</td>\n",
       "      <td>1</td>\n",
       "    </tr>\n",
       "  </tbody>\n",
       "</table>\n",
       "<p>699 rows × 10 columns</p>\n",
       "</div>"
      ],
      "text/plain": [
       "     Clump_thickness  Uniformity_of_cell_size  Uniformity_of_cell_shape  \\\n",
       "0           1.609438                 0.000000                  0.000000   \n",
       "1           1.609438                 1.386294                  1.386294   \n",
       "2           1.098612                 0.000000                  0.000000   \n",
       "3           1.791759                 2.079442                  2.079442   \n",
       "4           1.386294                 0.000000                  0.000000   \n",
       "..               ...                      ...                       ...   \n",
       "694         1.098612                 0.000000                  0.000000   \n",
       "695         0.693147                 0.000000                  0.000000   \n",
       "696         1.609438                 2.302585                  2.302585   \n",
       "697         1.386294                 2.079442                  1.791759   \n",
       "698         1.386294                 2.079442                  2.079442   \n",
       "\n",
       "     Marginal_adhesion  Single_epithelial_cell_size  Bare_nuclei  \\\n",
       "0             0.000000                     0.693147     0.000000   \n",
       "1             1.609438                     1.945910     2.302585   \n",
       "2             0.000000                     0.693147     0.693147   \n",
       "3             0.000000                     1.098612     1.386294   \n",
       "4             1.098612                     0.693147     0.000000   \n",
       "..                 ...                          ...          ...   \n",
       "694           0.000000                     1.098612     0.693147   \n",
       "695           0.000000                     0.693147     0.000000   \n",
       "696           1.098612                     1.945910     1.098612   \n",
       "697           1.386294                     1.098612     1.386294   \n",
       "698           1.609438                     1.386294     1.609438   \n",
       "\n",
       "     Bland_chromatin  Normal_nucleoli   Mitoses  Class  \n",
       "0           1.098612         0.000000  0.000000      0  \n",
       "1           1.098612         0.693147  0.000000      0  \n",
       "2           1.098612         0.000000  0.000000      0  \n",
       "3           1.098612         1.945910  0.000000      0  \n",
       "4           1.098612         0.000000  0.000000      0  \n",
       "..               ...              ...       ...    ...  \n",
       "694         0.000000         0.000000  0.000000      0  \n",
       "695         0.000000         0.000000  0.000000      0  \n",
       "696         2.079442         2.302585  0.693147      1  \n",
       "697         2.302585         1.791759  0.000000      1  \n",
       "698         2.302585         1.386294  0.000000      1  \n",
       "\n",
       "[699 rows x 10 columns]"
      ]
     },
     "metadata": {},
     "output_type": "display_data"
    },
    {
     "data": {
      "text/html": [
       "<div>\n",
       "<style scoped>\n",
       "    .dataframe tbody tr th:only-of-type {\n",
       "        vertical-align: middle;\n",
       "    }\n",
       "\n",
       "    .dataframe tbody tr th {\n",
       "        vertical-align: top;\n",
       "    }\n",
       "\n",
       "    .dataframe thead th {\n",
       "        text-align: right;\n",
       "    }\n",
       "</style>\n",
       "<table border=\"1\" class=\"dataframe\">\n",
       "  <thead>\n",
       "    <tr style=\"text-align: right;\">\n",
       "      <th></th>\n",
       "      <th>Clump_thickness</th>\n",
       "      <th>Uniformity_of_cell_size</th>\n",
       "      <th>Uniformity_of_cell_shape</th>\n",
       "      <th>Marginal_adhesion</th>\n",
       "      <th>Single_epithelial_cell_size</th>\n",
       "      <th>Bare_nuclei</th>\n",
       "      <th>Bland_chromatin</th>\n",
       "      <th>Normal_nucleoli</th>\n",
       "      <th>Mitoses</th>\n",
       "      <th>Class</th>\n",
       "    </tr>\n",
       "  </thead>\n",
       "  <tbody>\n",
       "    <tr>\n",
       "      <th>0</th>\n",
       "      <td>1.609438</td>\n",
       "      <td>0.000000</td>\n",
       "      <td>0.000000</td>\n",
       "      <td>0.000000</td>\n",
       "      <td>0.693147</td>\n",
       "      <td>0.000000</td>\n",
       "      <td>1.098612</td>\n",
       "      <td>0.000000</td>\n",
       "      <td>0.000000</td>\n",
       "      <td>0</td>\n",
       "    </tr>\n",
       "    <tr>\n",
       "      <th>1</th>\n",
       "      <td>1.609438</td>\n",
       "      <td>1.386294</td>\n",
       "      <td>1.386294</td>\n",
       "      <td>1.609438</td>\n",
       "      <td>1.945910</td>\n",
       "      <td>2.302585</td>\n",
       "      <td>1.098612</td>\n",
       "      <td>0.693147</td>\n",
       "      <td>0.000000</td>\n",
       "      <td>0</td>\n",
       "    </tr>\n",
       "    <tr>\n",
       "      <th>2</th>\n",
       "      <td>1.098612</td>\n",
       "      <td>0.000000</td>\n",
       "      <td>0.000000</td>\n",
       "      <td>0.000000</td>\n",
       "      <td>0.693147</td>\n",
       "      <td>0.693147</td>\n",
       "      <td>1.098612</td>\n",
       "      <td>0.000000</td>\n",
       "      <td>0.000000</td>\n",
       "      <td>0</td>\n",
       "    </tr>\n",
       "    <tr>\n",
       "      <th>3</th>\n",
       "      <td>1.791759</td>\n",
       "      <td>2.079442</td>\n",
       "      <td>2.079442</td>\n",
       "      <td>0.000000</td>\n",
       "      <td>1.098612</td>\n",
       "      <td>1.386294</td>\n",
       "      <td>1.098612</td>\n",
       "      <td>1.945910</td>\n",
       "      <td>0.000000</td>\n",
       "      <td>0</td>\n",
       "    </tr>\n",
       "    <tr>\n",
       "      <th>4</th>\n",
       "      <td>1.386294</td>\n",
       "      <td>0.000000</td>\n",
       "      <td>0.000000</td>\n",
       "      <td>1.098612</td>\n",
       "      <td>0.693147</td>\n",
       "      <td>0.000000</td>\n",
       "      <td>1.098612</td>\n",
       "      <td>0.000000</td>\n",
       "      <td>0.000000</td>\n",
       "      <td>0</td>\n",
       "    </tr>\n",
       "    <tr>\n",
       "      <th>...</th>\n",
       "      <td>...</td>\n",
       "      <td>...</td>\n",
       "      <td>...</td>\n",
       "      <td>...</td>\n",
       "      <td>...</td>\n",
       "      <td>...</td>\n",
       "      <td>...</td>\n",
       "      <td>...</td>\n",
       "      <td>...</td>\n",
       "      <td>...</td>\n",
       "    </tr>\n",
       "    <tr>\n",
       "      <th>694</th>\n",
       "      <td>1.098612</td>\n",
       "      <td>0.000000</td>\n",
       "      <td>0.000000</td>\n",
       "      <td>0.000000</td>\n",
       "      <td>1.098612</td>\n",
       "      <td>0.693147</td>\n",
       "      <td>0.000000</td>\n",
       "      <td>0.000000</td>\n",
       "      <td>0.000000</td>\n",
       "      <td>0</td>\n",
       "    </tr>\n",
       "    <tr>\n",
       "      <th>695</th>\n",
       "      <td>0.693147</td>\n",
       "      <td>0.000000</td>\n",
       "      <td>0.000000</td>\n",
       "      <td>0.000000</td>\n",
       "      <td>0.693147</td>\n",
       "      <td>0.000000</td>\n",
       "      <td>0.000000</td>\n",
       "      <td>0.000000</td>\n",
       "      <td>0.000000</td>\n",
       "      <td>0</td>\n",
       "    </tr>\n",
       "    <tr>\n",
       "      <th>696</th>\n",
       "      <td>1.609438</td>\n",
       "      <td>2.302585</td>\n",
       "      <td>2.302585</td>\n",
       "      <td>1.098612</td>\n",
       "      <td>1.945910</td>\n",
       "      <td>1.098612</td>\n",
       "      <td>2.079442</td>\n",
       "      <td>2.302585</td>\n",
       "      <td>0.693147</td>\n",
       "      <td>1</td>\n",
       "    </tr>\n",
       "    <tr>\n",
       "      <th>697</th>\n",
       "      <td>1.386294</td>\n",
       "      <td>2.079442</td>\n",
       "      <td>1.791759</td>\n",
       "      <td>1.386294</td>\n",
       "      <td>1.098612</td>\n",
       "      <td>1.386294</td>\n",
       "      <td>2.302585</td>\n",
       "      <td>1.791759</td>\n",
       "      <td>0.000000</td>\n",
       "      <td>1</td>\n",
       "    </tr>\n",
       "    <tr>\n",
       "      <th>698</th>\n",
       "      <td>1.386294</td>\n",
       "      <td>2.079442</td>\n",
       "      <td>2.079442</td>\n",
       "      <td>1.609438</td>\n",
       "      <td>1.386294</td>\n",
       "      <td>1.609438</td>\n",
       "      <td>2.302585</td>\n",
       "      <td>1.386294</td>\n",
       "      <td>0.000000</td>\n",
       "      <td>1</td>\n",
       "    </tr>\n",
       "  </tbody>\n",
       "</table>\n",
       "<p>683 rows × 10 columns</p>\n",
       "</div>"
      ],
      "text/plain": [
       "     Clump_thickness  Uniformity_of_cell_size  Uniformity_of_cell_shape  \\\n",
       "0           1.609438                 0.000000                  0.000000   \n",
       "1           1.609438                 1.386294                  1.386294   \n",
       "2           1.098612                 0.000000                  0.000000   \n",
       "3           1.791759                 2.079442                  2.079442   \n",
       "4           1.386294                 0.000000                  0.000000   \n",
       "..               ...                      ...                       ...   \n",
       "694         1.098612                 0.000000                  0.000000   \n",
       "695         0.693147                 0.000000                  0.000000   \n",
       "696         1.609438                 2.302585                  2.302585   \n",
       "697         1.386294                 2.079442                  1.791759   \n",
       "698         1.386294                 2.079442                  2.079442   \n",
       "\n",
       "     Marginal_adhesion  Single_epithelial_cell_size  Bare_nuclei  \\\n",
       "0             0.000000                     0.693147     0.000000   \n",
       "1             1.609438                     1.945910     2.302585   \n",
       "2             0.000000                     0.693147     0.693147   \n",
       "3             0.000000                     1.098612     1.386294   \n",
       "4             1.098612                     0.693147     0.000000   \n",
       "..                 ...                          ...          ...   \n",
       "694           0.000000                     1.098612     0.693147   \n",
       "695           0.000000                     0.693147     0.000000   \n",
       "696           1.098612                     1.945910     1.098612   \n",
       "697           1.386294                     1.098612     1.386294   \n",
       "698           1.609438                     1.386294     1.609438   \n",
       "\n",
       "     Bland_chromatin  Normal_nucleoli   Mitoses  Class  \n",
       "0           1.098612         0.000000  0.000000      0  \n",
       "1           1.098612         0.693147  0.000000      0  \n",
       "2           1.098612         0.000000  0.000000      0  \n",
       "3           1.098612         1.945910  0.000000      0  \n",
       "4           1.098612         0.000000  0.000000      0  \n",
       "..               ...              ...       ...    ...  \n",
       "694         0.000000         0.000000  0.000000      0  \n",
       "695         0.000000         0.000000  0.000000      0  \n",
       "696         2.079442         2.302585  0.693147      1  \n",
       "697         2.302585         1.791759  0.000000      1  \n",
       "698         2.302585         1.386294  0.000000      1  \n",
       "\n",
       "[683 rows x 10 columns]"
      ]
     },
     "metadata": {},
     "output_type": "display_data"
    }
   ],
   "source": [
    "def f(i): return 0 if i < 1 else 1\n",
    "\n",
    "log_data['Class'] = log_data['Class'].map(f)\n",
    "log_na_dropped['Class'] = log_na_dropped['Class'].map(f)\n",
    "\n",
    "display(log_data)\n",
    "display(log_na_dropped)"
   ]
  },
  {
   "cell_type": "markdown",
   "metadata": {},
   "source": [
    "Şimdi özellikler arasındaki korelasyonları biraz daha inceleyelim."
   ]
  },
  {
   "cell_type": "code",
   "execution_count": 12,
   "metadata": {},
   "outputs": [
    {
     "data": {
      "text/plain": [
       "<AxesSubplot: >"
      ]
     },
     "execution_count": 12,
     "metadata": {},
     "output_type": "execute_result"
    },
    {
     "data": {
      "image/png": "[encoded data removed]",
      "text/plain": [
       "<Figure size 800x600 with 2 Axes>"
      ]
     },
     "metadata": {},
     "output_type": "display_data"
    }
   ],
   "source": [
    "plt.figure(figsize=(8, 6))\n",
    "\n",
    "corr = log_data.corr()\n",
    "sns.heatmap(data=corr, annot=True, fmt='.2f', cmap='viridis')"
   ]
  },
  {
   "cell_type": "markdown",
   "metadata": {},
   "source": [
    "İncelediğimizde birkaçı dışında genel olarak çoğu ilişkinin güçlü olduğunu görüyoruz. Bu da özelliklerden pek fazla temizlik yapmamızın gerekli olmayacağına dair inancımızı artırıyor. Şimdi outlier kontrolü yapalım."
   ]
  },
  {
   "cell_type": "code",
   "execution_count": 13,
   "metadata": {},
   "outputs": [],
   "source": [
    "def outlier_finder(data):\n",
    "    Q1 = data.quantile(0.25)\n",
    "    Q3 = data.quantile(0.75)\n",
    "    IQR = Q3 - Q1\n",
    "\n",
    "    inner_lower_fence = Q1 - 1.5*IQR\n",
    "    inner_upper_fence = Q3 + 1.5*IQR\n",
    "\n",
    "    outer_lower_fence = Q1 - 3*IQR\n",
    "    outer_upper_fence = Q3 + 3*IQR\n",
    "\n",
    "    mild_outliers = [i for i in data if (i < inner_lower_fence and i > outer_lower_fence) or (i > inner_upper_fence and i < outer_upper_fence)]\n",
    "    extreme_outliers = [i for i in data if i < outer_lower_fence or i > outer_upper_fence]\n",
    "\n",
    "    return mild_outliers, extreme_outliers\n",
    "\n",
    "\n",
    "def outlier_printer(outliers, feature):\n",
    "    mild_outliers = outliers[0]\n",
    "    extreme_outliers = outliers[1]\n",
    "    \n",
    "    if len(mild_outliers) != 0:\n",
    "        o1 = f\"{feature} özelliğinde {len(mild_outliers)} mild outlier var.\"\n",
    "        o2 = f\"{mild_outliers[0]}, {feature} özelliği için bir mild outlier.\"\n",
    "\n",
    "        print(o1)\n",
    "        print(\"-\"*len(o1 if len(o1) > len(o2) else o2))\n",
    "        \n",
    "        for i in mild_outliers:\n",
    "            print(f\"{i}, {feature} özelliği için bir mild outlier.\")\n",
    "\n",
    "        print()\n",
    "\n",
    "    if len(extreme_outliers) != 0:\n",
    "        o1 = f\"{feature} özelliğinde {len(extreme_outliers)} extreme outlier var.\"\n",
    "        o2 = f\"{extreme_outliers[0]}, {feature} özelliği için bir extreme outlier.\"\n",
    "\n",
    "        print(o1)\n",
    "        print(\"-\"*len(o1 if len(o1) > len(o2) else o2))\n",
    "        \n",
    "        for i in extreme_outliers:\n",
    "            print(f\"{i}, {feature} özelliği için bir extreme outlier.\")"
   ]
  },
  {
   "cell_type": "code",
   "execution_count": 14,
   "metadata": {},
   "outputs": [
    {
     "name": "stdout",
     "output_type": "stream",
     "text": [
      "Clump_thickness kolonundaki outlierlar:\n",
      "---------------------------------------\n",
      "\n",
      "\n",
      "Uniformity_of_cell_size kolonundaki outlierlar:\n",
      "-----------------------------------------------\n",
      "\n",
      "\n",
      "Uniformity_of_cell_shape kolonundaki outlierlar:\n",
      "------------------------------------------------\n",
      "\n",
      "\n",
      "Marginal_adhesion kolonundaki outlierlar:\n",
      "-----------------------------------------\n",
      "\n",
      "\n",
      "Single_epithelial_cell_size kolonundaki outlierlar:\n",
      "---------------------------------------------------\n",
      "\n",
      "\n",
      "Bare_nuclei kolonundaki outlierlar:\n",
      "-----------------------------------\n",
      "\n",
      "\n",
      "Bland_chromatin kolonundaki outlierlar:\n",
      "---------------------------------------\n",
      "\n",
      "\n",
      "Normal_nucleoli kolonundaki outlierlar:\n",
      "---------------------------------------\n",
      "\n",
      "\n",
      "Mitoses kolonundaki outlierlar:\n",
      "-------------------------------\n",
      "Mitoses özelliğinde 120 extreme outlier var.\n",
      "--------------------------------------------------------------\n",
      "1.6094379124341003, Mitoses özelliği için bir extreme outlier.\n",
      "1.3862943611198906, Mitoses özelliği için bir extreme outlier.\n",
      "0.6931471805599453, Mitoses özelliği için bir extreme outlier.\n",
      "1.3862943611198906, Mitoses özelliği için bir extreme outlier.\n",
      "1.0986122886681098, Mitoses özelliği için bir extreme outlier.\n",
      "0.6931471805599453, Mitoses özelliği için bir extreme outlier.\n",
      "1.0986122886681098, Mitoses özelliği için bir extreme outlier.\n",
      "0.6931471805599453, Mitoses özelliği için bir extreme outlier.\n",
      "0.6931471805599453, Mitoses özelliği için bir extreme outlier.\n",
      "1.6094379124341003, Mitoses özelliği için bir extreme outlier.\n",
      "0.6931471805599453, Mitoses özelliği için bir extreme outlier.\n",
      "1.9459101490553132, Mitoses özelliği için bir extreme outlier.\n",
      "1.3862943611198906, Mitoses özelliği için bir extreme outlier.\n",
      "2.302585092994046, Mitoses özelliği için bir extreme outlier.\n",
      "2.0794415416798357, Mitoses özelliği için bir extreme outlier.\n",
      "2.302585092994046, Mitoses özelliği için bir extreme outlier.\n",
      "1.0986122886681098, Mitoses özelliği için bir extreme outlier.\n",
      "1.9459101490553132, Mitoses özelliği için bir extreme outlier.\n",
      "2.302585092994046, Mitoses özelliği için bir extreme outlier.\n",
      "1.0986122886681098, Mitoses özelliği için bir extreme outlier.\n",
      "2.302585092994046, Mitoses özelliği için bir extreme outlier.\n",
      "1.3862943611198906, Mitoses özelliği için bir extreme outlier.\n",
      "0.6931471805599453, Mitoses özelliği için bir extreme outlier.\n",
      "2.0794415416798357, Mitoses özelliği için bir extreme outlier.\n",
      "1.9459101490553132, Mitoses özelliği için bir extreme outlier.\n",
      "1.0986122886681098, Mitoses özelliği için bir extreme outlier.\n",
      "0.6931471805599453, Mitoses özelliği için bir extreme outlier.\n",
      "1.0986122886681098, Mitoses özelliği için bir extreme outlier.\n",
      "2.0794415416798357, Mitoses özelliği için bir extreme outlier.\n",
      "1.0986122886681098, Mitoses özelliği için bir extreme outlier.\n",
      "1.6094379124341003, Mitoses özelliği için bir extreme outlier.\n",
      "0.6931471805599453, Mitoses özelliği için bir extreme outlier.\n",
      "1.0986122886681098, Mitoses özelliği için bir extreme outlier.\n",
      "1.0986122886681098, Mitoses özelliği için bir extreme outlier.\n",
      "1.9459101490553132, Mitoses özelliği için bir extreme outlier.\n",
      "1.0986122886681098, Mitoses özelliği için bir extreme outlier.\n",
      "1.791759469228055, Mitoses özelliği için bir extreme outlier.\n",
      "0.6931471805599453, Mitoses özelliği için bir extreme outlier.\n",
      "1.9459101490553132, Mitoses özelliği için bir extreme outlier.\n",
      "1.0986122886681098, Mitoses özelliği için bir extreme outlier.\n",
      "2.302585092994046, Mitoses özelliği için bir extreme outlier.\n",
      "1.9459101490553132, Mitoses özelliği için bir extreme outlier.\n",
      "1.0986122886681098, Mitoses özelliği için bir extreme outlier.\n",
      "2.302585092994046, Mitoses özelliği için bir extreme outlier.\n",
      "1.0986122886681098, Mitoses özelliği için bir extreme outlier.\n",
      "0.6931471805599453, Mitoses özelliği için bir extreme outlier.\n",
      "1.0986122886681098, Mitoses özelliği için bir extreme outlier.\n",
      "1.6094379124341003, Mitoses özelliği için bir extreme outlier.\n",
      "1.791759469228055, Mitoses özelliği için bir extreme outlier.\n",
      "1.3862943611198906, Mitoses özelliği için bir extreme outlier.\n",
      "0.6931471805599453, Mitoses özelliği için bir extreme outlier.\n",
      "0.6931471805599453, Mitoses özelliği için bir extreme outlier.\n",
      "0.6931471805599453, Mitoses özelliği için bir extreme outlier.\n",
      "0.6931471805599453, Mitoses özelliği için bir extreme outlier.\n",
      "2.302585092994046, Mitoses özelliği için bir extreme outlier.\n",
      "1.3862943611198906, Mitoses özelliği için bir extreme outlier.\n",
      "2.302585092994046, Mitoses özelliği için bir extreme outlier.\n",
      "0.6931471805599453, Mitoses özelliği için bir extreme outlier.\n",
      "1.0986122886681098, Mitoses özelliği için bir extreme outlier.\n",
      "1.0986122886681098, Mitoses özelliği için bir extreme outlier.\n",
      "1.0986122886681098, Mitoses özelliği için bir extreme outlier.\n",
      "1.0986122886681098, Mitoses özelliği için bir extreme outlier.\n",
      "1.6094379124341003, Mitoses özelliği için bir extreme outlier.\n",
      "1.0986122886681098, Mitoses özelliği için bir extreme outlier.\n",
      "0.6931471805599453, Mitoses özelliği için bir extreme outlier.\n",
      "2.0794415416798357, Mitoses özelliği için bir extreme outlier.\n",
      "0.6931471805599453, Mitoses özelliği için bir extreme outlier.\n",
      "2.0794415416798357, Mitoses özelliği için bir extreme outlier.\n",
      "0.6931471805599453, Mitoses özelliği için bir extreme outlier.\n",
      "1.0986122886681098, Mitoses özelliği için bir extreme outlier.\n",
      "2.302585092994046, Mitoses özelliği için bir extreme outlier.\n",
      "1.3862943611198906, Mitoses özelliği için bir extreme outlier.\n",
      "0.6931471805599453, Mitoses özelliği için bir extreme outlier.\n",
      "2.302585092994046, Mitoses özelliği için bir extreme outlier.\n",
      "1.3862943611198906, Mitoses özelliği için bir extreme outlier.\n",
      "1.3862943611198906, Mitoses özelliği için bir extreme outlier.\n",
      "1.791759469228055, Mitoses özelliği için bir extreme outlier.\n",
      "0.6931471805599453, Mitoses özelliği için bir extreme outlier.\n",
      "0.6931471805599453, Mitoses özelliği için bir extreme outlier.\n",
      "1.0986122886681098, Mitoses özelliği için bir extreme outlier.\n",
      "1.3862943611198906, Mitoses özelliği için bir extreme outlier.\n",
      "1.0986122886681098, Mitoses özelliği için bir extreme outlier.\n",
      "2.0794415416798357, Mitoses özelliği için bir extreme outlier.\n",
      "1.0986122886681098, Mitoses özelliği için bir extreme outlier.\n",
      "1.0986122886681098, Mitoses özelliği için bir extreme outlier.\n",
      "2.302585092994046, Mitoses özelliği için bir extreme outlier.\n",
      "1.3862943611198906, Mitoses özelliği için bir extreme outlier.\n",
      "1.9459101490553132, Mitoses özelliği için bir extreme outlier.\n",
      "1.0986122886681098, Mitoses özelliği için bir extreme outlier.\n",
      "1.3862943611198906, Mitoses özelliği için bir extreme outlier.\n",
      "1.0986122886681098, Mitoses özelliği için bir extreme outlier.\n",
      "2.0794415416798357, Mitoses özelliği için bir extreme outlier.\n",
      "0.6931471805599453, Mitoses özelliği için bir extreme outlier.\n",
      "0.6931471805599453, Mitoses özelliği için bir extreme outlier.\n",
      "1.0986122886681098, Mitoses özelliği için bir extreme outlier.\n",
      "0.6931471805599453, Mitoses özelliği için bir extreme outlier.\n",
      "2.302585092994046, Mitoses özelliği için bir extreme outlier.\n",
      "1.6094379124341003, Mitoses özelliği için bir extreme outlier.\n",
      "0.6931471805599453, Mitoses özelliği için bir extreme outlier.\n",
      "1.9459101490553132, Mitoses özelliği için bir extreme outlier.\n",
      "0.6931471805599453, Mitoses özelliği için bir extreme outlier.\n",
      "0.6931471805599453, Mitoses özelliği için bir extreme outlier.\n",
      "0.6931471805599453, Mitoses özelliği için bir extreme outlier.\n",
      "0.6931471805599453, Mitoses özelliği için bir extreme outlier.\n",
      "0.6931471805599453, Mitoses özelliği için bir extreme outlier.\n",
      "0.6931471805599453, Mitoses özelliği için bir extreme outlier.\n",
      "1.0986122886681098, Mitoses özelliği için bir extreme outlier.\n",
      "0.6931471805599453, Mitoses özelliği için bir extreme outlier.\n",
      "2.302585092994046, Mitoses özelliği için bir extreme outlier.\n",
      "1.0986122886681098, Mitoses özelliği için bir extreme outlier.\n",
      "1.0986122886681098, Mitoses özelliği için bir extreme outlier.\n",
      "2.302585092994046, Mitoses özelliği için bir extreme outlier.\n",
      "1.0986122886681098, Mitoses özelliği için bir extreme outlier.\n",
      "0.6931471805599453, Mitoses özelliği için bir extreme outlier.\n",
      "1.0986122886681098, Mitoses özelliği için bir extreme outlier.\n",
      "1.9459101490553132, Mitoses özelliği için bir extreme outlier.\n",
      "1.0986122886681098, Mitoses özelliği için bir extreme outlier.\n",
      "2.0794415416798357, Mitoses özelliği için bir extreme outlier.\n",
      "0.6931471805599453, Mitoses özelliği için bir extreme outlier.\n",
      "0.6931471805599453, Mitoses özelliği için bir extreme outlier.\n",
      "\n",
      "\n",
      "Class kolonundaki outlierlar:\n",
      "-----------------------------\n"
     ]
    }
   ],
   "source": [
    "outliers_d = {}\n",
    "\n",
    "for column in log_data.columns:\n",
    "    print(f\"{column} kolonundaki outlierlar:\")\n",
    "    print(\"-\"*len(f\"{column} kolonundaki outlierlar:\"))\n",
    "    outliers = outlier_finder(log_data[column])\n",
    "    outlier_printer(outliers, column)\n",
    "    outliers_d[column] = outliers\n",
    "    if column != log_data.columns[-1]:\n",
    "        print(\"\\n\")"
   ]
  },
  {
   "cell_type": "code",
   "execution_count": 15,
   "metadata": {},
   "outputs": [
    {
     "name": "stdout",
     "output_type": "stream",
     "text": [
      "Clump_thickness kolonundaki outlierlar:\n",
      "---------------------------------------\n",
      "\n",
      "\n",
      "Uniformity_of_cell_size kolonundaki outlierlar:\n",
      "-----------------------------------------------\n",
      "\n",
      "\n",
      "Uniformity_of_cell_shape kolonundaki outlierlar:\n",
      "------------------------------------------------\n",
      "\n",
      "\n",
      "Marginal_adhesion kolonundaki outlierlar:\n",
      "-----------------------------------------\n",
      "\n",
      "\n",
      "Single_epithelial_cell_size kolonundaki outlierlar:\n",
      "---------------------------------------------------\n",
      "\n",
      "\n",
      "Bare_nuclei kolonundaki outlierlar:\n",
      "-----------------------------------\n",
      "\n",
      "\n",
      "Bland_chromatin kolonundaki outlierlar:\n",
      "---------------------------------------\n",
      "\n",
      "\n",
      "Normal_nucleoli kolonundaki outlierlar:\n",
      "---------------------------------------\n",
      "\n",
      "\n",
      "Mitoses kolonundaki outlierlar:\n",
      "-------------------------------\n",
      "Mitoses özelliğinde 120 extreme outlier var.\n",
      "--------------------------------------------------------------\n",
      "1.6094379124341003, Mitoses özelliği için bir extreme outlier.\n",
      "1.3862943611198906, Mitoses özelliği için bir extreme outlier.\n",
      "0.6931471805599453, Mitoses özelliği için bir extreme outlier.\n",
      "1.3862943611198906, Mitoses özelliği için bir extreme outlier.\n",
      "1.0986122886681098, Mitoses özelliği için bir extreme outlier.\n",
      "0.6931471805599453, Mitoses özelliği için bir extreme outlier.\n",
      "1.0986122886681098, Mitoses özelliği için bir extreme outlier.\n",
      "0.6931471805599453, Mitoses özelliği için bir extreme outlier.\n",
      "0.6931471805599453, Mitoses özelliği için bir extreme outlier.\n",
      "1.6094379124341003, Mitoses özelliği için bir extreme outlier.\n",
      "0.6931471805599453, Mitoses özelliği için bir extreme outlier.\n",
      "1.9459101490553132, Mitoses özelliği için bir extreme outlier.\n",
      "1.3862943611198906, Mitoses özelliği için bir extreme outlier.\n",
      "2.302585092994046, Mitoses özelliği için bir extreme outlier.\n",
      "2.0794415416798357, Mitoses özelliği için bir extreme outlier.\n",
      "2.302585092994046, Mitoses özelliği için bir extreme outlier.\n",
      "1.0986122886681098, Mitoses özelliği için bir extreme outlier.\n",
      "1.9459101490553132, Mitoses özelliği için bir extreme outlier.\n",
      "2.302585092994046, Mitoses özelliği için bir extreme outlier.\n",
      "1.0986122886681098, Mitoses özelliği için bir extreme outlier.\n",
      "2.302585092994046, Mitoses özelliği için bir extreme outlier.\n",
      "1.3862943611198906, Mitoses özelliği için bir extreme outlier.\n",
      "0.6931471805599453, Mitoses özelliği için bir extreme outlier.\n",
      "2.0794415416798357, Mitoses özelliği için bir extreme outlier.\n",
      "1.9459101490553132, Mitoses özelliği için bir extreme outlier.\n",
      "1.0986122886681098, Mitoses özelliği için bir extreme outlier.\n",
      "0.6931471805599453, Mitoses özelliği için bir extreme outlier.\n",
      "1.0986122886681098, Mitoses özelliği için bir extreme outlier.\n",
      "2.0794415416798357, Mitoses özelliği için bir extreme outlier.\n",
      "1.0986122886681098, Mitoses özelliği için bir extreme outlier.\n",
      "1.6094379124341003, Mitoses özelliği için bir extreme outlier.\n",
      "0.6931471805599453, Mitoses özelliği için bir extreme outlier.\n",
      "1.0986122886681098, Mitoses özelliği için bir extreme outlier.\n",
      "1.0986122886681098, Mitoses özelliği için bir extreme outlier.\n",
      "1.9459101490553132, Mitoses özelliği için bir extreme outlier.\n",
      "1.0986122886681098, Mitoses özelliği için bir extreme outlier.\n",
      "1.791759469228055, Mitoses özelliği için bir extreme outlier.\n",
      "0.6931471805599453, Mitoses özelliği için bir extreme outlier.\n",
      "1.9459101490553132, Mitoses özelliği için bir extreme outlier.\n",
      "1.0986122886681098, Mitoses özelliği için bir extreme outlier.\n",
      "2.302585092994046, Mitoses özelliği için bir extreme outlier.\n",
      "1.9459101490553132, Mitoses özelliği için bir extreme outlier.\n",
      "1.0986122886681098, Mitoses özelliği için bir extreme outlier.\n",
      "2.302585092994046, Mitoses özelliği için bir extreme outlier.\n",
      "1.0986122886681098, Mitoses özelliği için bir extreme outlier.\n",
      "0.6931471805599453, Mitoses özelliği için bir extreme outlier.\n",
      "1.0986122886681098, Mitoses özelliği için bir extreme outlier.\n",
      "1.6094379124341003, Mitoses özelliği için bir extreme outlier.\n",
      "1.791759469228055, Mitoses özelliği için bir extreme outlier.\n",
      "1.3862943611198906, Mitoses özelliği için bir extreme outlier.\n",
      "0.6931471805599453, Mitoses özelliği için bir extreme outlier.\n",
      "0.6931471805599453, Mitoses özelliği için bir extreme outlier.\n",
      "0.6931471805599453, Mitoses özelliği için bir extreme outlier.\n",
      "0.6931471805599453, Mitoses özelliği için bir extreme outlier.\n",
      "2.302585092994046, Mitoses özelliği için bir extreme outlier.\n",
      "1.3862943611198906, Mitoses özelliği için bir extreme outlier.\n",
      "2.302585092994046, Mitoses özelliği için bir extreme outlier.\n",
      "0.6931471805599453, Mitoses özelliği için bir extreme outlier.\n",
      "1.0986122886681098, Mitoses özelliği için bir extreme outlier.\n",
      "1.0986122886681098, Mitoses özelliği için bir extreme outlier.\n",
      "1.0986122886681098, Mitoses özelliği için bir extreme outlier.\n",
      "1.0986122886681098, Mitoses özelliği için bir extreme outlier.\n",
      "1.6094379124341003, Mitoses özelliği için bir extreme outlier.\n",
      "1.0986122886681098, Mitoses özelliği için bir extreme outlier.\n",
      "0.6931471805599453, Mitoses özelliği için bir extreme outlier.\n",
      "2.0794415416798357, Mitoses özelliği için bir extreme outlier.\n",
      "0.6931471805599453, Mitoses özelliği için bir extreme outlier.\n",
      "2.0794415416798357, Mitoses özelliği için bir extreme outlier.\n",
      "0.6931471805599453, Mitoses özelliği için bir extreme outlier.\n",
      "1.0986122886681098, Mitoses özelliği için bir extreme outlier.\n",
      "2.302585092994046, Mitoses özelliği için bir extreme outlier.\n",
      "1.3862943611198906, Mitoses özelliği için bir extreme outlier.\n",
      "0.6931471805599453, Mitoses özelliği için bir extreme outlier.\n",
      "2.302585092994046, Mitoses özelliği için bir extreme outlier.\n",
      "1.3862943611198906, Mitoses özelliği için bir extreme outlier.\n",
      "1.3862943611198906, Mitoses özelliği için bir extreme outlier.\n",
      "1.791759469228055, Mitoses özelliği için bir extreme outlier.\n",
      "0.6931471805599453, Mitoses özelliği için bir extreme outlier.\n",
      "0.6931471805599453, Mitoses özelliği için bir extreme outlier.\n",
      "1.0986122886681098, Mitoses özelliği için bir extreme outlier.\n",
      "1.3862943611198906, Mitoses özelliği için bir extreme outlier.\n",
      "1.0986122886681098, Mitoses özelliği için bir extreme outlier.\n",
      "2.0794415416798357, Mitoses özelliği için bir extreme outlier.\n",
      "1.0986122886681098, Mitoses özelliği için bir extreme outlier.\n",
      "1.0986122886681098, Mitoses özelliği için bir extreme outlier.\n",
      "2.302585092994046, Mitoses özelliği için bir extreme outlier.\n",
      "1.3862943611198906, Mitoses özelliği için bir extreme outlier.\n",
      "1.9459101490553132, Mitoses özelliği için bir extreme outlier.\n",
      "1.0986122886681098, Mitoses özelliği için bir extreme outlier.\n",
      "1.3862943611198906, Mitoses özelliği için bir extreme outlier.\n",
      "1.0986122886681098, Mitoses özelliği için bir extreme outlier.\n",
      "2.0794415416798357, Mitoses özelliği için bir extreme outlier.\n",
      "0.6931471805599453, Mitoses özelliği için bir extreme outlier.\n",
      "0.6931471805599453, Mitoses özelliği için bir extreme outlier.\n",
      "1.0986122886681098, Mitoses özelliği için bir extreme outlier.\n",
      "0.6931471805599453, Mitoses özelliği için bir extreme outlier.\n",
      "2.302585092994046, Mitoses özelliği için bir extreme outlier.\n",
      "1.6094379124341003, Mitoses özelliği için bir extreme outlier.\n",
      "0.6931471805599453, Mitoses özelliği için bir extreme outlier.\n",
      "1.9459101490553132, Mitoses özelliği için bir extreme outlier.\n",
      "0.6931471805599453, Mitoses özelliği için bir extreme outlier.\n",
      "0.6931471805599453, Mitoses özelliği için bir extreme outlier.\n",
      "0.6931471805599453, Mitoses özelliği için bir extreme outlier.\n",
      "0.6931471805599453, Mitoses özelliği için bir extreme outlier.\n",
      "0.6931471805599453, Mitoses özelliği için bir extreme outlier.\n",
      "0.6931471805599453, Mitoses özelliği için bir extreme outlier.\n",
      "1.0986122886681098, Mitoses özelliği için bir extreme outlier.\n",
      "0.6931471805599453, Mitoses özelliği için bir extreme outlier.\n",
      "2.302585092994046, Mitoses özelliği için bir extreme outlier.\n",
      "1.0986122886681098, Mitoses özelliği için bir extreme outlier.\n",
      "1.0986122886681098, Mitoses özelliği için bir extreme outlier.\n",
      "2.302585092994046, Mitoses özelliği için bir extreme outlier.\n",
      "1.0986122886681098, Mitoses özelliği için bir extreme outlier.\n",
      "0.6931471805599453, Mitoses özelliği için bir extreme outlier.\n",
      "1.0986122886681098, Mitoses özelliği için bir extreme outlier.\n",
      "1.9459101490553132, Mitoses özelliği için bir extreme outlier.\n",
      "1.0986122886681098, Mitoses özelliği için bir extreme outlier.\n",
      "2.0794415416798357, Mitoses özelliği için bir extreme outlier.\n",
      "0.6931471805599453, Mitoses özelliği için bir extreme outlier.\n",
      "0.6931471805599453, Mitoses özelliği için bir extreme outlier.\n",
      "\n",
      "\n",
      "Class kolonundaki outlierlar:\n",
      "-----------------------------\n"
     ]
    }
   ],
   "source": [
    "outliers_d_no_na = {}\n",
    "\n",
    "for column in log_na_dropped.columns:\n",
    "    print(f\"{column} kolonundaki outlierlar:\")\n",
    "    print(\"-\"*len(f\"{column} kolonundaki outlierlar:\"))\n",
    "    outliers = outlier_finder(log_na_dropped[column])\n",
    "    outlier_printer(outliers, column)\n",
    "    outliers_d_no_na[column] = outliers\n",
    "    if column != log_na_dropped.columns[-1]:\n",
    "        print(\"\\n\")"
   ]
  },
  {
   "cell_type": "markdown",
   "metadata": {},
   "source": [
    "Tahmin ettiğimiz ve boxplotlardan da gördüğümüz üzere Mitoses özelliği dışında bir sorun görünmüyor. Outlierları attığımız, atmadığımız ve NaN ile değiştirip yerine impute yaptığımız 3 ayrı kategoride setler oluşturacağız ve hepsini detaylıca tüm modeller için deneyeceğiz."
   ]
  },
  {
   "cell_type": "code",
   "execution_count": 16,
   "metadata": {},
   "outputs": [],
   "source": [
    "with_outliers = log_data.copy()\n",
    "with_outliers_na_dropped = log_na_dropped.copy()"
   ]
  },
  {
   "cell_type": "code",
   "execution_count": 17,
   "metadata": {},
   "outputs": [
    {
     "data": {
      "text/html": [
       "<div>\n",
       "<style scoped>\n",
       "    .dataframe tbody tr th:only-of-type {\n",
       "        vertical-align: middle;\n",
       "    }\n",
       "\n",
       "    .dataframe tbody tr th {\n",
       "        vertical-align: top;\n",
       "    }\n",
       "\n",
       "    .dataframe thead th {\n",
       "        text-align: right;\n",
       "    }\n",
       "</style>\n",
       "<table border=\"1\" class=\"dataframe\">\n",
       "  <thead>\n",
       "    <tr style=\"text-align: right;\">\n",
       "      <th></th>\n",
       "      <th>Clump_thickness</th>\n",
       "      <th>Uniformity_of_cell_size</th>\n",
       "      <th>Uniformity_of_cell_shape</th>\n",
       "      <th>Marginal_adhesion</th>\n",
       "      <th>Single_epithelial_cell_size</th>\n",
       "      <th>Bare_nuclei</th>\n",
       "      <th>Bland_chromatin</th>\n",
       "      <th>Normal_nucleoli</th>\n",
       "      <th>Mitoses</th>\n",
       "      <th>Class</th>\n",
       "    </tr>\n",
       "  </thead>\n",
       "  <tbody>\n",
       "    <tr>\n",
       "      <th>0</th>\n",
       "      <td>1.609438</td>\n",
       "      <td>0.000000</td>\n",
       "      <td>0.000000</td>\n",
       "      <td>0.000000</td>\n",
       "      <td>0.693147</td>\n",
       "      <td>0.000000</td>\n",
       "      <td>1.098612</td>\n",
       "      <td>0.000000</td>\n",
       "      <td>0.0</td>\n",
       "      <td>0</td>\n",
       "    </tr>\n",
       "    <tr>\n",
       "      <th>1</th>\n",
       "      <td>1.609438</td>\n",
       "      <td>1.386294</td>\n",
       "      <td>1.386294</td>\n",
       "      <td>1.609438</td>\n",
       "      <td>1.945910</td>\n",
       "      <td>2.302585</td>\n",
       "      <td>1.098612</td>\n",
       "      <td>0.693147</td>\n",
       "      <td>0.0</td>\n",
       "      <td>0</td>\n",
       "    </tr>\n",
       "    <tr>\n",
       "      <th>2</th>\n",
       "      <td>1.098612</td>\n",
       "      <td>0.000000</td>\n",
       "      <td>0.000000</td>\n",
       "      <td>0.000000</td>\n",
       "      <td>0.693147</td>\n",
       "      <td>0.693147</td>\n",
       "      <td>1.098612</td>\n",
       "      <td>0.000000</td>\n",
       "      <td>0.0</td>\n",
       "      <td>0</td>\n",
       "    </tr>\n",
       "    <tr>\n",
       "      <th>3</th>\n",
       "      <td>1.791759</td>\n",
       "      <td>2.079442</td>\n",
       "      <td>2.079442</td>\n",
       "      <td>0.000000</td>\n",
       "      <td>1.098612</td>\n",
       "      <td>1.386294</td>\n",
       "      <td>1.098612</td>\n",
       "      <td>1.945910</td>\n",
       "      <td>0.0</td>\n",
       "      <td>0</td>\n",
       "    </tr>\n",
       "    <tr>\n",
       "      <th>4</th>\n",
       "      <td>1.386294</td>\n",
       "      <td>0.000000</td>\n",
       "      <td>0.000000</td>\n",
       "      <td>1.098612</td>\n",
       "      <td>0.693147</td>\n",
       "      <td>0.000000</td>\n",
       "      <td>1.098612</td>\n",
       "      <td>0.000000</td>\n",
       "      <td>0.0</td>\n",
       "      <td>0</td>\n",
       "    </tr>\n",
       "    <tr>\n",
       "      <th>...</th>\n",
       "      <td>...</td>\n",
       "      <td>...</td>\n",
       "      <td>...</td>\n",
       "      <td>...</td>\n",
       "      <td>...</td>\n",
       "      <td>...</td>\n",
       "      <td>...</td>\n",
       "      <td>...</td>\n",
       "      <td>...</td>\n",
       "      <td>...</td>\n",
       "    </tr>\n",
       "    <tr>\n",
       "      <th>692</th>\n",
       "      <td>1.098612</td>\n",
       "      <td>0.000000</td>\n",
       "      <td>0.000000</td>\n",
       "      <td>0.000000</td>\n",
       "      <td>0.693147</td>\n",
       "      <td>0.000000</td>\n",
       "      <td>0.000000</td>\n",
       "      <td>0.000000</td>\n",
       "      <td>0.0</td>\n",
       "      <td>0</td>\n",
       "    </tr>\n",
       "    <tr>\n",
       "      <th>694</th>\n",
       "      <td>1.098612</td>\n",
       "      <td>0.000000</td>\n",
       "      <td>0.000000</td>\n",
       "      <td>0.000000</td>\n",
       "      <td>1.098612</td>\n",
       "      <td>0.693147</td>\n",
       "      <td>0.000000</td>\n",
       "      <td>0.000000</td>\n",
       "      <td>0.0</td>\n",
       "      <td>0</td>\n",
       "    </tr>\n",
       "    <tr>\n",
       "      <th>695</th>\n",
       "      <td>0.693147</td>\n",
       "      <td>0.000000</td>\n",
       "      <td>0.000000</td>\n",
       "      <td>0.000000</td>\n",
       "      <td>0.693147</td>\n",
       "      <td>0.000000</td>\n",
       "      <td>0.000000</td>\n",
       "      <td>0.000000</td>\n",
       "      <td>0.0</td>\n",
       "      <td>0</td>\n",
       "    </tr>\n",
       "    <tr>\n",
       "      <th>697</th>\n",
       "      <td>1.386294</td>\n",
       "      <td>2.079442</td>\n",
       "      <td>1.791759</td>\n",
       "      <td>1.386294</td>\n",
       "      <td>1.098612</td>\n",
       "      <td>1.386294</td>\n",
       "      <td>2.302585</td>\n",
       "      <td>1.791759</td>\n",
       "      <td>0.0</td>\n",
       "      <td>1</td>\n",
       "    </tr>\n",
       "    <tr>\n",
       "      <th>698</th>\n",
       "      <td>1.386294</td>\n",
       "      <td>2.079442</td>\n",
       "      <td>2.079442</td>\n",
       "      <td>1.609438</td>\n",
       "      <td>1.386294</td>\n",
       "      <td>1.609438</td>\n",
       "      <td>2.302585</td>\n",
       "      <td>1.386294</td>\n",
       "      <td>0.0</td>\n",
       "      <td>1</td>\n",
       "    </tr>\n",
       "  </tbody>\n",
       "</table>\n",
       "<p>579 rows × 10 columns</p>\n",
       "</div>"
      ],
      "text/plain": [
       "     Clump_thickness  Uniformity_of_cell_size  Uniformity_of_cell_shape  \\\n",
       "0           1.609438                 0.000000                  0.000000   \n",
       "1           1.609438                 1.386294                  1.386294   \n",
       "2           1.098612                 0.000000                  0.000000   \n",
       "3           1.791759                 2.079442                  2.079442   \n",
       "4           1.386294                 0.000000                  0.000000   \n",
       "..               ...                      ...                       ...   \n",
       "692         1.098612                 0.000000                  0.000000   \n",
       "694         1.098612                 0.000000                  0.000000   \n",
       "695         0.693147                 0.000000                  0.000000   \n",
       "697         1.386294                 2.079442                  1.791759   \n",
       "698         1.386294                 2.079442                  2.079442   \n",
       "\n",
       "     Marginal_adhesion  Single_epithelial_cell_size  Bare_nuclei  \\\n",
       "0             0.000000                     0.693147     0.000000   \n",
       "1             1.609438                     1.945910     2.302585   \n",
       "2             0.000000                     0.693147     0.693147   \n",
       "3             0.000000                     1.098612     1.386294   \n",
       "4             1.098612                     0.693147     0.000000   \n",
       "..                 ...                          ...          ...   \n",
       "692           0.000000                     0.693147     0.000000   \n",
       "694           0.000000                     1.098612     0.693147   \n",
       "695           0.000000                     0.693147     0.000000   \n",
       "697           1.386294                     1.098612     1.386294   \n",
       "698           1.609438                     1.386294     1.609438   \n",
       "\n",
       "     Bland_chromatin  Normal_nucleoli  Mitoses  Class  \n",
       "0           1.098612         0.000000      0.0      0  \n",
       "1           1.098612         0.693147      0.0      0  \n",
       "2           1.098612         0.000000      0.0      0  \n",
       "3           1.098612         1.945910      0.0      0  \n",
       "4           1.098612         0.000000      0.0      0  \n",
       "..               ...              ...      ...    ...  \n",
       "692         0.000000         0.000000      0.0      0  \n",
       "694         0.000000         0.000000      0.0      0  \n",
       "695         0.000000         0.000000      0.0      0  \n",
       "697         2.302585         1.791759      0.0      1  \n",
       "698         2.302585         1.386294      0.0      1  \n",
       "\n",
       "[579 rows x 10 columns]"
      ]
     },
     "metadata": {},
     "output_type": "display_data"
    },
    {
     "data": {
      "text/html": [
       "<div>\n",
       "<style scoped>\n",
       "    .dataframe tbody tr th:only-of-type {\n",
       "        vertical-align: middle;\n",
       "    }\n",
       "\n",
       "    .dataframe tbody tr th {\n",
       "        vertical-align: top;\n",
       "    }\n",
       "\n",
       "    .dataframe thead th {\n",
       "        text-align: right;\n",
       "    }\n",
       "</style>\n",
       "<table border=\"1\" class=\"dataframe\">\n",
       "  <thead>\n",
       "    <tr style=\"text-align: right;\">\n",
       "      <th></th>\n",
       "      <th>Clump_thickness</th>\n",
       "      <th>Uniformity_of_cell_size</th>\n",
       "      <th>Uniformity_of_cell_shape</th>\n",
       "      <th>Marginal_adhesion</th>\n",
       "      <th>Single_epithelial_cell_size</th>\n",
       "      <th>Bare_nuclei</th>\n",
       "      <th>Bland_chromatin</th>\n",
       "      <th>Normal_nucleoli</th>\n",
       "      <th>Mitoses</th>\n",
       "      <th>Class</th>\n",
       "    </tr>\n",
       "  </thead>\n",
       "  <tbody>\n",
       "    <tr>\n",
       "      <th>0</th>\n",
       "      <td>1.609438</td>\n",
       "      <td>0.000000</td>\n",
       "      <td>0.000000</td>\n",
       "      <td>0.000000</td>\n",
       "      <td>0.693147</td>\n",
       "      <td>0.000000</td>\n",
       "      <td>1.098612</td>\n",
       "      <td>0.000000</td>\n",
       "      <td>0.0</td>\n",
       "      <td>0</td>\n",
       "    </tr>\n",
       "    <tr>\n",
       "      <th>1</th>\n",
       "      <td>1.609438</td>\n",
       "      <td>1.386294</td>\n",
       "      <td>1.386294</td>\n",
       "      <td>1.609438</td>\n",
       "      <td>1.945910</td>\n",
       "      <td>2.302585</td>\n",
       "      <td>1.098612</td>\n",
       "      <td>0.693147</td>\n",
       "      <td>0.0</td>\n",
       "      <td>0</td>\n",
       "    </tr>\n",
       "    <tr>\n",
       "      <th>2</th>\n",
       "      <td>1.098612</td>\n",
       "      <td>0.000000</td>\n",
       "      <td>0.000000</td>\n",
       "      <td>0.000000</td>\n",
       "      <td>0.693147</td>\n",
       "      <td>0.693147</td>\n",
       "      <td>1.098612</td>\n",
       "      <td>0.000000</td>\n",
       "      <td>0.0</td>\n",
       "      <td>0</td>\n",
       "    </tr>\n",
       "    <tr>\n",
       "      <th>3</th>\n",
       "      <td>1.791759</td>\n",
       "      <td>2.079442</td>\n",
       "      <td>2.079442</td>\n",
       "      <td>0.000000</td>\n",
       "      <td>1.098612</td>\n",
       "      <td>1.386294</td>\n",
       "      <td>1.098612</td>\n",
       "      <td>1.945910</td>\n",
       "      <td>0.0</td>\n",
       "      <td>0</td>\n",
       "    </tr>\n",
       "    <tr>\n",
       "      <th>4</th>\n",
       "      <td>1.386294</td>\n",
       "      <td>0.000000</td>\n",
       "      <td>0.000000</td>\n",
       "      <td>1.098612</td>\n",
       "      <td>0.693147</td>\n",
       "      <td>0.000000</td>\n",
       "      <td>1.098612</td>\n",
       "      <td>0.000000</td>\n",
       "      <td>0.0</td>\n",
       "      <td>0</td>\n",
       "    </tr>\n",
       "    <tr>\n",
       "      <th>...</th>\n",
       "      <td>...</td>\n",
       "      <td>...</td>\n",
       "      <td>...</td>\n",
       "      <td>...</td>\n",
       "      <td>...</td>\n",
       "      <td>...</td>\n",
       "      <td>...</td>\n",
       "      <td>...</td>\n",
       "      <td>...</td>\n",
       "      <td>...</td>\n",
       "    </tr>\n",
       "    <tr>\n",
       "      <th>692</th>\n",
       "      <td>1.098612</td>\n",
       "      <td>0.000000</td>\n",
       "      <td>0.000000</td>\n",
       "      <td>0.000000</td>\n",
       "      <td>0.693147</td>\n",
       "      <td>0.000000</td>\n",
       "      <td>0.000000</td>\n",
       "      <td>0.000000</td>\n",
       "      <td>0.0</td>\n",
       "      <td>0</td>\n",
       "    </tr>\n",
       "    <tr>\n",
       "      <th>694</th>\n",
       "      <td>1.098612</td>\n",
       "      <td>0.000000</td>\n",
       "      <td>0.000000</td>\n",
       "      <td>0.000000</td>\n",
       "      <td>1.098612</td>\n",
       "      <td>0.693147</td>\n",
       "      <td>0.000000</td>\n",
       "      <td>0.000000</td>\n",
       "      <td>0.0</td>\n",
       "      <td>0</td>\n",
       "    </tr>\n",
       "    <tr>\n",
       "      <th>695</th>\n",
       "      <td>0.693147</td>\n",
       "      <td>0.000000</td>\n",
       "      <td>0.000000</td>\n",
       "      <td>0.000000</td>\n",
       "      <td>0.693147</td>\n",
       "      <td>0.000000</td>\n",
       "      <td>0.000000</td>\n",
       "      <td>0.000000</td>\n",
       "      <td>0.0</td>\n",
       "      <td>0</td>\n",
       "    </tr>\n",
       "    <tr>\n",
       "      <th>697</th>\n",
       "      <td>1.386294</td>\n",
       "      <td>2.079442</td>\n",
       "      <td>1.791759</td>\n",
       "      <td>1.386294</td>\n",
       "      <td>1.098612</td>\n",
       "      <td>1.386294</td>\n",
       "      <td>2.302585</td>\n",
       "      <td>1.791759</td>\n",
       "      <td>0.0</td>\n",
       "      <td>1</td>\n",
       "    </tr>\n",
       "    <tr>\n",
       "      <th>698</th>\n",
       "      <td>1.386294</td>\n",
       "      <td>2.079442</td>\n",
       "      <td>2.079442</td>\n",
       "      <td>1.609438</td>\n",
       "      <td>1.386294</td>\n",
       "      <td>1.609438</td>\n",
       "      <td>2.302585</td>\n",
       "      <td>1.386294</td>\n",
       "      <td>0.0</td>\n",
       "      <td>1</td>\n",
       "    </tr>\n",
       "  </tbody>\n",
       "</table>\n",
       "<p>563 rows × 10 columns</p>\n",
       "</div>"
      ],
      "text/plain": [
       "     Clump_thickness  Uniformity_of_cell_size  Uniformity_of_cell_shape  \\\n",
       "0           1.609438                 0.000000                  0.000000   \n",
       "1           1.609438                 1.386294                  1.386294   \n",
       "2           1.098612                 0.000000                  0.000000   \n",
       "3           1.791759                 2.079442                  2.079442   \n",
       "4           1.386294                 0.000000                  0.000000   \n",
       "..               ...                      ...                       ...   \n",
       "692         1.098612                 0.000000                  0.000000   \n",
       "694         1.098612                 0.000000                  0.000000   \n",
       "695         0.693147                 0.000000                  0.000000   \n",
       "697         1.386294                 2.079442                  1.791759   \n",
       "698         1.386294                 2.079442                  2.079442   \n",
       "\n",
       "     Marginal_adhesion  Single_epithelial_cell_size  Bare_nuclei  \\\n",
       "0             0.000000                     0.693147     0.000000   \n",
       "1             1.609438                     1.945910     2.302585   \n",
       "2             0.000000                     0.693147     0.693147   \n",
       "3             0.000000                     1.098612     1.386294   \n",
       "4             1.098612                     0.693147     0.000000   \n",
       "..                 ...                          ...          ...   \n",
       "692           0.000000                     0.693147     0.000000   \n",
       "694           0.000000                     1.098612     0.693147   \n",
       "695           0.000000                     0.693147     0.000000   \n",
       "697           1.386294                     1.098612     1.386294   \n",
       "698           1.609438                     1.386294     1.609438   \n",
       "\n",
       "     Bland_chromatin  Normal_nucleoli  Mitoses  Class  \n",
       "0           1.098612         0.000000      0.0      0  \n",
       "1           1.098612         0.693147      0.0      0  \n",
       "2           1.098612         0.000000      0.0      0  \n",
       "3           1.098612         1.945910      0.0      0  \n",
       "4           1.098612         0.000000      0.0      0  \n",
       "..               ...              ...      ...    ...  \n",
       "692         0.000000         0.000000      0.0      0  \n",
       "694         0.000000         0.000000      0.0      0  \n",
       "695         0.000000         0.000000      0.0      0  \n",
       "697         2.302585         1.791759      0.0      1  \n",
       "698         2.302585         1.386294      0.0      1  \n",
       "\n",
       "[563 rows x 10 columns]"
      ]
     },
     "metadata": {},
     "output_type": "display_data"
    }
   ],
   "source": [
    "no_outliers = log_data.copy()\n",
    "\n",
    "for key, value in outliers_d.items():\n",
    "    no_outliers = no_outliers[~no_outliers[key].isin(value[1])]\n",
    "    no_outliers = no_outliers[~no_outliers[key].isin(value[0])]\n",
    "\n",
    "no_outliers_na_dropped = log_na_dropped.copy()\n",
    "\n",
    "for key, value in outliers_d_no_na.items():\n",
    "    no_outliers_na_dropped = no_outliers_na_dropped[~no_outliers_na_dropped[key].isin(value[1])]\n",
    "    no_outliers_na_dropped = no_outliers_na_dropped[~no_outliers_na_dropped[key].isin(value[0])]\n",
    "\n",
    "display(no_outliers)\n",
    "display(no_outliers_na_dropped)"
   ]
  },
  {
   "cell_type": "code",
   "execution_count": 18,
   "metadata": {},
   "outputs": [
    {
     "data": {
      "text/html": [
       "<div>\n",
       "<style scoped>\n",
       "    .dataframe tbody tr th:only-of-type {\n",
       "        vertical-align: middle;\n",
       "    }\n",
       "\n",
       "    .dataframe tbody tr th {\n",
       "        vertical-align: top;\n",
       "    }\n",
       "\n",
       "    .dataframe thead th {\n",
       "        text-align: right;\n",
       "    }\n",
       "</style>\n",
       "<table border=\"1\" class=\"dataframe\">\n",
       "  <thead>\n",
       "    <tr style=\"text-align: right;\">\n",
       "      <th></th>\n",
       "      <th>Clump_thickness</th>\n",
       "      <th>Uniformity_of_cell_size</th>\n",
       "      <th>Uniformity_of_cell_shape</th>\n",
       "      <th>Marginal_adhesion</th>\n",
       "      <th>Single_epithelial_cell_size</th>\n",
       "      <th>Bare_nuclei</th>\n",
       "      <th>Bland_chromatin</th>\n",
       "      <th>Normal_nucleoli</th>\n",
       "      <th>Mitoses</th>\n",
       "      <th>Class</th>\n",
       "    </tr>\n",
       "  </thead>\n",
       "  <tbody>\n",
       "    <tr>\n",
       "      <th>0</th>\n",
       "      <td>1.609438</td>\n",
       "      <td>0.000000</td>\n",
       "      <td>0.000000</td>\n",
       "      <td>0.000000</td>\n",
       "      <td>0.693147</td>\n",
       "      <td>0.000000</td>\n",
       "      <td>1.098612</td>\n",
       "      <td>0.000000</td>\n",
       "      <td>0.0</td>\n",
       "      <td>0</td>\n",
       "    </tr>\n",
       "    <tr>\n",
       "      <th>1</th>\n",
       "      <td>1.609438</td>\n",
       "      <td>1.386294</td>\n",
       "      <td>1.386294</td>\n",
       "      <td>1.609438</td>\n",
       "      <td>1.945910</td>\n",
       "      <td>2.302585</td>\n",
       "      <td>1.098612</td>\n",
       "      <td>0.693147</td>\n",
       "      <td>0.0</td>\n",
       "      <td>0</td>\n",
       "    </tr>\n",
       "    <tr>\n",
       "      <th>2</th>\n",
       "      <td>1.098612</td>\n",
       "      <td>0.000000</td>\n",
       "      <td>0.000000</td>\n",
       "      <td>0.000000</td>\n",
       "      <td>0.693147</td>\n",
       "      <td>0.693147</td>\n",
       "      <td>1.098612</td>\n",
       "      <td>0.000000</td>\n",
       "      <td>0.0</td>\n",
       "      <td>0</td>\n",
       "    </tr>\n",
       "    <tr>\n",
       "      <th>3</th>\n",
       "      <td>1.791759</td>\n",
       "      <td>2.079442</td>\n",
       "      <td>2.079442</td>\n",
       "      <td>0.000000</td>\n",
       "      <td>1.098612</td>\n",
       "      <td>1.386294</td>\n",
       "      <td>1.098612</td>\n",
       "      <td>1.945910</td>\n",
       "      <td>0.0</td>\n",
       "      <td>0</td>\n",
       "    </tr>\n",
       "    <tr>\n",
       "      <th>4</th>\n",
       "      <td>1.386294</td>\n",
       "      <td>0.000000</td>\n",
       "      <td>0.000000</td>\n",
       "      <td>1.098612</td>\n",
       "      <td>0.693147</td>\n",
       "      <td>0.000000</td>\n",
       "      <td>1.098612</td>\n",
       "      <td>0.000000</td>\n",
       "      <td>0.0</td>\n",
       "      <td>0</td>\n",
       "    </tr>\n",
       "    <tr>\n",
       "      <th>...</th>\n",
       "      <td>...</td>\n",
       "      <td>...</td>\n",
       "      <td>...</td>\n",
       "      <td>...</td>\n",
       "      <td>...</td>\n",
       "      <td>...</td>\n",
       "      <td>...</td>\n",
       "      <td>...</td>\n",
       "      <td>...</td>\n",
       "      <td>...</td>\n",
       "    </tr>\n",
       "    <tr>\n",
       "      <th>694</th>\n",
       "      <td>1.098612</td>\n",
       "      <td>0.000000</td>\n",
       "      <td>0.000000</td>\n",
       "      <td>0.000000</td>\n",
       "      <td>1.098612</td>\n",
       "      <td>0.693147</td>\n",
       "      <td>0.000000</td>\n",
       "      <td>0.000000</td>\n",
       "      <td>0.0</td>\n",
       "      <td>0</td>\n",
       "    </tr>\n",
       "    <tr>\n",
       "      <th>695</th>\n",
       "      <td>0.693147</td>\n",
       "      <td>0.000000</td>\n",
       "      <td>0.000000</td>\n",
       "      <td>0.000000</td>\n",
       "      <td>0.693147</td>\n",
       "      <td>0.000000</td>\n",
       "      <td>0.000000</td>\n",
       "      <td>0.000000</td>\n",
       "      <td>0.0</td>\n",
       "      <td>0</td>\n",
       "    </tr>\n",
       "    <tr>\n",
       "      <th>696</th>\n",
       "      <td>1.609438</td>\n",
       "      <td>2.302585</td>\n",
       "      <td>2.302585</td>\n",
       "      <td>1.098612</td>\n",
       "      <td>1.945910</td>\n",
       "      <td>1.098612</td>\n",
       "      <td>2.079442</td>\n",
       "      <td>2.302585</td>\n",
       "      <td>NaN</td>\n",
       "      <td>1</td>\n",
       "    </tr>\n",
       "    <tr>\n",
       "      <th>697</th>\n",
       "      <td>1.386294</td>\n",
       "      <td>2.079442</td>\n",
       "      <td>1.791759</td>\n",
       "      <td>1.386294</td>\n",
       "      <td>1.098612</td>\n",
       "      <td>1.386294</td>\n",
       "      <td>2.302585</td>\n",
       "      <td>1.791759</td>\n",
       "      <td>0.0</td>\n",
       "      <td>1</td>\n",
       "    </tr>\n",
       "    <tr>\n",
       "      <th>698</th>\n",
       "      <td>1.386294</td>\n",
       "      <td>2.079442</td>\n",
       "      <td>2.079442</td>\n",
       "      <td>1.609438</td>\n",
       "      <td>1.386294</td>\n",
       "      <td>1.609438</td>\n",
       "      <td>2.302585</td>\n",
       "      <td>1.386294</td>\n",
       "      <td>0.0</td>\n",
       "      <td>1</td>\n",
       "    </tr>\n",
       "  </tbody>\n",
       "</table>\n",
       "<p>699 rows × 10 columns</p>\n",
       "</div>"
      ],
      "text/plain": [
       "     Clump_thickness  Uniformity_of_cell_size  Uniformity_of_cell_shape  \\\n",
       "0           1.609438                 0.000000                  0.000000   \n",
       "1           1.609438                 1.386294                  1.386294   \n",
       "2           1.098612                 0.000000                  0.000000   \n",
       "3           1.791759                 2.079442                  2.079442   \n",
       "4           1.386294                 0.000000                  0.000000   \n",
       "..               ...                      ...                       ...   \n",
       "694         1.098612                 0.000000                  0.000000   \n",
       "695         0.693147                 0.000000                  0.000000   \n",
       "696         1.609438                 2.302585                  2.302585   \n",
       "697         1.386294                 2.079442                  1.791759   \n",
       "698         1.386294                 2.079442                  2.079442   \n",
       "\n",
       "     Marginal_adhesion  Single_epithelial_cell_size  Bare_nuclei  \\\n",
       "0             0.000000                     0.693147     0.000000   \n",
       "1             1.609438                     1.945910     2.302585   \n",
       "2             0.000000                     0.693147     0.693147   \n",
       "3             0.000000                     1.098612     1.386294   \n",
       "4             1.098612                     0.693147     0.000000   \n",
       "..                 ...                          ...          ...   \n",
       "694           0.000000                     1.098612     0.693147   \n",
       "695           0.000000                     0.693147     0.000000   \n",
       "696           1.098612                     1.945910     1.098612   \n",
       "697           1.386294                     1.098612     1.386294   \n",
       "698           1.609438                     1.386294     1.609438   \n",
       "\n",
       "     Bland_chromatin  Normal_nucleoli  Mitoses  Class  \n",
       "0           1.098612         0.000000      0.0      0  \n",
       "1           1.098612         0.693147      0.0      0  \n",
       "2           1.098612         0.000000      0.0      0  \n",
       "3           1.098612         1.945910      0.0      0  \n",
       "4           1.098612         0.000000      0.0      0  \n",
       "..               ...              ...      ...    ...  \n",
       "694         0.000000         0.000000      0.0      0  \n",
       "695         0.000000         0.000000      0.0      0  \n",
       "696         2.079442         2.302585      NaN      1  \n",
       "697         2.302585         1.791759      0.0      1  \n",
       "698         2.302585         1.386294      0.0      1  \n",
       "\n",
       "[699 rows x 10 columns]"
      ]
     },
     "metadata": {},
     "output_type": "display_data"
    },
    {
     "data": {
      "text/html": [
       "<div>\n",
       "<style scoped>\n",
       "    .dataframe tbody tr th:only-of-type {\n",
       "        vertical-align: middle;\n",
       "    }\n",
       "\n",
       "    .dataframe tbody tr th {\n",
       "        vertical-align: top;\n",
       "    }\n",
       "\n",
       "    .dataframe thead th {\n",
       "        text-align: right;\n",
       "    }\n",
       "</style>\n",
       "<table border=\"1\" class=\"dataframe\">\n",
       "  <thead>\n",
       "    <tr style=\"text-align: right;\">\n",
       "      <th></th>\n",
       "      <th>Clump_thickness</th>\n",
       "      <th>Uniformity_of_cell_size</th>\n",
       "      <th>Uniformity_of_cell_shape</th>\n",
       "      <th>Marginal_adhesion</th>\n",
       "      <th>Single_epithelial_cell_size</th>\n",
       "      <th>Bare_nuclei</th>\n",
       "      <th>Bland_chromatin</th>\n",
       "      <th>Normal_nucleoli</th>\n",
       "      <th>Mitoses</th>\n",
       "      <th>Class</th>\n",
       "    </tr>\n",
       "  </thead>\n",
       "  <tbody>\n",
       "    <tr>\n",
       "      <th>0</th>\n",
       "      <td>1.609438</td>\n",
       "      <td>0.000000</td>\n",
       "      <td>0.000000</td>\n",
       "      <td>0.000000</td>\n",
       "      <td>0.693147</td>\n",
       "      <td>0.000000</td>\n",
       "      <td>1.098612</td>\n",
       "      <td>0.000000</td>\n",
       "      <td>0.0</td>\n",
       "      <td>0</td>\n",
       "    </tr>\n",
       "    <tr>\n",
       "      <th>1</th>\n",
       "      <td>1.609438</td>\n",
       "      <td>1.386294</td>\n",
       "      <td>1.386294</td>\n",
       "      <td>1.609438</td>\n",
       "      <td>1.945910</td>\n",
       "      <td>2.302585</td>\n",
       "      <td>1.098612</td>\n",
       "      <td>0.693147</td>\n",
       "      <td>0.0</td>\n",
       "      <td>0</td>\n",
       "    </tr>\n",
       "    <tr>\n",
       "      <th>2</th>\n",
       "      <td>1.098612</td>\n",
       "      <td>0.000000</td>\n",
       "      <td>0.000000</td>\n",
       "      <td>0.000000</td>\n",
       "      <td>0.693147</td>\n",
       "      <td>0.693147</td>\n",
       "      <td>1.098612</td>\n",
       "      <td>0.000000</td>\n",
       "      <td>0.0</td>\n",
       "      <td>0</td>\n",
       "    </tr>\n",
       "    <tr>\n",
       "      <th>3</th>\n",
       "      <td>1.791759</td>\n",
       "      <td>2.079442</td>\n",
       "      <td>2.079442</td>\n",
       "      <td>0.000000</td>\n",
       "      <td>1.098612</td>\n",
       "      <td>1.386294</td>\n",
       "      <td>1.098612</td>\n",
       "      <td>1.945910</td>\n",
       "      <td>0.0</td>\n",
       "      <td>0</td>\n",
       "    </tr>\n",
       "    <tr>\n",
       "      <th>4</th>\n",
       "      <td>1.386294</td>\n",
       "      <td>0.000000</td>\n",
       "      <td>0.000000</td>\n",
       "      <td>1.098612</td>\n",
       "      <td>0.693147</td>\n",
       "      <td>0.000000</td>\n",
       "      <td>1.098612</td>\n",
       "      <td>0.000000</td>\n",
       "      <td>0.0</td>\n",
       "      <td>0</td>\n",
       "    </tr>\n",
       "    <tr>\n",
       "      <th>...</th>\n",
       "      <td>...</td>\n",
       "      <td>...</td>\n",
       "      <td>...</td>\n",
       "      <td>...</td>\n",
       "      <td>...</td>\n",
       "      <td>...</td>\n",
       "      <td>...</td>\n",
       "      <td>...</td>\n",
       "      <td>...</td>\n",
       "      <td>...</td>\n",
       "    </tr>\n",
       "    <tr>\n",
       "      <th>694</th>\n",
       "      <td>1.098612</td>\n",
       "      <td>0.000000</td>\n",
       "      <td>0.000000</td>\n",
       "      <td>0.000000</td>\n",
       "      <td>1.098612</td>\n",
       "      <td>0.693147</td>\n",
       "      <td>0.000000</td>\n",
       "      <td>0.000000</td>\n",
       "      <td>0.0</td>\n",
       "      <td>0</td>\n",
       "    </tr>\n",
       "    <tr>\n",
       "      <th>695</th>\n",
       "      <td>0.693147</td>\n",
       "      <td>0.000000</td>\n",
       "      <td>0.000000</td>\n",
       "      <td>0.000000</td>\n",
       "      <td>0.693147</td>\n",
       "      <td>0.000000</td>\n",
       "      <td>0.000000</td>\n",
       "      <td>0.000000</td>\n",
       "      <td>0.0</td>\n",
       "      <td>0</td>\n",
       "    </tr>\n",
       "    <tr>\n",
       "      <th>696</th>\n",
       "      <td>1.609438</td>\n",
       "      <td>2.302585</td>\n",
       "      <td>2.302585</td>\n",
       "      <td>1.098612</td>\n",
       "      <td>1.945910</td>\n",
       "      <td>1.098612</td>\n",
       "      <td>2.079442</td>\n",
       "      <td>2.302585</td>\n",
       "      <td>NaN</td>\n",
       "      <td>1</td>\n",
       "    </tr>\n",
       "    <tr>\n",
       "      <th>697</th>\n",
       "      <td>1.386294</td>\n",
       "      <td>2.079442</td>\n",
       "      <td>1.791759</td>\n",
       "      <td>1.386294</td>\n",
       "      <td>1.098612</td>\n",
       "      <td>1.386294</td>\n",
       "      <td>2.302585</td>\n",
       "      <td>1.791759</td>\n",
       "      <td>0.0</td>\n",
       "      <td>1</td>\n",
       "    </tr>\n",
       "    <tr>\n",
       "      <th>698</th>\n",
       "      <td>1.386294</td>\n",
       "      <td>2.079442</td>\n",
       "      <td>2.079442</td>\n",
       "      <td>1.609438</td>\n",
       "      <td>1.386294</td>\n",
       "      <td>1.609438</td>\n",
       "      <td>2.302585</td>\n",
       "      <td>1.386294</td>\n",
       "      <td>0.0</td>\n",
       "      <td>1</td>\n",
       "    </tr>\n",
       "  </tbody>\n",
       "</table>\n",
       "<p>683 rows × 10 columns</p>\n",
       "</div>"
      ],
      "text/plain": [
       "     Clump_thickness  Uniformity_of_cell_size  Uniformity_of_cell_shape  \\\n",
       "0           1.609438                 0.000000                  0.000000   \n",
       "1           1.609438                 1.386294                  1.386294   \n",
       "2           1.098612                 0.000000                  0.000000   \n",
       "3           1.791759                 2.079442                  2.079442   \n",
       "4           1.386294                 0.000000                  0.000000   \n",
       "..               ...                      ...                       ...   \n",
       "694         1.098612                 0.000000                  0.000000   \n",
       "695         0.693147                 0.000000                  0.000000   \n",
       "696         1.609438                 2.302585                  2.302585   \n",
       "697         1.386294                 2.079442                  1.791759   \n",
       "698         1.386294                 2.079442                  2.079442   \n",
       "\n",
       "     Marginal_adhesion  Single_epithelial_cell_size  Bare_nuclei  \\\n",
       "0             0.000000                     0.693147     0.000000   \n",
       "1             1.609438                     1.945910     2.302585   \n",
       "2             0.000000                     0.693147     0.693147   \n",
       "3             0.000000                     1.098612     1.386294   \n",
       "4             1.098612                     0.693147     0.000000   \n",
       "..                 ...                          ...          ...   \n",
       "694           0.000000                     1.098612     0.693147   \n",
       "695           0.000000                     0.693147     0.000000   \n",
       "696           1.098612                     1.945910     1.098612   \n",
       "697           1.386294                     1.098612     1.386294   \n",
       "698           1.609438                     1.386294     1.609438   \n",
       "\n",
       "     Bland_chromatin  Normal_nucleoli  Mitoses  Class  \n",
       "0           1.098612         0.000000      0.0      0  \n",
       "1           1.098612         0.693147      0.0      0  \n",
       "2           1.098612         0.000000      0.0      0  \n",
       "3           1.098612         1.945910      0.0      0  \n",
       "4           1.098612         0.000000      0.0      0  \n",
       "..               ...              ...      ...    ...  \n",
       "694         0.000000         0.000000      0.0      0  \n",
       "695         0.000000         0.000000      0.0      0  \n",
       "696         2.079442         2.302585      NaN      1  \n",
       "697         2.302585         1.791759      0.0      1  \n",
       "698         2.302585         1.386294      0.0      1  \n",
       "\n",
       "[683 rows x 10 columns]"
      ]
     },
     "metadata": {},
     "output_type": "display_data"
    }
   ],
   "source": [
    "nan_outliers = log_data.copy()\n",
    "\n",
    "for key, values in outliers_d.items():\n",
    "    for value in values:\n",
    "        nan_outliers[key] = nan_outliers[key].replace(value, np.nan)\n",
    "\n",
    "nan_outliers_na_dropped = log_na_dropped.copy()\n",
    "\n",
    "for key, values in outliers_d_no_na.items():\n",
    "    for value in values:\n",
    "        nan_outliers_na_dropped[key] = nan_outliers_na_dropped[key].replace(value, np.nan)\n",
    "\n",
    "display(nan_outliers)\n",
    "display(nan_outliers_na_dropped)"
   ]
  },
  {
   "cell_type": "markdown",
   "metadata": {},
   "source": [
    "## 3- Modellerin Kıyaslanması"
   ]
  },
  {
   "cell_type": "markdown",
   "metadata": {},
   "source": [
    "Her modeli sırayla kıyaslayacağız. NaN değerleri doldurmak için KNNImputer kullanmayı düşündüğüm için her modeli kendi ayrı bölümünde denemek, her model için optimize k değerini bulmak için de faydalı olacaktır."
   ]
  },
  {
   "cell_type": "code",
   "execution_count": 19,
   "metadata": {},
   "outputs": [],
   "source": [
    "from sklearn.model_selection import train_test_split"
   ]
  },
  {
   "cell_type": "code",
   "execution_count": 20,
   "metadata": {},
   "outputs": [],
   "source": [
    "# knnimpute\n",
    "X_train_with_outliers, X_test_with_outliers, y_train_with_outliers, y_test_with_outliers = train_test_split(\n",
    "    with_outliers.drop('Class', axis=1),\n",
    "    with_outliers['Class'],\n",
    "    test_size=.2,\n",
    "    random_state=42,\n",
    "    shuffle=True\n",
    ")\n",
    "\n",
    "# no knnimpute\n",
    "X_train_with_outliers_na_dropped, X_test_with_outliers_na_dropped, y_train_with_outliers_na_dropped, y_test_with_outliers_na_dropped = train_test_split(\n",
    "    with_outliers_na_dropped.drop('Class', axis=1),\n",
    "    with_outliers_na_dropped['Class'],\n",
    "    test_size=.2,\n",
    "    random_state=42,\n",
    "    shuffle=True\n",
    ")"
   ]
  },
  {
   "cell_type": "code",
   "execution_count": 21,
   "metadata": {},
   "outputs": [],
   "source": [
    "# knnimpute\n",
    "X_train_no_outliers, X_test_no_outliers, y_train_no_outliers, y_test_no_outliers = train_test_split(\n",
    "    no_outliers.drop('Class', axis=1),\n",
    "    no_outliers['Class'],\n",
    "    test_size=.2,\n",
    "    random_state=42,\n",
    "    shuffle=True\n",
    ")\n",
    "\n",
    "# no knnimpute\n",
    "X_train_no_outliers_na_dropped, X_test_no_outliers_na_dropped, y_train_no_outliers_na_dropped, y_test_no_outliers_na_dropped = train_test_split(\n",
    "    no_outliers_na_dropped.drop('Class', axis=1),\n",
    "    no_outliers_na_dropped['Class'],\n",
    "    test_size=.2,\n",
    "    random_state=42,\n",
    "    shuffle=True\n",
    ")"
   ]
  },
  {
   "cell_type": "code",
   "execution_count": 22,
   "metadata": {},
   "outputs": [],
   "source": [
    "# knnimpute\n",
    "X_train_nan_outliers, X_test_nan_outliers, y_train_nan_outliers, y_test_nan_outliers = train_test_split(\n",
    "    nan_outliers.drop('Class', axis=1),\n",
    "    nan_outliers['Class'],\n",
    "    test_size=.2,\n",
    "    random_state=42,\n",
    "    shuffle=True\n",
    ")\n",
    "\n",
    "# knnimpute\n",
    "X_train_nan_outliers_na_dropped, X_test_nan_outliers_na_dropped, y_train_nan_outliers_na_dropped, y_test_nan_outliers_na_dropped = train_test_split(\n",
    "    nan_outliers_na_dropped.drop('Class', axis=1),\n",
    "    nan_outliers_na_dropped['Class'],\n",
    "    test_size=.2,\n",
    "    random_state=42,\n",
    "    shuffle=True\n",
    ")"
   ]
  },
  {
   "cell_type": "code",
   "execution_count": 23,
   "metadata": {},
   "outputs": [],
   "source": [
    "from sklearn.impute import KNNImputer\n",
    "from sklearn.model_selection import cross_val_score\n",
    "from sklearn.model_selection import GridSearchCV\n",
    "from sklearn.metrics import accuracy_score, precision_score, recall_score, roc_auc_score"
   ]
  },
  {
   "cell_type": "code",
   "execution_count": 24,
   "metadata": {},
   "outputs": [],
   "source": [
    "d_with_outliers = {}\n",
    "d_with_outliers_na_dropped = {}\n",
    "d_no_outliers = {}\n",
    "d_no_outliers_na_dropped = {}\n",
    "d_nan_outliers = {}\n",
    "d_nan_outliers_na_dropped = {}"
   ]
  },
  {
   "cell_type": "markdown",
   "metadata": {},
   "source": [
    "### 3.1- XGBoost Classification"
   ]
  },
  {
   "cell_type": "code",
   "execution_count": 25,
   "metadata": {},
   "outputs": [],
   "source": [
    "from xgboost import XGBClassifier"
   ]
  },
  {
   "cell_type": "markdown",
   "metadata": {},
   "source": [
    "#### 3.1.1- XGBoost Classification with_outliers"
   ]
  },
  {
   "cell_type": "code",
   "execution_count": 26,
   "metadata": {},
   "outputs": [
    {
     "name": "stdout",
     "output_type": "stream",
     "text": [
      "En iyi k değeri: 9\n"
     ]
    }
   ],
   "source": [
    "best_score = -np.inf\n",
    "best_k_train = 1\n",
    "\n",
    "for k in range(1, 21):\n",
    "    imputer = KNNImputer(n_neighbors=k)\n",
    "    X_imputed = imputer.fit_transform(X_train_with_outliers)\n",
    "\n",
    "    model = XGBClassifier(random_state=42)\n",
    "    scores = cross_val_score(model, X_imputed, y_train_with_outliers, cv=5)\n",
    "    mean_score = np.mean(scores)\n",
    "\n",
    "    if mean_score > best_score:\n",
    "        best_score = mean_score\n",
    "        best_k_train = k\n",
    "\n",
    "print(f\"En iyi k değeri: {best_k_train}\")"
   ]
  },
  {
   "cell_type": "code",
   "execution_count": 27,
   "metadata": {},
   "outputs": [
    {
     "name": "stdout",
     "output_type": "stream",
     "text": [
      "En iyi k değeri: 2\n"
     ]
    }
   ],
   "source": [
    "best_score = -np.inf\n",
    "best_k_test = 1\n",
    "\n",
    "for k in range(1, 21):\n",
    "    imputer = KNNImputer(n_neighbors=k)\n",
    "    X_imputed = imputer.fit_transform(X_test_with_outliers)\n",
    "\n",
    "    model = XGBClassifier(random_state=42)\n",
    "    scores = cross_val_score(model, X_imputed, y_test_with_outliers, cv=5)\n",
    "    mean_score = np.mean(scores)\n",
    "\n",
    "    if mean_score > best_score:\n",
    "        best_score = mean_score\n",
    "        best_k_test = k\n",
    "\n",
    "print(f\"En iyi k değeri: {best_k_test}\")"
   ]
  },
  {
   "cell_type": "code",
   "execution_count": 28,
   "metadata": {},
   "outputs": [
    {
     "name": "stdout",
     "output_type": "stream",
     "text": [
      "Fitting 5 folds for each of 972 candidates, totalling 4860 fits\n",
      "En iyi parametreler: {'colsample_bytree': 0.5, 'learning_rate': 0.01, 'max_depth': 5, 'min_child_weight': 1, 'n_estimators': 500, 'objective': 'binary:logistic', 'subsample': 0.5}\n"
     ]
    }
   ],
   "source": [
    "param_grid = {\n",
    "    'learning_rate': [0.1, 0.01, 0.001],\n",
    "    'max_depth': [3, 5, 7, 10],\n",
    "    'min_child_weight': [1, 3, 5],\n",
    "    'subsample': [0.5, 0.7, 1.0],\n",
    "    'colsample_bytree': [0.5, 0.7, 1.0],\n",
    "    'n_estimators' : [100, 200, 500],\n",
    "    'objective': ['binary:logistic']\n",
    "}\n",
    "\n",
    "model = XGBClassifier(random_state=42)\n",
    "\n",
    "grid = GridSearchCV(model, param_grid, verbose=3, n_jobs=-1, cv=5)\n",
    "grid.fit(X_train_with_outliers, y_train_with_outliers)\n",
    "\n",
    "print(f\"En iyi parametreler: {grid.best_params_}\")"
   ]
  },
  {
   "cell_type": "code",
   "execution_count": 29,
   "metadata": {},
   "outputs": [
    {
     "name": "stdout",
     "output_type": "stream",
     "text": [
      "Accuracy: 97.14285714285714%\n",
      "Precision: 95.55555555555556%\n",
      "Recall: 95.55555555555556%\n",
      "ROC AUC: 96.72514619883043%\n"
     ]
    }
   ],
   "source": [
    "X_train_with_outliers = KNNImputer(n_neighbors=best_k_train).fit_transform(X_train_with_outliers)\n",
    "X_test_with_outliers = KNNImputer(n_neighbors=best_k_test).fit_transform(X_test_with_outliers)\n",
    "\n",
    "xgb = XGBClassifier(random_state=42, **grid.best_params_)\n",
    "xgb.fit(X_train_with_outliers, y_train_with_outliers)\n",
    "\n",
    "y_pred = xgb.predict(X_test_with_outliers)\n",
    "\n",
    "accuracy = accuracy_score(y_test_with_outliers, y_pred)\n",
    "precision = precision_score(y_test_with_outliers, y_pred)\n",
    "recall = recall_score(y_test_with_outliers, y_pred)\n",
    "roc_auc = roc_auc_score(y_test_with_outliers, y_pred)\n",
    "\n",
    "print(f\"Accuracy: {accuracy * 100.0}%\")\n",
    "print(f\"Precision: {precision * 100.0}%\")\n",
    "print(f\"Recall: {recall * 100.0}%\")\n",
    "print(f\"ROC AUC: {roc_auc * 100.0}%\")\n",
    "\n",
    "d_with_outliers['XGB'] = {'Accuracy': accuracy, 'Precision': precision, 'Recall': recall, 'ROC AUC': roc_auc}"
   ]
  },
  {
   "cell_type": "markdown",
   "metadata": {},
   "source": [
    "#### 3.1.2- XGBoost Classification with_outliers_na_dropped"
   ]
  },
  {
   "cell_type": "code",
   "execution_count": 30,
   "metadata": {},
   "outputs": [
    {
     "name": "stdout",
     "output_type": "stream",
     "text": [
      "Fitting 5 folds for each of 972 candidates, totalling 4860 fits\n"
     ]
    },
    {
     "name": "stdout",
     "output_type": "stream",
     "text": [
      "En iyi parametreler: {'colsample_bytree': 0.5, 'learning_rate': 0.1, 'max_depth': 3, 'min_child_weight': 5, 'n_estimators': 100, 'objective': 'binary:logistic', 'subsample': 0.7}\n"
     ]
    }
   ],
   "source": [
    "param_grid = {\n",
    "    'learning_rate': [0.1, 0.01, 0.001],\n",
    "    'max_depth': [3, 5, 7, 10],\n",
    "    'min_child_weight': [1, 3, 5],\n",
    "    'subsample': [0.5, 0.7, 1.0],\n",
    "    'colsample_bytree': [0.5, 0.7, 1.0],\n",
    "    'n_estimators' : [100, 200, 500],\n",
    "    'objective': ['binary:logistic']\n",
    "}\n",
    "\n",
    "model = XGBClassifier(random_state=42)\n",
    "\n",
    "grid = GridSearchCV(model, param_grid, verbose=3, n_jobs=-1, cv=5)\n",
    "grid.fit(X_train_with_outliers_na_dropped, y_train_with_outliers_na_dropped)\n",
    "\n",
    "print(f\"En iyi parametreler: {grid.best_params_}\")"
   ]
  },
  {
   "cell_type": "code",
   "execution_count": 31,
   "metadata": {},
   "outputs": [
    {
     "name": "stdout",
     "output_type": "stream",
     "text": [
      "Accuracy: 95.62043795620438%\n",
      "Precision: 98.14814814814815%\n",
      "Recall: 91.37931034482759%\n",
      "ROC AUC: 95.05674378000873%\n"
     ]
    }
   ],
   "source": [
    "xgb = XGBClassifier(random_state=42, **grid.best_params_)\n",
    "xgb.fit(X_train_with_outliers_na_dropped, y_train_with_outliers_na_dropped)\n",
    "\n",
    "y_pred = xgb.predict(X_test_with_outliers_na_dropped)\n",
    "\n",
    "accuracy = accuracy_score(y_test_with_outliers_na_dropped, y_pred)\n",
    "precision = precision_score(y_test_with_outliers_na_dropped, y_pred)\n",
    "recall = recall_score(y_test_with_outliers_na_dropped, y_pred)\n",
    "roc_auc = roc_auc_score(y_test_with_outliers_na_dropped, y_pred)\n",
    "\n",
    "print(f\"Accuracy: {accuracy * 100.0}%\")\n",
    "print(f\"Precision: {precision * 100.0}%\")\n",
    "print(f\"Recall: {recall * 100.0}%\")\n",
    "print(f\"ROC AUC: {roc_auc * 100.0}%\")\n",
    "\n",
    "d_with_outliers_na_dropped['XGB'] = {'Accuracy': accuracy, 'Precision': precision, 'Recall': recall, 'ROC AUC': roc_auc}"
   ]
  },
  {
   "cell_type": "markdown",
   "metadata": {},
   "source": [
    "#### 3.1.3- XGBoost Classification no_outliers"
   ]
  },
  {
   "cell_type": "code",
   "execution_count": 32,
   "metadata": {},
   "outputs": [
    {
     "name": "stdout",
     "output_type": "stream",
     "text": [
      "En iyi k değeri: 7\n"
     ]
    }
   ],
   "source": [
    "best_score = -np.inf\n",
    "best_k_train = 1\n",
    "\n",
    "for k in range(1, 21):\n",
    "    imputer = KNNImputer(n_neighbors=k)\n",
    "    X_imputed = imputer.fit_transform(X_train_no_outliers)\n",
    "\n",
    "    model = XGBClassifier(random_state=42)\n",
    "    scores = cross_val_score(model, X_imputed, y_train_no_outliers, cv=5)\n",
    "    mean_score = np.mean(scores)\n",
    "\n",
    "    if mean_score > best_score:\n",
    "        best_score = mean_score\n",
    "        best_k_train = k\n",
    "\n",
    "print(f\"En iyi k değeri: {best_k_train}\")"
   ]
  },
  {
   "cell_type": "code",
   "execution_count": 33,
   "metadata": {},
   "outputs": [
    {
     "name": "stdout",
     "output_type": "stream",
     "text": [
      "En iyi k değeri: 1\n"
     ]
    }
   ],
   "source": [
    "best_score = -np.inf\n",
    "best_k_test = 1\n",
    "\n",
    "for k in range(1, 21):\n",
    "    imputer = KNNImputer(n_neighbors=k)\n",
    "    X_imputed = imputer.fit_transform(X_test_no_outliers)\n",
    "\n",
    "    model = XGBClassifier(random_state=42)\n",
    "    scores = cross_val_score(model, X_imputed, y_test_no_outliers, cv=5)\n",
    "    mean_score = np.mean(scores)\n",
    "\n",
    "    if mean_score > best_score:\n",
    "        best_score = mean_score\n",
    "        best_k_test = k\n",
    "\n",
    "print(f\"En iyi k değeri: {best_k_test}\")"
   ]
  },
  {
   "cell_type": "code",
   "execution_count": 34,
   "metadata": {},
   "outputs": [
    {
     "name": "stdout",
     "output_type": "stream",
     "text": [
      "Fitting 5 folds for each of 972 candidates, totalling 4860 fits\n",
      "En iyi parametreler: {'colsample_bytree': 1.0, 'learning_rate': 0.1, 'max_depth': 3, 'min_child_weight': 3, 'n_estimators': 500, 'objective': 'binary:logistic', 'subsample': 1.0}\n"
     ]
    }
   ],
   "source": [
    "param_grid = {\n",
    "    'learning_rate': [0.1, 0.01, 0.001],\n",
    "    'max_depth': [3, 5, 7, 10],\n",
    "    'min_child_weight': [1, 3, 5],\n",
    "    'subsample': [0.5, 0.7, 1.0],\n",
    "    'colsample_bytree': [0.5, 0.7, 1.0],\n",
    "    'n_estimators' : [100, 200, 500],\n",
    "    'objective': ['binary:logistic']\n",
    "}\n",
    "\n",
    "model = XGBClassifier(random_state=42)\n",
    "\n",
    "grid = GridSearchCV(model, param_grid, verbose=3, n_jobs=-1, cv=5)\n",
    "grid.fit(X_train_no_outliers, y_train_no_outliers)\n",
    "\n",
    "print(f\"En iyi parametreler: {grid.best_params_}\")"
   ]
  },
  {
   "cell_type": "code",
   "execution_count": 35,
   "metadata": {},
   "outputs": [
    {
     "name": "stdout",
     "output_type": "stream",
     "text": [
      "Accuracy: 97.41379310344827%\n",
      "Precision: 95.83333333333334%\n",
      "Recall: 92.0%\n",
      "ROC AUC: 95.45054945054945%\n"
     ]
    }
   ],
   "source": [
    "X_train_no_outliers = KNNImputer(n_neighbors=best_k_train).fit_transform(X_train_no_outliers)\n",
    "X_test_no_outliers = KNNImputer(n_neighbors=best_k_test).fit_transform(X_test_no_outliers)\n",
    "\n",
    "xgb = XGBClassifier(random_state=42, **grid.best_params_)\n",
    "xgb.fit(X_train_no_outliers, y_train_no_outliers)\n",
    "\n",
    "y_pred = xgb.predict(X_test_no_outliers)\n",
    "\n",
    "accuracy = accuracy_score(y_test_no_outliers, y_pred)\n",
    "precision = precision_score(y_test_no_outliers, y_pred)\n",
    "recall = recall_score(y_test_no_outliers, y_pred)\n",
    "roc_auc = roc_auc_score(y_test_no_outliers, y_pred)\n",
    "\n",
    "print(f\"Accuracy: {accuracy * 100.0}%\")\n",
    "print(f\"Precision: {precision * 100.0}%\")\n",
    "print(f\"Recall: {recall * 100.0}%\")\n",
    "print(f\"ROC AUC: {roc_auc * 100.0}%\")\n",
    "\n",
    "d_no_outliers['XGB'] = {'Accuracy': accuracy, 'Precision': precision, 'Recall': recall, 'ROC AUC': roc_auc}"
   ]
  },
  {
   "cell_type": "markdown",
   "metadata": {},
   "source": [
    "#### 3.1.4- XGBoost Classification no_outliers_na_dropped"
   ]
  },
  {
   "cell_type": "code",
   "execution_count": 36,
   "metadata": {},
   "outputs": [
    {
     "name": "stdout",
     "output_type": "stream",
     "text": [
      "Fitting 5 folds for each of 972 candidates, totalling 4860 fits\n",
      "En iyi parametreler: {'colsample_bytree': 0.5, 'learning_rate': 0.01, 'max_depth': 3, 'min_child_weight': 3, 'n_estimators': 500, 'objective': 'binary:logistic', 'subsample': 1.0}\n"
     ]
    }
   ],
   "source": [
    "param_grid = {\n",
    "    'learning_rate': [0.1, 0.01, 0.001],\n",
    "    'max_depth': [3, 5, 7, 10],\n",
    "    'min_child_weight': [1, 3, 5],\n",
    "    'subsample': [0.5, 0.7, 1.0],\n",
    "    'colsample_bytree': [0.5, 0.7, 1.0],\n",
    "    'n_estimators' : [100, 200, 500],\n",
    "    'objective': ['binary:logistic']\n",
    "}\n",
    "\n",
    "model = XGBClassifier(random_state=42)\n",
    "\n",
    "grid = GridSearchCV(model, param_grid, verbose=3, n_jobs=-1, cv=5)\n",
    "grid.fit(X_train_no_outliers_na_dropped, y_train_no_outliers_na_dropped)\n",
    "\n",
    "print(f\"En iyi parametreler: {grid.best_params_}\")"
   ]
  },
  {
   "cell_type": "code",
   "execution_count": 37,
   "metadata": {},
   "outputs": [
    {
     "name": "stdout",
     "output_type": "stream",
     "text": [
      "Accuracy: 97.34513274336283%\n",
      "Precision: 100.0%\n",
      "Recall: 88.46153846153845%\n",
      "ROC AUC: 94.23076923076923%\n"
     ]
    }
   ],
   "source": [
    "xgb = XGBClassifier(random_state=42, **grid.best_params_)\n",
    "xgb.fit(X_train_no_outliers_na_dropped, y_train_no_outliers_na_dropped)\n",
    "\n",
    "y_pred = xgb.predict(X_test_no_outliers_na_dropped)\n",
    "\n",
    "accuracy = accuracy_score(y_test_no_outliers_na_dropped, y_pred)\n",
    "precision = precision_score(y_test_no_outliers_na_dropped, y_pred)\n",
    "recall = recall_score(y_test_no_outliers_na_dropped, y_pred)\n",
    "roc_auc = roc_auc_score(y_test_no_outliers_na_dropped, y_pred)\n",
    "\n",
    "print(f\"Accuracy: {accuracy * 100.0}%\")\n",
    "print(f\"Precision: {precision * 100.0}%\")\n",
    "print(f\"Recall: {recall * 100.0}%\")\n",
    "print(f\"ROC AUC: {roc_auc * 100.0}%\")\n",
    "\n",
    "d_no_outliers_na_dropped['XGB'] = {'Accuracy': accuracy, 'Precision': precision, 'Recall': recall, 'ROC AUC': roc_auc}"
   ]
  },
  {
   "cell_type": "markdown",
   "metadata": {},
   "source": [
    "#### 3.1.5- XGBoost Classification nan_outliers"
   ]
  },
  {
   "cell_type": "code",
   "execution_count": 38,
   "metadata": {},
   "outputs": [
    {
     "name": "stdout",
     "output_type": "stream",
     "text": [
      "En iyi k değeri: 2\n"
     ]
    }
   ],
   "source": [
    "best_score = -np.inf\n",
    "best_k_train = 1\n",
    "\n",
    "for k in range(1, 21):\n",
    "    imputer = KNNImputer(n_neighbors=k)\n",
    "    X_imputed = imputer.fit_transform(X_train_nan_outliers)\n",
    "\n",
    "    model = XGBClassifier(random_state=42)\n",
    "    scores = cross_val_score(model, X_imputed, y_train_nan_outliers, cv=5)\n",
    "    mean_score = np.mean(scores)\n",
    "\n",
    "    if mean_score > best_score:\n",
    "        best_score = mean_score\n",
    "        best_k_train = k\n",
    "\n",
    "print(f\"En iyi k değeri: {best_k_train}\")"
   ]
  },
  {
   "cell_type": "code",
   "execution_count": 39,
   "metadata": {},
   "outputs": [
    {
     "name": "stdout",
     "output_type": "stream",
     "text": [
      "En iyi k değeri: 2\n"
     ]
    }
   ],
   "source": [
    "best_score = -np.inf\n",
    "best_k_test = 1\n",
    "\n",
    "for k in range(1, 21):\n",
    "    imputer = KNNImputer(n_neighbors=k)\n",
    "    X_imputed = imputer.fit_transform(X_test_nan_outliers)\n",
    "\n",
    "    model = XGBClassifier(random_state=42)\n",
    "    scores = cross_val_score(model, X_imputed, y_test_nan_outliers, cv=5)\n",
    "    mean_score = np.mean(scores)\n",
    "\n",
    "    if mean_score > best_score:\n",
    "        best_score = mean_score\n",
    "        best_k_test = k\n",
    "\n",
    "print(f\"En iyi k değeri: {best_k_test}\")"
   ]
  },
  {
   "cell_type": "code",
   "execution_count": 40,
   "metadata": {},
   "outputs": [
    {
     "name": "stdout",
     "output_type": "stream",
     "text": [
      "Fitting 5 folds for each of 972 candidates, totalling 4860 fits\n",
      "En iyi parametreler: {'colsample_bytree': 0.5, 'learning_rate': 0.01, 'max_depth': 5, 'min_child_weight': 1, 'n_estimators': 500, 'objective': 'binary:logistic', 'subsample': 0.5}\n"
     ]
    }
   ],
   "source": [
    "param_grid = {\n",
    "    'learning_rate': [0.1, 0.01, 0.001],\n",
    "    'max_depth': [3, 5, 7, 10],\n",
    "    'min_child_weight': [1, 3, 5],\n",
    "    'subsample': [0.5, 0.7, 1.0],\n",
    "    'colsample_bytree': [0.5, 0.7, 1.0],\n",
    "    'n_estimators' : [100, 200, 500],\n",
    "    'objective': ['binary:logistic']\n",
    "}\n",
    "\n",
    "model = XGBClassifier(random_state=42)\n",
    "\n",
    "grid = GridSearchCV(model, param_grid, verbose=3, n_jobs=-1, cv=5)\n",
    "grid.fit(X_train_nan_outliers, y_train_nan_outliers)\n",
    "\n",
    "print(f\"En iyi parametreler: {grid.best_params_}\")"
   ]
  },
  {
   "cell_type": "code",
   "execution_count": 41,
   "metadata": {},
   "outputs": [
    {
     "name": "stdout",
     "output_type": "stream",
     "text": [
      "Accuracy: 96.42857142857143%\n",
      "Precision: 95.45454545454545%\n",
      "Recall: 93.33333333333333%\n",
      "ROC AUC: 95.6140350877193%\n"
     ]
    }
   ],
   "source": [
    "X_train_nan_outliers = KNNImputer(n_neighbors=best_k_train).fit_transform(X_train_nan_outliers)\n",
    "X_test_nan_outliers = KNNImputer(n_neighbors=best_k_test).fit_transform(X_test_nan_outliers)\n",
    "\n",
    "xgb = XGBClassifier(random_state=42, **grid.best_params_)\n",
    "xgb.fit(X_train_nan_outliers, y_train_nan_outliers)\n",
    "\n",
    "y_pred = xgb.predict(X_test_nan_outliers)\n",
    "\n",
    "accuracy = accuracy_score(y_test_nan_outliers, y_pred)\n",
    "precision = precision_score(y_test_nan_outliers, y_pred)\n",
    "recall = recall_score(y_test_nan_outliers, y_pred)\n",
    "roc_auc = roc_auc_score(y_test_nan_outliers, y_pred)\n",
    "\n",
    "print(f\"Accuracy: {accuracy * 100.0}%\")\n",
    "print(f\"Precision: {precision * 100.0}%\")\n",
    "print(f\"Recall: {recall * 100.0}%\")\n",
    "print(f\"ROC AUC: {roc_auc * 100.0}%\")\n",
    "\n",
    "d_nan_outliers['XGB'] = {'Accuracy': accuracy, 'Precision': precision, 'Recall': recall, 'ROC AUC': roc_auc}"
   ]
  },
  {
   "cell_type": "markdown",
   "metadata": {},
   "source": [
    "#### 3.1.6- XGBoost Classification nan_outliers_na_dropped"
   ]
  },
  {
   "cell_type": "code",
   "execution_count": 42,
   "metadata": {},
   "outputs": [
    {
     "name": "stdout",
     "output_type": "stream",
     "text": [
      "En iyi k değeri: 1\n"
     ]
    }
   ],
   "source": [
    "best_score = -np.inf\n",
    "best_k_train = 1\n",
    "\n",
    "for k in range(1, 21):\n",
    "    imputer = KNNImputer(n_neighbors=k)\n",
    "    X_imputed = imputer.fit_transform(X_train_nan_outliers_na_dropped)\n",
    "\n",
    "    model = XGBClassifier(random_state=42)\n",
    "    scores = cross_val_score(model, X_imputed, y_train_nan_outliers_na_dropped, cv=5)\n",
    "    mean_score = np.mean(scores)\n",
    "\n",
    "    if mean_score > best_score:\n",
    "        best_score = mean_score\n",
    "        best_k_train = k\n",
    "\n",
    "print(f\"En iyi k değeri: {best_k_train}\")"
   ]
  },
  {
   "cell_type": "code",
   "execution_count": 43,
   "metadata": {},
   "outputs": [
    {
     "name": "stdout",
     "output_type": "stream",
     "text": [
      "En iyi k değeri: 1\n"
     ]
    }
   ],
   "source": [
    "best_score = -np.inf\n",
    "best_k_test = 1\n",
    "\n",
    "for k in range(1, 21):\n",
    "    imputer = KNNImputer(n_neighbors=k)\n",
    "    X_imputed = imputer.fit_transform(X_test_nan_outliers_na_dropped)\n",
    "\n",
    "    model = XGBClassifier(random_state=42)\n",
    "    scores = cross_val_score(model, X_imputed, y_test_nan_outliers_na_dropped, cv=5)\n",
    "    mean_score = np.mean(scores)\n",
    "\n",
    "    if mean_score > best_score:\n",
    "        best_score = mean_score\n",
    "        best_k_test = k\n",
    "\n",
    "print(f\"En iyi k değeri: {best_k_test}\")"
   ]
  },
  {
   "cell_type": "code",
   "execution_count": 44,
   "metadata": {},
   "outputs": [
    {
     "name": "stdout",
     "output_type": "stream",
     "text": [
      "Fitting 5 folds for each of 972 candidates, totalling 4860 fits\n",
      "En iyi parametreler: {'colsample_bytree': 0.5, 'learning_rate': 0.1, 'max_depth': 3, 'min_child_weight': 5, 'n_estimators': 100, 'objective': 'binary:logistic', 'subsample': 0.7}\n"
     ]
    }
   ],
   "source": [
    "param_grid = {\n",
    "    'learning_rate': [0.1, 0.01, 0.001],\n",
    "    'max_depth': [3, 5, 7, 10],\n",
    "    'min_child_weight': [1, 3, 5],\n",
    "    'subsample': [0.5, 0.7, 1.0],\n",
    "    'colsample_bytree': [0.5, 0.7, 1.0],\n",
    "    'n_estimators' : [100, 200, 500],\n",
    "    'objective': ['binary:logistic']\n",
    "}\n",
    "\n",
    "model = XGBClassifier(random_state=42)\n",
    "\n",
    "grid = GridSearchCV(model, param_grid, verbose=3, n_jobs=-1, cv=5)\n",
    "grid.fit(X_train_nan_outliers_na_dropped, y_train_nan_outliers_na_dropped)\n",
    "\n",
    "print(f\"En iyi parametreler: {grid.best_params_}\")"
   ]
  },
  {
   "cell_type": "code",
   "execution_count": 45,
   "metadata": {},
   "outputs": [
    {
     "name": "stdout",
     "output_type": "stream",
     "text": [
      "Accuracy: 95.62043795620438%\n",
      "Precision: 98.14814814814815%\n",
      "Recall: 91.37931034482759%\n",
      "ROC AUC: 95.05674378000873%\n"
     ]
    }
   ],
   "source": [
    "X_train_nan_outliers_na_dropped = KNNImputer(n_neighbors=best_k_train).fit_transform(X_train_nan_outliers_na_dropped)\n",
    "X_test_nan_outliers_na_dropped = KNNImputer(n_neighbors=best_k_test).fit_transform(X_test_nan_outliers_na_dropped)\n",
    "\n",
    "xgb = XGBClassifier(random_state=42, **grid.best_params_)\n",
    "xgb.fit(X_train_nan_outliers_na_dropped, y_train_nan_outliers_na_dropped)\n",
    "\n",
    "y_pred = xgb.predict(X_test_nan_outliers_na_dropped)\n",
    "\n",
    "accuracy = accuracy_score(y_test_nan_outliers_na_dropped, y_pred)\n",
    "precision = precision_score(y_test_nan_outliers_na_dropped, y_pred)\n",
    "recall = recall_score(y_test_nan_outliers_na_dropped, y_pred)\n",
    "roc_auc = roc_auc_score(y_test_nan_outliers_na_dropped, y_pred)\n",
    "\n",
    "print(f\"Accuracy: {accuracy * 100.0}%\")\n",
    "print(f\"Precision: {precision * 100.0}%\")\n",
    "print(f\"Recall: {recall * 100.0}%\")\n",
    "print(f\"ROC AUC: {roc_auc * 100.0}%\")\n",
    "\n",
    "d_nan_outliers_na_dropped['XGB'] = {'Accuracy': accuracy, 'Precision': precision, 'Recall': recall, 'ROC AUC': roc_auc}"
   ]
  },
  {
   "cell_type": "markdown",
   "metadata": {},
   "source": [
    "### 3.2- Logistic Regression"
   ]
  },
  {
   "cell_type": "code",
   "execution_count": 46,
   "metadata": {},
   "outputs": [],
   "source": [
    "from sklearn.linear_model import LogisticRegression"
   ]
  },
  {
   "cell_type": "markdown",
   "metadata": {},
   "source": [
    "#### 3.2.1- Logistic Regression with_outliers"
   ]
  },
  {
   "cell_type": "code",
   "execution_count": 47,
   "metadata": {},
   "outputs": [
    {
     "name": "stdout",
     "output_type": "stream",
     "text": [
      "En iyi k değeri: 1\n"
     ]
    }
   ],
   "source": [
    "best_score = -np.inf\n",
    "best_k_train = 1\n",
    "\n",
    "for k in range(1, 21):\n",
    "    imputer = KNNImputer(n_neighbors=k)\n",
    "    X_imputed = imputer.fit_transform(X_train_with_outliers)\n",
    "\n",
    "    model = LogisticRegression(random_state=42)\n",
    "    scores = cross_val_score(model, X_imputed, y_train_with_outliers, cv=5)\n",
    "    mean_score = np.mean(scores)\n",
    "\n",
    "    if mean_score > best_score:\n",
    "        best_score = mean_score\n",
    "        best_k_train = k\n",
    "\n",
    "print(f\"En iyi k değeri: {best_k_train}\")"
   ]
  },
  {
   "cell_type": "code",
   "execution_count": 48,
   "metadata": {},
   "outputs": [
    {
     "name": "stdout",
     "output_type": "stream",
     "text": [
      "En iyi k değeri: 1\n"
     ]
    }
   ],
   "source": [
    "best_score = -np.inf\n",
    "best_k_test = 1\n",
    "\n",
    "for k in range(1, 21):\n",
    "    imputer = KNNImputer(n_neighbors=k)\n",
    "    X_imputed = imputer.fit_transform(X_test_with_outliers)\n",
    "\n",
    "    model = LogisticRegression(random_state=42)\n",
    "    scores = cross_val_score(model, X_imputed, y_test_with_outliers, cv=5)\n",
    "    mean_score = np.mean(scores)\n",
    "\n",
    "    if mean_score > best_score:\n",
    "        best_score = mean_score\n",
    "        best_k_test = k\n",
    "\n",
    "print(f\"En iyi k değeri: {best_k_test}\")"
   ]
  },
  {
   "cell_type": "code",
   "execution_count": 49,
   "metadata": {},
   "outputs": [
    {
     "name": "stdout",
     "output_type": "stream",
     "text": [
      "Fitting 5 folds for each of 30 candidates, totalling 150 fits\n",
      "En iyi parametreler: {'C': 1, 'max_iter': 100, 'multi_class': 'ovr', 'penalty': 'l2', 'solver': 'liblinear'}\n"
     ]
    }
   ],
   "source": [
    "param_grid = {\n",
    "    'penalty': ['l1', 'l2'],\n",
    "    'solver': ['liblinear'],\n",
    "    'C': [0.1, 1, 10, 100, 1000],\n",
    "    'max_iter': [100, 300, 500],\n",
    "    'multi_class': ['ovr']\n",
    "}\n",
    "\n",
    "model = LogisticRegression(random_state=42)\n",
    "\n",
    "grid = GridSearchCV(model, param_grid, verbose=3, n_jobs=-1, cv=5)\n",
    "grid.fit(X_train_with_outliers, y_train_with_outliers)\n",
    "\n",
    "print(f\"En iyi parametreler: {grid.best_params_}\")"
   ]
  },
  {
   "cell_type": "code",
   "execution_count": 50,
   "metadata": {},
   "outputs": [
    {
     "name": "stdout",
     "output_type": "stream",
     "text": [
      "Accuracy: 97.85714285714285%\n",
      "Precision: 95.65217391304348%\n",
      "Recall: 97.77777777777777%\n",
      "ROC AUC: 97.83625730994152%\n"
     ]
    }
   ],
   "source": [
    "X_train_with_outliers = KNNImputer(n_neighbors=best_k_train).fit_transform(X_train_with_outliers)\n",
    "X_test_with_outliers = KNNImputer(n_neighbors=best_k_test).fit_transform(X_test_with_outliers)\n",
    "\n",
    "lr = LogisticRegression(random_state=42, **grid.best_params_)\n",
    "lr.fit(X_train_with_outliers, y_train_with_outliers)\n",
    "\n",
    "y_pred = lr.predict(X_test_with_outliers)\n",
    "\n",
    "accuracy = accuracy_score(y_test_with_outliers, y_pred)\n",
    "precision = precision_score(y_test_with_outliers, y_pred)\n",
    "recall = recall_score(y_test_with_outliers, y_pred)\n",
    "roc_auc = roc_auc_score(y_test_with_outliers, y_pred)\n",
    "\n",
    "print(f\"Accuracy: {accuracy * 100.0}%\")\n",
    "print(f\"Precision: {precision * 100.0}%\")\n",
    "print(f\"Recall: {recall * 100.0}%\")\n",
    "print(f\"ROC AUC: {roc_auc * 100.0}%\")\n",
    "\n",
    "d_with_outliers['LR'] = {'Accuracy': accuracy, 'Precision': precision, 'Recall': recall, 'ROC AUC': roc_auc}"
   ]
  },
  {
   "cell_type": "markdown",
   "metadata": {},
   "source": [
    "#### 3.2.2- Logistic Regression with_outliers_na_dropped"
   ]
  },
  {
   "cell_type": "code",
   "execution_count": 51,
   "metadata": {},
   "outputs": [
    {
     "name": "stdout",
     "output_type": "stream",
     "text": [
      "Fitting 5 folds for each of 30 candidates, totalling 150 fits\n",
      "En iyi parametreler: {'C': 10, 'max_iter': 100, 'multi_class': 'ovr', 'penalty': 'l2', 'solver': 'liblinear'}\n"
     ]
    }
   ],
   "source": [
    "param_grid = {\n",
    "    'penalty': ['l1', 'l2'],\n",
    "    'solver': ['liblinear'],\n",
    "    'C': [0.1, 1, 10, 100, 1000],\n",
    "    'max_iter': [100, 300, 500],\n",
    "    'multi_class': ['ovr'],\n",
    "}\n",
    "\n",
    "model = LogisticRegression(random_state=42)\n",
    "\n",
    "grid = GridSearchCV(model, param_grid, verbose=3, n_jobs=-1, cv=5)\n",
    "grid.fit(X_train_with_outliers_na_dropped, y_train_with_outliers_na_dropped)\n",
    "\n",
    "print(f\"En iyi parametreler: {grid.best_params_}\")"
   ]
  },
  {
   "cell_type": "code",
   "execution_count": 52,
   "metadata": {},
   "outputs": [
    {
     "name": "stdout",
     "output_type": "stream",
     "text": [
      "Accuracy: 97.08029197080292%\n",
      "Precision: 98.21428571428571%\n",
      "Recall: 94.82758620689656%\n",
      "ROC AUC: 96.78088171104322%\n"
     ]
    }
   ],
   "source": [
    "lr = LogisticRegression(random_state=42, **grid.best_params_)\n",
    "lr.fit(X_train_with_outliers_na_dropped, y_train_with_outliers_na_dropped)\n",
    "\n",
    "y_pred = lr.predict(X_test_with_outliers_na_dropped)\n",
    "\n",
    "accuracy = accuracy_score(y_test_with_outliers_na_dropped, y_pred)\n",
    "precision = precision_score(y_test_with_outliers_na_dropped, y_pred)\n",
    "recall = recall_score(y_test_with_outliers_na_dropped, y_pred)\n",
    "roc_auc = roc_auc_score(y_test_with_outliers_na_dropped, y_pred)\n",
    "\n",
    "print(f\"Accuracy: {accuracy * 100.0}%\")\n",
    "print(f\"Precision: {precision * 100.0}%\")\n",
    "print(f\"Recall: {recall * 100.0}%\")\n",
    "print(f\"ROC AUC: {roc_auc * 100.0}%\")\n",
    "\n",
    "d_with_outliers_na_dropped['LR'] = {'Accuracy': accuracy, 'Precision': precision, 'Recall': recall, 'ROC AUC': roc_auc}"
   ]
  },
  {
   "cell_type": "markdown",
   "metadata": {},
   "source": [
    "#### 3.2.3- Logistic Regression no_outliers"
   ]
  },
  {
   "cell_type": "code",
   "execution_count": 53,
   "metadata": {},
   "outputs": [
    {
     "name": "stdout",
     "output_type": "stream",
     "text": [
      "En iyi k değeri: 1\n"
     ]
    }
   ],
   "source": [
    "best_score = -np.inf\n",
    "best_k_train = 1\n",
    "\n",
    "for k in range(1, 21):\n",
    "    imputer = KNNImputer(n_neighbors=k)\n",
    "    X_imputed = imputer.fit_transform(X_train_no_outliers)\n",
    "\n",
    "    model = LogisticRegression(random_state=42)\n",
    "    scores = cross_val_score(model, X_imputed, y_train_no_outliers, cv=5)\n",
    "    mean_score = np.mean(scores)\n",
    "\n",
    "    if mean_score > best_score:\n",
    "        best_score = mean_score\n",
    "        best_k_train = k\n",
    "\n",
    "print(f\"En iyi k değeri: {best_k_train}\")"
   ]
  },
  {
   "cell_type": "code",
   "execution_count": 54,
   "metadata": {},
   "outputs": [
    {
     "name": "stdout",
     "output_type": "stream",
     "text": [
      "En iyi k değeri: 1\n"
     ]
    }
   ],
   "source": [
    "best_score = -np.inf\n",
    "best_k_test = 1\n",
    "\n",
    "for k in range(1, 21):\n",
    "    imputer = KNNImputer(n_neighbors=k)\n",
    "    X_imputed = imputer.fit_transform(X_test_no_outliers)\n",
    "\n",
    "    model = LogisticRegression(random_state=42)\n",
    "    scores = cross_val_score(model, X_imputed, y_test_no_outliers, cv=5)\n",
    "    mean_score = np.mean(scores)\n",
    "\n",
    "    if mean_score > best_score:\n",
    "        best_score = mean_score\n",
    "        best_k_test = k\n",
    "\n",
    "print(f\"En iyi k değeri: {best_k_test}\")"
   ]
  },
  {
   "cell_type": "code",
   "execution_count": 55,
   "metadata": {},
   "outputs": [
    {
     "name": "stdout",
     "output_type": "stream",
     "text": [
      "Fitting 5 folds for each of 30 candidates, totalling 150 fits\n",
      "En iyi parametreler: {'C': 1, 'max_iter': 100, 'multi_class': 'ovr', 'penalty': 'l1', 'solver': 'liblinear'}\n"
     ]
    }
   ],
   "source": [
    "param_grid = {\n",
    "    'penalty': ['l1', 'l2'],\n",
    "    'solver': ['liblinear'],\n",
    "    'C': [0.1, 1, 10, 100, 1000],\n",
    "    'max_iter': [100, 300, 500],\n",
    "    'multi_class': ['ovr'],\n",
    "}\n",
    "\n",
    "model = LogisticRegression(random_state=42)\n",
    "\n",
    "grid = GridSearchCV(model, param_grid, verbose=3, n_jobs=-1, cv=5)\n",
    "grid.fit(X_train_no_outliers, y_train_no_outliers)\n",
    "\n",
    "print(f\"En iyi parametreler: {grid.best_params_}\")"
   ]
  },
  {
   "cell_type": "code",
   "execution_count": 56,
   "metadata": {},
   "outputs": [
    {
     "name": "stdout",
     "output_type": "stream",
     "text": [
      "Accuracy: 97.41379310344827%\n",
      "Precision: 95.83333333333334%\n",
      "Recall: 92.0%\n",
      "ROC AUC: 95.45054945054945%\n"
     ]
    }
   ],
   "source": [
    "X_train_no_outliers = KNNImputer(n_neighbors=best_k_train).fit_transform(X_train_no_outliers)\n",
    "X_test_no_outliers = KNNImputer(n_neighbors=best_k_test).fit_transform(X_test_no_outliers)\n",
    "\n",
    "lr = LogisticRegression(random_state=42, **grid.best_params_)\n",
    "lr.fit(X_train_no_outliers, y_train_no_outliers)\n",
    "\n",
    "y_pred = lr.predict(X_test_no_outliers)\n",
    "\n",
    "accuracy = accuracy_score(y_test_no_outliers, y_pred)\n",
    "precision = precision_score(y_test_no_outliers, y_pred)\n",
    "recall = recall_score(y_test_no_outliers, y_pred)\n",
    "roc_auc = roc_auc_score(y_test_no_outliers, y_pred)\n",
    "\n",
    "print(f\"Accuracy: {accuracy * 100.0}%\")\n",
    "print(f\"Precision: {precision * 100.0}%\")\n",
    "print(f\"Recall: {recall * 100.0}%\")\n",
    "print(f\"ROC AUC: {roc_auc * 100.0}%\")\n",
    "\n",
    "d_no_outliers['LR'] = {'Accuracy': accuracy, 'Precision': precision, 'Recall': recall, 'ROC AUC': roc_auc}"
   ]
  },
  {
   "cell_type": "markdown",
   "metadata": {},
   "source": [
    "#### 3.2.4- Logistic Regression no_outliers_na_dropped"
   ]
  },
  {
   "cell_type": "code",
   "execution_count": 57,
   "metadata": {},
   "outputs": [
    {
     "name": "stdout",
     "output_type": "stream",
     "text": [
      "Fitting 5 folds for each of 30 candidates, totalling 150 fits\n",
      "En iyi parametreler: {'C': 1, 'max_iter': 100, 'multi_class': 'ovr', 'penalty': 'l2', 'solver': 'liblinear'}\n"
     ]
    }
   ],
   "source": [
    "param_grid = {\n",
    "    'penalty': ['l1', 'l2'],\n",
    "    'solver': ['liblinear'],\n",
    "    'C': [0.1, 1, 10, 100, 1000],\n",
    "    'max_iter': [100, 300, 500],\n",
    "    'multi_class': ['ovr'],\n",
    "}\n",
    "\n",
    "model = LogisticRegression(random_state=42)\n",
    "\n",
    "grid = GridSearchCV(model, param_grid, verbose=3, n_jobs=-1, cv=5)\n",
    "grid.fit(X_train_no_outliers_na_dropped, y_train_no_outliers_na_dropped)\n",
    "\n",
    "print(f\"En iyi parametreler: {grid.best_params_}\")"
   ]
  },
  {
   "cell_type": "code",
   "execution_count": 58,
   "metadata": {},
   "outputs": [
    {
     "name": "stdout",
     "output_type": "stream",
     "text": [
      "Accuracy: 95.57522123893806%\n",
      "Precision: 100.0%\n",
      "Recall: 80.76923076923077%\n",
      "ROC AUC: 90.38461538461539%\n"
     ]
    }
   ],
   "source": [
    "lr = LogisticRegression(random_state=42, **grid.best_params_)\n",
    "lr.fit(X_train_no_outliers_na_dropped, y_train_no_outliers_na_dropped)\n",
    "\n",
    "y_pred = lr.predict(X_test_no_outliers_na_dropped)\n",
    "\n",
    "accuracy = accuracy_score(y_test_no_outliers_na_dropped, y_pred)\n",
    "precision = precision_score(y_test_no_outliers_na_dropped, y_pred)\n",
    "recall = recall_score(y_test_no_outliers_na_dropped, y_pred)\n",
    "roc_auc = roc_auc_score(y_test_no_outliers_na_dropped, y_pred)\n",
    "\n",
    "print(f\"Accuracy: {accuracy * 100.0}%\")\n",
    "print(f\"Precision: {precision * 100.0}%\")\n",
    "print(f\"Recall: {recall * 100.0}%\")\n",
    "print(f\"ROC AUC: {roc_auc * 100.0}%\")\n",
    "\n",
    "d_no_outliers_na_dropped['LR'] = {'Accuracy': accuracy, 'Precision': precision, 'Recall': recall, 'ROC AUC': roc_auc}"
   ]
  },
  {
   "cell_type": "markdown",
   "metadata": {},
   "source": [
    "#### 3.2.5- Logistic Regression nan_outliers"
   ]
  },
  {
   "cell_type": "code",
   "execution_count": 59,
   "metadata": {},
   "outputs": [
    {
     "name": "stdout",
     "output_type": "stream",
     "text": [
      "En iyi k değeri: 1\n"
     ]
    }
   ],
   "source": [
    "best_score = -np.inf\n",
    "best_k_train = 1\n",
    "\n",
    "for k in range(1, 21):\n",
    "    imputer = KNNImputer(n_neighbors=k)\n",
    "    X_imputed = imputer.fit_transform(X_train_nan_outliers)\n",
    "\n",
    "    model = LogisticRegression(random_state=42)\n",
    "    scores = cross_val_score(model, X_imputed, y_train_nan_outliers, cv=5)\n",
    "    mean_score = np.mean(scores)\n",
    "\n",
    "    if mean_score > best_score:\n",
    "        best_score = mean_score\n",
    "        best_k_train = k\n",
    "\n",
    "print(f\"En iyi k değeri: {best_k_train}\")"
   ]
  },
  {
   "cell_type": "code",
   "execution_count": 60,
   "metadata": {},
   "outputs": [
    {
     "name": "stdout",
     "output_type": "stream",
     "text": [
      "En iyi k değeri: 1\n"
     ]
    }
   ],
   "source": [
    "best_score = -np.inf\n",
    "best_k_test = 1\n",
    "\n",
    "for k in range(1, 21):\n",
    "    imputer = KNNImputer(n_neighbors=k)\n",
    "    X_imputed = imputer.fit_transform(X_test_nan_outliers)\n",
    "\n",
    "    model = LogisticRegression(random_state=42)\n",
    "    scores = cross_val_score(model, X_imputed, y_test_nan_outliers, cv=5)\n",
    "    mean_score = np.mean(scores)\n",
    "\n",
    "    if mean_score > best_score:\n",
    "        best_score = mean_score\n",
    "        best_k_test = k\n",
    "\n",
    "print(f\"En iyi k değeri: {best_k_test}\")"
   ]
  },
  {
   "cell_type": "code",
   "execution_count": 61,
   "metadata": {},
   "outputs": [
    {
     "name": "stdout",
     "output_type": "stream",
     "text": [
      "Fitting 5 folds for each of 30 candidates, totalling 150 fits\n",
      "En iyi parametreler: {'C': 1, 'max_iter': 100, 'multi_class': 'ovr', 'penalty': 'l1', 'solver': 'liblinear'}\n"
     ]
    }
   ],
   "source": [
    "param_grid = {\n",
    "    'penalty': ['l1', 'l2'],\n",
    "    'solver': ['liblinear'],\n",
    "    'C': [0.1, 1, 10, 100, 1000],\n",
    "    'max_iter': [100, 300, 500],\n",
    "    'multi_class': ['ovr'],\n",
    "}\n",
    "\n",
    "model = LogisticRegression(random_state=42)\n",
    "\n",
    "grid = GridSearchCV(model, param_grid, verbose=3, n_jobs=-1, cv=5)\n",
    "grid.fit(X_train_nan_outliers, y_train_nan_outliers)\n",
    "\n",
    "print(f\"En iyi parametreler: {grid.best_params_}\")"
   ]
  },
  {
   "cell_type": "code",
   "execution_count": 62,
   "metadata": {},
   "outputs": [
    {
     "name": "stdout",
     "output_type": "stream",
     "text": [
      "Accuracy: 95.71428571428572%\n",
      "Precision: 95.34883720930233%\n",
      "Recall: 91.11111111111111%\n",
      "ROC AUC: 94.50292397660819%\n"
     ]
    }
   ],
   "source": [
    "X_train_nan_outliers = KNNImputer(n_neighbors=best_k_train).fit_transform(X_train_nan_outliers)\n",
    "X_test_nan_outliers = KNNImputer(n_neighbors=best_k_test).fit_transform(X_test_nan_outliers)\n",
    "\n",
    "lr = LogisticRegression(random_state=42, **grid.best_params_)\n",
    "lr.fit(X_train_nan_outliers, y_train_nan_outliers)\n",
    "\n",
    "y_pred = lr.predict(X_test_nan_outliers)\n",
    "\n",
    "accuracy = accuracy_score(y_test_nan_outliers, y_pred)\n",
    "precision = precision_score(y_test_nan_outliers, y_pred)\n",
    "recall = recall_score(y_test_nan_outliers, y_pred)\n",
    "roc_auc = roc_auc_score(y_test_nan_outliers, y_pred)\n",
    "\n",
    "print(f\"Accuracy: {accuracy * 100.0}%\")\n",
    "print(f\"Precision: {precision * 100.0}%\")\n",
    "print(f\"Recall: {recall * 100.0}%\")\n",
    "print(f\"ROC AUC: {roc_auc * 100.0}%\")\n",
    "\n",
    "d_nan_outliers['LR'] = {'Accuracy': accuracy, 'Precision': precision, 'Recall': recall, 'ROC AUC': roc_auc}"
   ]
  },
  {
   "cell_type": "markdown",
   "metadata": {},
   "source": [
    "#### 3.2.6- Logistic Regression nan_outliers_na_dropped"
   ]
  },
  {
   "cell_type": "code",
   "execution_count": 63,
   "metadata": {},
   "outputs": [
    {
     "name": "stdout",
     "output_type": "stream",
     "text": [
      "En iyi k değeri: 1\n"
     ]
    }
   ],
   "source": [
    "best_score = -np.inf\n",
    "best_k_train = 1\n",
    "\n",
    "for k in range(1, 21):\n",
    "    imputer = KNNImputer(n_neighbors=k)\n",
    "    X_imputed = imputer.fit_transform(X_train_nan_outliers_na_dropped)\n",
    "\n",
    "    model = LogisticRegression(random_state=42)\n",
    "    scores = cross_val_score(model, X_imputed, y_train_nan_outliers_na_dropped, cv=5)\n",
    "    mean_score = np.mean(scores)\n",
    "\n",
    "    if mean_score > best_score:\n",
    "        best_score = mean_score\n",
    "        best_k_train = k\n",
    "\n",
    "print(f\"En iyi k değeri: {best_k_train}\")"
   ]
  },
  {
   "cell_type": "code",
   "execution_count": 64,
   "metadata": {},
   "outputs": [
    {
     "name": "stdout",
     "output_type": "stream",
     "text": [
      "En iyi k değeri: 1\n"
     ]
    }
   ],
   "source": [
    "best_score = -np.inf\n",
    "best_k_test = 1\n",
    "\n",
    "for k in range(1, 21):\n",
    "    imputer = KNNImputer(n_neighbors=k)\n",
    "    X_imputed = imputer.fit_transform(X_test_nan_outliers_na_dropped)\n",
    "\n",
    "    model = LogisticRegression(random_state=42)\n",
    "    scores = cross_val_score(model, X_imputed, y_test_nan_outliers_na_dropped, cv=5)\n",
    "    mean_score = np.mean(scores)\n",
    "\n",
    "    if mean_score > best_score:\n",
    "        best_score = mean_score\n",
    "        best_k_test = k\n",
    "\n",
    "print(f\"En iyi k değeri: {best_k_test}\")"
   ]
  },
  {
   "cell_type": "code",
   "execution_count": 65,
   "metadata": {},
   "outputs": [
    {
     "name": "stdout",
     "output_type": "stream",
     "text": [
      "Fitting 5 folds for each of 30 candidates, totalling 150 fits\n",
      "En iyi parametreler: {'C': 0.1, 'max_iter': 100, 'multi_class': 'ovr', 'penalty': 'l2', 'solver': 'liblinear'}\n"
     ]
    }
   ],
   "source": [
    "param_grid = {\n",
    "    'penalty': ['l1', 'l2'],\n",
    "    'solver': ['liblinear'],\n",
    "    'C': [0.1, 1, 10, 100, 1000],\n",
    "    'max_iter': [100, 300, 500],\n",
    "    'multi_class': ['ovr'],\n",
    "}\n",
    "\n",
    "model = LogisticRegression(random_state=42)\n",
    "\n",
    "grid = GridSearchCV(model, param_grid, verbose=3, n_jobs=-1, cv=5)\n",
    "grid.fit(X_train_nan_outliers_na_dropped, y_train_nan_outliers_na_dropped)\n",
    "\n",
    "print(f\"En iyi parametreler: {grid.best_params_}\")"
   ]
  },
  {
   "cell_type": "code",
   "execution_count": 66,
   "metadata": {},
   "outputs": [
    {
     "name": "stdout",
     "output_type": "stream",
     "text": [
      "Accuracy: 94.8905109489051%\n",
      "Precision: 96.36363636363636%\n",
      "Recall: 91.37931034482759%\n",
      "ROC AUC: 94.42383238760367%\n"
     ]
    }
   ],
   "source": [
    "lr = LogisticRegression(random_state=42, **grid.best_params_)\n",
    "lr.fit(X_train_nan_outliers_na_dropped, y_train_nan_outliers_na_dropped)\n",
    "\n",
    "y_pred = lr.predict(X_test_nan_outliers_na_dropped)\n",
    "\n",
    "accuracy = accuracy_score(y_test_nan_outliers_na_dropped, y_pred)\n",
    "precision = precision_score(y_test_nan_outliers_na_dropped, y_pred)\n",
    "recall = recall_score(y_test_nan_outliers_na_dropped, y_pred)\n",
    "roc_auc = roc_auc_score(y_test_nan_outliers_na_dropped, y_pred)\n",
    "\n",
    "print(f\"Accuracy: {accuracy * 100.0}%\")\n",
    "print(f\"Precision: {precision * 100.0}%\")\n",
    "print(f\"Recall: {recall * 100.0}%\")\n",
    "print(f\"ROC AUC: {roc_auc * 100.0}%\")\n",
    "\n",
    "d_nan_outliers_na_dropped['LR'] = {'Accuracy': accuracy, 'Precision': precision, 'Recall': recall, 'ROC AUC': roc_auc}"
   ]
  },
  {
   "cell_type": "markdown",
   "metadata": {},
   "source": [
    "### 3.3- Random Forest Classification"
   ]
  },
  {
   "cell_type": "code",
   "execution_count": 67,
   "metadata": {},
   "outputs": [],
   "source": [
    "from sklearn.ensemble import RandomForestClassifier"
   ]
  },
  {
   "cell_type": "markdown",
   "metadata": {},
   "source": [
    "#### 3.3.1- Random Forest Classification with_outliers"
   ]
  },
  {
   "cell_type": "code",
   "execution_count": 68,
   "metadata": {},
   "outputs": [
    {
     "name": "stdout",
     "output_type": "stream",
     "text": [
      "En iyi k değeri: 1\n"
     ]
    }
   ],
   "source": [
    "best_score = -np.inf\n",
    "best_k_train = 1\n",
    "\n",
    "for k in range(1, 21):\n",
    "    imputer = KNNImputer(n_neighbors=k)\n",
    "    X_imputed = imputer.fit_transform(X_train_with_outliers)\n",
    "\n",
    "    model = RandomForestClassifier(random_state=42)\n",
    "    scores = cross_val_score(model, X_imputed, y_train_with_outliers, cv=5)\n",
    "    mean_score = np.mean(scores)\n",
    "\n",
    "    if mean_score > best_score:\n",
    "        best_score = mean_score\n",
    "        best_k_train = k\n",
    "\n",
    "print(f\"En iyi k değeri: {best_k_train}\")"
   ]
  },
  {
   "cell_type": "code",
   "execution_count": 69,
   "metadata": {},
   "outputs": [
    {
     "name": "stdout",
     "output_type": "stream",
     "text": [
      "En iyi k değeri: 1\n"
     ]
    }
   ],
   "source": [
    "best_score = -np.inf\n",
    "best_k_test = 1\n",
    "\n",
    "for k in range(1, 21):\n",
    "    imputer = KNNImputer(n_neighbors=k)\n",
    "    X_imputed = imputer.fit_transform(X_test_with_outliers)\n",
    "\n",
    "    model = RandomForestClassifier(random_state=42)\n",
    "    scores = cross_val_score(model, X_imputed, y_test_with_outliers, cv=5)\n",
    "    mean_score = np.mean(scores)\n",
    "\n",
    "    if mean_score > best_score:\n",
    "        best_score = mean_score\n",
    "        best_k_test = k\n",
    "\n",
    "print(f\"En iyi k değeri: {best_k_test}\")"
   ]
  },
  {
   "cell_type": "code",
   "execution_count": 70,
   "metadata": {},
   "outputs": [
    {
     "name": "stdout",
     "output_type": "stream",
     "text": [
      "Fitting 5 folds for each of 540 candidates, totalling 2700 fits\n",
      "En iyi parametreler: {'bootstrap': True, 'max_depth': None, 'min_samples_leaf': 1, 'min_samples_split': 2, 'n_estimators': 200}\n"
     ]
    }
   ],
   "source": [
    "param_grid = {\n",
    "    'n_estimators': [100, 200, 300, 400, 500],\n",
    "    'max_depth': [None, 10, 20, 30, 40, 50],\n",
    "    'min_samples_split': [2, 5, 10],\n",
    "    'min_samples_leaf': [1, 2, 4],\n",
    "    'bootstrap': [True, False]\n",
    "}\n",
    "\n",
    "model = RandomForestClassifier(random_state=42)\n",
    "\n",
    "grid = GridSearchCV(model, param_grid, verbose=3, n_jobs=-1, cv=5)\n",
    "grid.fit(X_train_with_outliers, y_train_with_outliers)\n",
    "\n",
    "print(f\"En iyi parametreler: {grid.best_params_}\")"
   ]
  },
  {
   "cell_type": "code",
   "execution_count": 71,
   "metadata": {},
   "outputs": [
    {
     "name": "stdout",
     "output_type": "stream",
     "text": [
      "Accuracy: 97.14285714285714%\n",
      "Precision: 95.55555555555556%\n",
      "Recall: 95.55555555555556%\n",
      "ROC AUC: 96.72514619883043%\n"
     ]
    }
   ],
   "source": [
    "X_train_with_outliers = KNNImputer(n_neighbors=best_k_train).fit_transform(X_train_with_outliers)\n",
    "X_test_with_outliers = KNNImputer(n_neighbors=best_k_test).fit_transform(X_test_with_outliers)\n",
    "\n",
    "rfr = RandomForestClassifier(random_state=42, **grid.best_params_)\n",
    "rfr.fit(X_train_with_outliers, y_train_with_outliers)\n",
    "\n",
    "y_pred = rfr.predict(X_test_with_outliers)\n",
    "\n",
    "accuracy = accuracy_score(y_test_with_outliers, y_pred)\n",
    "precision = precision_score(y_test_with_outliers, y_pred)\n",
    "recall = recall_score(y_test_with_outliers, y_pred)\n",
    "roc_auc = roc_auc_score(y_test_with_outliers, y_pred)\n",
    "\n",
    "print(f\"Accuracy: {accuracy * 100.0}%\")\n",
    "print(f\"Precision: {precision * 100.0}%\")\n",
    "print(f\"Recall: {recall * 100.0}%\")\n",
    "print(f\"ROC AUC: {roc_auc * 100.0}%\")\n",
    "\n",
    "d_with_outliers['RFR'] = {'Accuracy': accuracy, 'Precision': precision, 'Recall': recall, 'ROC AUC': roc_auc}"
   ]
  },
  {
   "cell_type": "markdown",
   "metadata": {},
   "source": [
    "#### 3.3.2- Random Forest Classification with_outliers_na_dropped"
   ]
  },
  {
   "cell_type": "code",
   "execution_count": 72,
   "metadata": {},
   "outputs": [
    {
     "name": "stdout",
     "output_type": "stream",
     "text": [
      "Fitting 5 folds for each of 540 candidates, totalling 2700 fits\n",
      "En iyi parametreler: {'bootstrap': True, 'max_depth': None, 'min_samples_leaf': 1, 'min_samples_split': 10, 'n_estimators': 200}\n"
     ]
    }
   ],
   "source": [
    "param_grid = {\n",
    "    'n_estimators': [100, 200, 300, 400, 500],\n",
    "    'max_depth': [None, 10, 20, 30, 40, 50],\n",
    "    'min_samples_split': [2, 5, 10],\n",
    "    'min_samples_leaf': [1, 2, 4],\n",
    "    'bootstrap': [True, False]\n",
    "}\n",
    "\n",
    "model = RandomForestClassifier(random_state=42)\n",
    "\n",
    "grid = GridSearchCV(model, param_grid, verbose=3, n_jobs=-1, cv=5)\n",
    "grid.fit(X_train_with_outliers_na_dropped, y_train_with_outliers_na_dropped)\n",
    "\n",
    "print(f\"En iyi parametreler: {grid.best_params_}\")"
   ]
  },
  {
   "cell_type": "code",
   "execution_count": 73,
   "metadata": {},
   "outputs": [
    {
     "name": "stdout",
     "output_type": "stream",
     "text": [
      "Accuracy: 94.8905109489051%\n",
      "Precision: 96.36363636363636%\n",
      "Recall: 91.37931034482759%\n",
      "ROC AUC: 94.42383238760367%\n"
     ]
    }
   ],
   "source": [
    "rfr = RandomForestClassifier(random_state=42, **grid.best_params_)\n",
    "rfr.fit(X_train_with_outliers_na_dropped, y_train_with_outliers_na_dropped)\n",
    "\n",
    "y_pred = rfr.predict(X_test_with_outliers_na_dropped)\n",
    "\n",
    "accuracy = accuracy_score(y_test_with_outliers_na_dropped, y_pred)\n",
    "precision = precision_score(y_test_with_outliers_na_dropped, y_pred)\n",
    "recall = recall_score(y_test_with_outliers_na_dropped, y_pred)\n",
    "roc_auc = roc_auc_score(y_test_with_outliers_na_dropped, y_pred)\n",
    "\n",
    "print(f\"Accuracy: {accuracy * 100.0}%\")\n",
    "print(f\"Precision: {precision * 100.0}%\")\n",
    "print(f\"Recall: {recall * 100.0}%\")\n",
    "print(f\"ROC AUC: {roc_auc * 100.0}%\")\n",
    "\n",
    "d_with_outliers_na_dropped['RFR'] = {'Accuracy': accuracy, 'Precision': precision, 'Recall': recall, 'ROC AUC': roc_auc}"
   ]
  },
  {
   "cell_type": "markdown",
   "metadata": {},
   "source": [
    "#### 3.3.3- Random Forest Classification no_outliers"
   ]
  },
  {
   "cell_type": "code",
   "execution_count": 74,
   "metadata": {},
   "outputs": [
    {
     "name": "stdout",
     "output_type": "stream",
     "text": [
      "En iyi k değeri: 1\n"
     ]
    }
   ],
   "source": [
    "best_score = -np.inf\n",
    "best_k_train = 1\n",
    "\n",
    "for k in range(1, 21):\n",
    "    imputer = KNNImputer(n_neighbors=k)\n",
    "    X_imputed = imputer.fit_transform(X_train_no_outliers)\n",
    "\n",
    "    model = RandomForestClassifier(random_state=42)\n",
    "    scores = cross_val_score(model, X_imputed, y_train_no_outliers, cv=5)\n",
    "    mean_score = np.mean(scores)\n",
    "\n",
    "    if mean_score > best_score:\n",
    "        best_score = mean_score\n",
    "        best_k_train = k\n",
    "\n",
    "print(f\"En iyi k değeri: {best_k_train}\")"
   ]
  },
  {
   "cell_type": "code",
   "execution_count": 75,
   "metadata": {},
   "outputs": [
    {
     "name": "stdout",
     "output_type": "stream",
     "text": [
      "En iyi k değeri: 1\n"
     ]
    }
   ],
   "source": [
    "best_score = -np.inf\n",
    "best_k_test = 1\n",
    "\n",
    "for k in range(1, 21):\n",
    "    imputer = KNNImputer(n_neighbors=k)\n",
    "    X_imputed = imputer.fit_transform(X_test_no_outliers)\n",
    "\n",
    "    model = RandomForestClassifier(random_state=42)\n",
    "    scores = cross_val_score(model, X_imputed, y_test_no_outliers, cv=5)\n",
    "    mean_score = np.mean(scores)\n",
    "\n",
    "    if mean_score > best_score:\n",
    "        best_score = mean_score\n",
    "        best_k_test = k\n",
    "\n",
    "print(f\"En iyi k değeri: {best_k_test}\")"
   ]
  },
  {
   "cell_type": "code",
   "execution_count": 76,
   "metadata": {},
   "outputs": [
    {
     "name": "stdout",
     "output_type": "stream",
     "text": [
      "Fitting 5 folds for each of 540 candidates, totalling 2700 fits\n",
      "En iyi parametreler: {'bootstrap': True, 'max_depth': None, 'min_samples_leaf': 1, 'min_samples_split': 2, 'n_estimators': 100}\n"
     ]
    }
   ],
   "source": [
    "param_grid = {\n",
    "    'n_estimators': [100, 200, 300, 400, 500],\n",
    "    'max_depth': [None, 10, 20, 30, 40, 50],\n",
    "    'min_samples_split': [2, 5, 10],\n",
    "    'min_samples_leaf': [1, 2, 4],\n",
    "    'bootstrap': [True, False]\n",
    "}\n",
    "\n",
    "model = RandomForestClassifier(random_state=42)\n",
    "\n",
    "grid = GridSearchCV(model, param_grid, verbose=3, n_jobs=-1, cv=5)\n",
    "grid.fit(X_train_no_outliers, y_train_no_outliers)\n",
    "\n",
    "print(f\"En iyi parametreler: {grid.best_params_}\")"
   ]
  },
  {
   "cell_type": "code",
   "execution_count": 77,
   "metadata": {},
   "outputs": [
    {
     "name": "stdout",
     "output_type": "stream",
     "text": [
      "Accuracy: 97.41379310344827%\n",
      "Precision: 95.83333333333334%\n",
      "Recall: 92.0%\n",
      "ROC AUC: 95.45054945054945%\n"
     ]
    }
   ],
   "source": [
    "X_train_no_outliers = KNNImputer(n_neighbors=best_k_train).fit_transform(X_train_no_outliers)\n",
    "X_test_no_outliers = KNNImputer(n_neighbors=best_k_test).fit_transform(X_test_no_outliers)\n",
    "\n",
    "rfr = RandomForestClassifier(random_state=42, **grid.best_params_)\n",
    "rfr.fit(X_train_no_outliers, y_train_no_outliers)\n",
    "\n",
    "y_pred = rfr.predict(X_test_no_outliers)\n",
    "\n",
    "accuracy = accuracy_score(y_test_no_outliers, y_pred)\n",
    "precision = precision_score(y_test_no_outliers, y_pred)\n",
    "recall = recall_score(y_test_no_outliers, y_pred)\n",
    "roc_auc = roc_auc_score(y_test_no_outliers, y_pred)\n",
    "\n",
    "print(f\"Accuracy: {accuracy * 100.0}%\")\n",
    "print(f\"Precision: {precision * 100.0}%\")\n",
    "print(f\"Recall: {recall * 100.0}%\")\n",
    "print(f\"ROC AUC: {roc_auc * 100.0}%\")\n",
    "\n",
    "d_no_outliers['RFR'] = {'Accuracy': accuracy, 'Precision': precision, 'Recall': recall, 'ROC AUC': roc_auc}"
   ]
  },
  {
   "cell_type": "markdown",
   "metadata": {},
   "source": [
    "#### 3.3.4- Random Forest Classification no_outliers_na_dropped"
   ]
  },
  {
   "cell_type": "code",
   "execution_count": 78,
   "metadata": {},
   "outputs": [
    {
     "name": "stdout",
     "output_type": "stream",
     "text": [
      "Fitting 5 folds for each of 540 candidates, totalling 2700 fits\n"
     ]
    },
    {
     "name": "stdout",
     "output_type": "stream",
     "text": [
      "En iyi parametreler: {'bootstrap': True, 'max_depth': None, 'min_samples_leaf': 1, 'min_samples_split': 2, 'n_estimators': 100}\n"
     ]
    }
   ],
   "source": [
    "param_grid = {\n",
    "    'n_estimators': [100, 200, 300, 400, 500],\n",
    "    'max_depth': [None, 10, 20, 30, 40, 50],\n",
    "    'min_samples_split': [2, 5, 10],\n",
    "    'min_samples_leaf': [1, 2, 4],\n",
    "    'bootstrap': [True, False]\n",
    "}\n",
    "\n",
    "model = RandomForestClassifier(random_state=42)\n",
    "\n",
    "grid = GridSearchCV(model, param_grid, verbose=3, n_jobs=-1, cv=5)\n",
    "grid.fit(X_train_no_outliers_na_dropped, y_train_no_outliers_na_dropped)\n",
    "\n",
    "print(f\"En iyi parametreler: {grid.best_params_}\")"
   ]
  },
  {
   "cell_type": "code",
   "execution_count": 79,
   "metadata": {},
   "outputs": [
    {
     "name": "stdout",
     "output_type": "stream",
     "text": [
      "Accuracy: 96.46017699115043%\n",
      "Precision: 95.83333333333334%\n",
      "Recall: 88.46153846153845%\n",
      "ROC AUC: 93.65605658709107%\n"
     ]
    }
   ],
   "source": [
    "rfr = RandomForestClassifier(random_state=42, **grid.best_params_)\n",
    "rfr.fit(X_train_no_outliers_na_dropped, y_train_no_outliers_na_dropped)\n",
    "\n",
    "y_pred = rfr.predict(X_test_no_outliers_na_dropped)\n",
    "\n",
    "accuracy = accuracy_score(y_test_no_outliers_na_dropped, y_pred)\n",
    "precision = precision_score(y_test_no_outliers_na_dropped, y_pred)\n",
    "recall = recall_score(y_test_no_outliers_na_dropped, y_pred)\n",
    "roc_auc = roc_auc_score(y_test_no_outliers_na_dropped, y_pred)\n",
    "\n",
    "print(f\"Accuracy: {accuracy * 100.0}%\")\n",
    "print(f\"Precision: {precision * 100.0}%\")\n",
    "print(f\"Recall: {recall * 100.0}%\")\n",
    "print(f\"ROC AUC: {roc_auc * 100.0}%\")\n",
    "\n",
    "d_no_outliers_na_dropped['RFR'] = {'Accuracy': accuracy, 'Precision': precision, 'Recall': recall, 'ROC AUC': roc_auc}"
   ]
  },
  {
   "cell_type": "markdown",
   "metadata": {},
   "source": [
    "#### 3.3.5- Random Forest Classification nan_outliers"
   ]
  },
  {
   "cell_type": "code",
   "execution_count": 80,
   "metadata": {},
   "outputs": [
    {
     "name": "stdout",
     "output_type": "stream",
     "text": [
      "En iyi k değeri: 1\n"
     ]
    }
   ],
   "source": [
    "best_score = -np.inf\n",
    "best_k_train = 1\n",
    "\n",
    "for k in range(1, 21):\n",
    "    imputer = KNNImputer(n_neighbors=k)\n",
    "    X_imputed = imputer.fit_transform(X_train_nan_outliers)\n",
    "\n",
    "    model = RandomForestClassifier(random_state=42)\n",
    "    scores = cross_val_score(model, X_imputed, y_train_nan_outliers, cv=5)\n",
    "    mean_score = np.mean(scores)\n",
    "\n",
    "    if mean_score > best_score:\n",
    "        best_score = mean_score\n",
    "        best_k_train = k\n",
    "\n",
    "print(f\"En iyi k değeri: {best_k_train}\")"
   ]
  },
  {
   "cell_type": "code",
   "execution_count": 81,
   "metadata": {},
   "outputs": [
    {
     "name": "stdout",
     "output_type": "stream",
     "text": [
      "En iyi k değeri: 1\n"
     ]
    }
   ],
   "source": [
    "best_score = -np.inf\n",
    "best_k_test = 1\n",
    "\n",
    "for k in range(1, 21):\n",
    "    imputer = KNNImputer(n_neighbors=k)\n",
    "    X_imputed = imputer.fit_transform(X_test_nan_outliers)\n",
    "\n",
    "    model = RandomForestClassifier(random_state=42)\n",
    "    scores = cross_val_score(model, X_imputed, y_test_nan_outliers, cv=5)\n",
    "    mean_score = np.mean(scores)\n",
    "\n",
    "    if mean_score > best_score:\n",
    "        best_score = mean_score\n",
    "        best_k_test = k\n",
    "\n",
    "print(f\"En iyi k değeri: {best_k_test}\")"
   ]
  },
  {
   "cell_type": "code",
   "execution_count": 82,
   "metadata": {},
   "outputs": [
    {
     "name": "stdout",
     "output_type": "stream",
     "text": [
      "Fitting 5 folds for each of 540 candidates, totalling 2700 fits\n",
      "En iyi parametreler: {'bootstrap': False, 'max_depth': None, 'min_samples_leaf': 2, 'min_samples_split': 2, 'n_estimators': 300}\n"
     ]
    }
   ],
   "source": [
    "param_grid = {\n",
    "    'n_estimators': [100, 200, 300, 400, 500],\n",
    "    'max_depth': [None, 10, 20, 30, 40, 50],\n",
    "    'min_samples_split': [2, 5, 10],\n",
    "    'min_samples_leaf': [1, 2, 4],\n",
    "    'bootstrap': [True, False]\n",
    "}\n",
    "\n",
    "model = RandomForestClassifier(random_state=42)\n",
    "\n",
    "grid = GridSearchCV(model, param_grid, verbose=3, n_jobs=-1, cv=5)\n",
    "grid.fit(X_train_nan_outliers, y_train_nan_outliers)\n",
    "\n",
    "print(f\"En iyi parametreler: {grid.best_params_}\")"
   ]
  },
  {
   "cell_type": "code",
   "execution_count": 83,
   "metadata": {},
   "outputs": [
    {
     "name": "stdout",
     "output_type": "stream",
     "text": [
      "Accuracy: 95.0%\n",
      "Precision: 93.18181818181817%\n",
      "Recall: 91.11111111111111%\n",
      "ROC AUC: 93.9766081871345%\n"
     ]
    }
   ],
   "source": [
    "X_train_nan_outliers = KNNImputer(n_neighbors=best_k_train).fit_transform(X_train_nan_outliers)\n",
    "X_test_nan_outliers = KNNImputer(n_neighbors=best_k_test).fit_transform(X_test_nan_outliers)\n",
    "\n",
    "rfr = RandomForestClassifier(random_state=42, **grid.best_params_)\n",
    "rfr.fit(X_train_nan_outliers, y_train_nan_outliers)\n",
    "\n",
    "y_pred = rfr.predict(X_test_nan_outliers)\n",
    "\n",
    "accuracy = accuracy_score(y_test_nan_outliers, y_pred)\n",
    "precision = precision_score(y_test_nan_outliers, y_pred)\n",
    "recall = recall_score(y_test_nan_outliers, y_pred)\n",
    "roc_auc = roc_auc_score(y_test_nan_outliers, y_pred)\n",
    "\n",
    "print(f\"Accuracy: {accuracy * 100.0}%\")\n",
    "print(f\"Precision: {precision * 100.0}%\")\n",
    "print(f\"Recall: {recall * 100.0}%\")\n",
    "print(f\"ROC AUC: {roc_auc * 100.0}%\")\n",
    "\n",
    "d_nan_outliers['RFR'] = {'Accuracy': accuracy, 'Precision': precision, 'Recall': recall, 'ROC AUC': roc_auc}"
   ]
  },
  {
   "cell_type": "markdown",
   "metadata": {},
   "source": [
    "#### 3.2.6- Random Forest Classification nan_outliers_na_dropped"
   ]
  },
  {
   "cell_type": "code",
   "execution_count": 84,
   "metadata": {},
   "outputs": [
    {
     "name": "stdout",
     "output_type": "stream",
     "text": [
      "En iyi k değeri: 1\n"
     ]
    }
   ],
   "source": [
    "best_score = -np.inf\n",
    "best_k_train = 1\n",
    "\n",
    "for k in range(1, 21):\n",
    "    imputer = KNNImputer(n_neighbors=k)\n",
    "    X_imputed = imputer.fit_transform(X_train_nan_outliers_na_dropped)\n",
    "\n",
    "    model = RandomForestClassifier(random_state=42)\n",
    "    scores = cross_val_score(model, X_imputed, y_train_nan_outliers_na_dropped, cv=5)\n",
    "    mean_score = np.mean(scores)\n",
    "\n",
    "    if mean_score > best_score:\n",
    "        best_score = mean_score\n",
    "        best_k_train = k\n",
    "\n",
    "print(f\"En iyi k değeri: {best_k_train}\")"
   ]
  },
  {
   "cell_type": "code",
   "execution_count": 85,
   "metadata": {},
   "outputs": [
    {
     "name": "stdout",
     "output_type": "stream",
     "text": [
      "En iyi k değeri: 1\n"
     ]
    }
   ],
   "source": [
    "best_score = -np.inf\n",
    "best_k_test = 1\n",
    "\n",
    "for k in range(1, 21):\n",
    "    imputer = KNNImputer(n_neighbors=k)\n",
    "    X_imputed = imputer.fit_transform(X_test_nan_outliers_na_dropped)\n",
    "\n",
    "    model = RandomForestClassifier(random_state=42)\n",
    "    scores = cross_val_score(model, X_imputed, y_test_nan_outliers_na_dropped, cv=5)\n",
    "    mean_score = np.mean(scores)\n",
    "\n",
    "    if mean_score > best_score:\n",
    "        best_score = mean_score\n",
    "        best_k_test = k\n",
    "\n",
    "print(f\"En iyi k değeri: {best_k_test}\")"
   ]
  },
  {
   "cell_type": "code",
   "execution_count": 86,
   "metadata": {},
   "outputs": [
    {
     "name": "stdout",
     "output_type": "stream",
     "text": [
      "Fitting 5 folds for each of 540 candidates, totalling 2700 fits\n",
      "En iyi parametreler: {'bootstrap': True, 'max_depth': None, 'min_samples_leaf': 1, 'min_samples_split': 10, 'n_estimators': 200}\n"
     ]
    }
   ],
   "source": [
    "param_grid = {\n",
    "    'n_estimators': [100, 200, 300, 400, 500],\n",
    "    'max_depth': [None, 10, 20, 30, 40, 50],\n",
    "    'min_samples_split': [2, 5, 10],\n",
    "    'min_samples_leaf': [1, 2, 4],\n",
    "    'bootstrap': [True, False]\n",
    "}\n",
    "\n",
    "model = RandomForestClassifier(random_state=42)\n",
    "\n",
    "grid = GridSearchCV(model, param_grid, verbose=3, n_jobs=-1, cv=5)\n",
    "grid.fit(X_train_nan_outliers_na_dropped, y_train_nan_outliers_na_dropped)\n",
    "\n",
    "print(f\"En iyi parametreler: {grid.best_params_}\")"
   ]
  },
  {
   "cell_type": "code",
   "execution_count": 87,
   "metadata": {},
   "outputs": [
    {
     "name": "stdout",
     "output_type": "stream",
     "text": [
      "Accuracy: 96.35036496350365%\n",
      "Precision: 98.18181818181819%\n",
      "Recall: 93.10344827586206%\n",
      "ROC AUC: 95.91881274552597%\n"
     ]
    }
   ],
   "source": [
    "rfr = RandomForestClassifier(random_state=42, **grid.best_params_)\n",
    "rfr.fit(X_train_nan_outliers_na_dropped, y_train_nan_outliers_na_dropped)\n",
    "\n",
    "y_pred = rfr.predict(X_test_nan_outliers_na_dropped)\n",
    "\n",
    "accuracy = accuracy_score(y_test_nan_outliers_na_dropped, y_pred)\n",
    "precision = precision_score(y_test_nan_outliers_na_dropped, y_pred)\n",
    "recall = recall_score(y_test_nan_outliers_na_dropped, y_pred)\n",
    "roc_auc = roc_auc_score(y_test_nan_outliers_na_dropped, y_pred)\n",
    "\n",
    "print(f\"Accuracy: {accuracy * 100.0}%\")\n",
    "print(f\"Precision: {precision * 100.0}%\")\n",
    "print(f\"Recall: {recall * 100.0}%\")\n",
    "print(f\"ROC AUC: {roc_auc * 100.0}%\")\n",
    "\n",
    "d_nan_outliers_na_dropped['RFR'] = {'Accuracy': accuracy, 'Precision': precision, 'Recall': recall, 'ROC AUC': roc_auc}"
   ]
  },
  {
   "cell_type": "markdown",
   "metadata": {},
   "source": [
    "### 3.4- Support Vector Classification"
   ]
  },
  {
   "cell_type": "code",
   "execution_count": 88,
   "metadata": {},
   "outputs": [],
   "source": [
    "from sklearn.svm import SVC"
   ]
  },
  {
   "cell_type": "markdown",
   "metadata": {},
   "source": [
    "#### 3.4.1- Support Vector Classification with_outliers"
   ]
  },
  {
   "cell_type": "code",
   "execution_count": 89,
   "metadata": {},
   "outputs": [
    {
     "name": "stdout",
     "output_type": "stream",
     "text": [
      "En iyi k değeri: 1\n"
     ]
    }
   ],
   "source": [
    "best_score = -np.inf\n",
    "best_k_train = 1\n",
    "\n",
    "for k in range(1, 21):\n",
    "    imputer = KNNImputer(n_neighbors=k)\n",
    "    X_imputed = imputer.fit_transform(X_train_with_outliers)\n",
    "\n",
    "    model = SVC(random_state=42)\n",
    "    scores = cross_val_score(model, X_imputed, y_train_with_outliers, cv=5)\n",
    "    mean_score = np.mean(scores)\n",
    "\n",
    "    if mean_score > best_score:\n",
    "        best_score = mean_score\n",
    "        best_k_train = k\n",
    "\n",
    "print(f\"En iyi k değeri: {best_k_train}\")"
   ]
  },
  {
   "cell_type": "code",
   "execution_count": 90,
   "metadata": {},
   "outputs": [
    {
     "name": "stdout",
     "output_type": "stream",
     "text": [
      "En iyi k değeri: 1\n"
     ]
    }
   ],
   "source": [
    "best_score = -np.inf\n",
    "best_k_test = 1\n",
    "\n",
    "for k in range(1, 21):\n",
    "    imputer = KNNImputer(n_neighbors=k)\n",
    "    X_imputed = imputer.fit_transform(X_test_with_outliers)\n",
    "\n",
    "    model = SVC(random_state=42)\n",
    "    scores = cross_val_score(model, X_imputed, y_test_with_outliers, cv=5)\n",
    "    mean_score = np.mean(scores)\n",
    "\n",
    "    if mean_score > best_score:\n",
    "        best_score = mean_score\n",
    "        best_k_test = k\n",
    "\n",
    "print(f\"En iyi k değeri: {best_k_test}\")"
   ]
  },
  {
   "cell_type": "code",
   "execution_count": 91,
   "metadata": {},
   "outputs": [
    {
     "name": "stdout",
     "output_type": "stream",
     "text": [
      "Fitting 5 folds for each of 40 candidates, totalling 200 fits\n",
      "En iyi parametreler: {'C': 0.1, 'gamma': 'auto', 'kernel': 'linear'}\n"
     ]
    }
   ],
   "source": [
    "param_grid = {\n",
    "    'C': [0.1, 1, 10, 100, 1000],\n",
    "    'kernel': ['linear', 'poly', 'rbf', 'sigmoid'],\n",
    "    'gamma': ['auto', 'scale']\n",
    "}\n",
    "\n",
    "model = SVC(random_state=42)\n",
    "\n",
    "grid = GridSearchCV(model, param_grid, verbose=3, n_jobs=-1, cv=5)\n",
    "grid.fit(X_train_with_outliers, y_train_with_outliers)\n",
    "\n",
    "print(f\"En iyi parametreler: {grid.best_params_}\")"
   ]
  },
  {
   "cell_type": "code",
   "execution_count": 92,
   "metadata": {},
   "outputs": [
    {
     "name": "stdout",
     "output_type": "stream",
     "text": [
      "Accuracy: 97.85714285714285%\n",
      "Precision: 95.65217391304348%\n",
      "Recall: 97.77777777777777%\n",
      "ROC AUC: 97.83625730994152%\n"
     ]
    }
   ],
   "source": [
    "X_train_with_outliers = KNNImputer(n_neighbors=best_k_train).fit_transform(X_train_with_outliers)\n",
    "X_test_with_outliers = KNNImputer(n_neighbors=best_k_test).fit_transform(X_test_with_outliers)\n",
    "\n",
    "svc = SVC(random_state=42, **grid.best_params_)\n",
    "svc.fit(X_train_with_outliers, y_train_with_outliers)\n",
    "\n",
    "y_pred = svc.predict(X_test_with_outliers)\n",
    "\n",
    "accuracy = accuracy_score(y_test_with_outliers, y_pred)\n",
    "precision = precision_score(y_test_with_outliers, y_pred)\n",
    "recall = recall_score(y_test_with_outliers, y_pred)\n",
    "roc_auc = roc_auc_score(y_test_with_outliers, y_pred)\n",
    "\n",
    "print(f\"Accuracy: {accuracy * 100.0}%\")\n",
    "print(f\"Precision: {precision * 100.0}%\")\n",
    "print(f\"Recall: {recall * 100.0}%\")\n",
    "print(f\"ROC AUC: {roc_auc * 100.0}%\")\n",
    "\n",
    "d_with_outliers['SVC'] = {'Accuracy': accuracy, 'Precision': precision, 'Recall': recall, 'ROC AUC': roc_auc}"
   ]
  },
  {
   "cell_type": "markdown",
   "metadata": {},
   "source": [
    "#### 3.4.2- Support Vector Classification with_outliers_na_dropped"
   ]
  },
  {
   "cell_type": "code",
   "execution_count": 93,
   "metadata": {},
   "outputs": [
    {
     "name": "stdout",
     "output_type": "stream",
     "text": [
      "Fitting 5 folds for each of 40 candidates, totalling 200 fits\n"
     ]
    },
    {
     "name": "stdout",
     "output_type": "stream",
     "text": [
      "En iyi parametreler: {'C': 0.1, 'gamma': 'auto', 'kernel': 'rbf'}\n"
     ]
    }
   ],
   "source": [
    "param_grid = {\n",
    "    'C': [0.1, 1, 10, 100, 1000],\n",
    "    'kernel': ['linear', 'poly', 'rbf', 'sigmoid'],\n",
    "    'gamma': ['auto', 'scale']\n",
    "}\n",
    "\n",
    "model = SVC(random_state=42)\n",
    "\n",
    "grid = GridSearchCV(model, param_grid, verbose=3, n_jobs=-1, cv=5)\n",
    "grid.fit(X_train_with_outliers_na_dropped, y_train_with_outliers_na_dropped)\n",
    "\n",
    "print(f\"En iyi parametreler: {grid.best_params_}\")"
   ]
  },
  {
   "cell_type": "code",
   "execution_count": 94,
   "metadata": {},
   "outputs": [
    {
     "name": "stdout",
     "output_type": "stream",
     "text": [
      "Accuracy: 98.54014598540147%\n",
      "Precision: 98.27586206896551%\n",
      "Recall: 98.27586206896551%\n",
      "ROC AUC: 98.50501964207771%\n"
     ]
    }
   ],
   "source": [
    "svc = SVC(random_state=42, **grid.best_params_)\n",
    "svc.fit(X_train_with_outliers_na_dropped, y_train_with_outliers_na_dropped)\n",
    "\n",
    "y_pred = svc.predict(X_test_with_outliers_na_dropped)\n",
    "\n",
    "accuracy = accuracy_score(y_test_with_outliers_na_dropped, y_pred)\n",
    "precision = precision_score(y_test_with_outliers_na_dropped, y_pred)\n",
    "recall = recall_score(y_test_with_outliers_na_dropped, y_pred)\n",
    "roc_auc = roc_auc_score(y_test_with_outliers_na_dropped, y_pred)\n",
    "\n",
    "print(f\"Accuracy: {accuracy * 100.0}%\")\n",
    "print(f\"Precision: {precision * 100.0}%\")\n",
    "print(f\"Recall: {recall * 100.0}%\")\n",
    "print(f\"ROC AUC: {roc_auc * 100.0}%\")\n",
    "\n",
    "d_with_outliers_na_dropped['SVC'] = {'Accuracy': accuracy, 'Precision': precision, 'Recall': recall, 'ROC AUC': roc_auc}"
   ]
  },
  {
   "cell_type": "markdown",
   "metadata": {},
   "source": [
    "#### 3.4.3- Support Vector Classification no_outliers"
   ]
  },
  {
   "cell_type": "code",
   "execution_count": 95,
   "metadata": {},
   "outputs": [
    {
     "name": "stdout",
     "output_type": "stream",
     "text": [
      "En iyi k değeri: 1\n"
     ]
    }
   ],
   "source": [
    "best_score = -np.inf\n",
    "best_k_train = 1\n",
    "\n",
    "for k in range(1, 21):\n",
    "    imputer = KNNImputer(n_neighbors=k)\n",
    "    X_imputed = imputer.fit_transform(X_train_no_outliers)\n",
    "\n",
    "    model = SVC(random_state=42)\n",
    "    scores = cross_val_score(model, X_imputed, y_train_no_outliers, cv=5)\n",
    "    mean_score = np.mean(scores)\n",
    "\n",
    "    if mean_score > best_score:\n",
    "        best_score = mean_score\n",
    "        best_k_train = k\n",
    "\n",
    "print(f\"En iyi k değeri: {best_k_train}\")"
   ]
  },
  {
   "cell_type": "code",
   "execution_count": 96,
   "metadata": {},
   "outputs": [
    {
     "name": "stdout",
     "output_type": "stream",
     "text": [
      "En iyi k değeri: 1\n"
     ]
    }
   ],
   "source": [
    "best_score = -np.inf\n",
    "best_k_test = 1\n",
    "\n",
    "for k in range(1, 21):\n",
    "    imputer = KNNImputer(n_neighbors=k)\n",
    "    X_imputed = imputer.fit_transform(X_test_no_outliers)\n",
    "\n",
    "    model = SVC(random_state=42)\n",
    "    scores = cross_val_score(model, X_imputed, y_test_no_outliers, cv=5)\n",
    "    mean_score = np.mean(scores)\n",
    "\n",
    "    if mean_score > best_score:\n",
    "        best_score = mean_score\n",
    "        best_k_test = k\n",
    "\n",
    "print(f\"En iyi k değeri: {best_k_test}\")"
   ]
  },
  {
   "cell_type": "code",
   "execution_count": 97,
   "metadata": {},
   "outputs": [
    {
     "name": "stdout",
     "output_type": "stream",
     "text": [
      "Fitting 5 folds for each of 40 candidates, totalling 200 fits\n",
      "En iyi parametreler: {'C': 0.1, 'gamma': 'auto', 'kernel': 'rbf'}\n"
     ]
    }
   ],
   "source": [
    "param_grid = {\n",
    "    'C': [0.1, 1, 10, 100, 1000],\n",
    "    'kernel': ['linear', 'poly', 'rbf', 'sigmoid'],\n",
    "    'gamma': ['auto', 'scale']\n",
    "}\n",
    "\n",
    "model = SVC(random_state=42)\n",
    "\n",
    "grid = GridSearchCV(model, param_grid, verbose=3, n_jobs=-1, cv=5)\n",
    "grid.fit(X_train_no_outliers, y_train_no_outliers)\n",
    "\n",
    "print(f\"En iyi parametreler: {grid.best_params_}\")"
   ]
  },
  {
   "cell_type": "code",
   "execution_count": 98,
   "metadata": {},
   "outputs": [
    {
     "name": "stdout",
     "output_type": "stream",
     "text": [
      "Accuracy: 98.27586206896551%\n",
      "Precision: 92.5925925925926%\n",
      "Recall: 100.0%\n",
      "ROC AUC: 98.90109890109889%\n"
     ]
    }
   ],
   "source": [
    "X_train_no_outliers = KNNImputer(n_neighbors=best_k_train).fit_transform(X_train_no_outliers)\n",
    "X_test_no_outliers = KNNImputer(n_neighbors=best_k_test).fit_transform(X_test_no_outliers)\n",
    "\n",
    "svc = SVC(random_state=42, **grid.best_params_)\n",
    "svc.fit(X_train_no_outliers, y_train_no_outliers)\n",
    "\n",
    "y_pred = svc.predict(X_test_no_outliers)\n",
    "\n",
    "accuracy = accuracy_score(y_test_no_outliers, y_pred)\n",
    "precision = precision_score(y_test_no_outliers, y_pred)\n",
    "recall = recall_score(y_test_no_outliers, y_pred)\n",
    "roc_auc = roc_auc_score(y_test_no_outliers, y_pred)\n",
    "\n",
    "print(f\"Accuracy: {accuracy * 100.0}%\")\n",
    "print(f\"Precision: {precision * 100.0}%\")\n",
    "print(f\"Recall: {recall * 100.0}%\")\n",
    "print(f\"ROC AUC: {roc_auc * 100.0}%\")\n",
    "\n",
    "d_no_outliers['SVC'] = {'Accuracy': accuracy, 'Precision': precision, 'Recall': recall, 'ROC AUC': roc_auc}"
   ]
  },
  {
   "cell_type": "markdown",
   "metadata": {},
   "source": [
    "#### 3.4.4- Support Vector Classification no_outliers_na_dropped"
   ]
  },
  {
   "cell_type": "code",
   "execution_count": 99,
   "metadata": {},
   "outputs": [
    {
     "name": "stdout",
     "output_type": "stream",
     "text": [
      "Fitting 5 folds for each of 40 candidates, totalling 200 fits\n",
      "En iyi parametreler: {'C': 0.1, 'gamma': 'auto', 'kernel': 'rbf'}\n"
     ]
    }
   ],
   "source": [
    "param_grid = {\n",
    "    'C': [0.1, 1, 10, 100, 1000],\n",
    "    'kernel': ['linear', 'poly', 'rbf', 'sigmoid'],\n",
    "    'gamma': ['auto', 'scale']\n",
    "}\n",
    "\n",
    "model = SVC(random_state=42)\n",
    "\n",
    "grid = GridSearchCV(model, param_grid, verbose=3, n_jobs=-1, cv=5)\n",
    "grid.fit(X_train_no_outliers_na_dropped, y_train_no_outliers_na_dropped)\n",
    "\n",
    "print(f\"En iyi parametreler: {grid.best_params_}\")"
   ]
  },
  {
   "cell_type": "code",
   "execution_count": 100,
   "metadata": {},
   "outputs": [
    {
     "name": "stdout",
     "output_type": "stream",
     "text": [
      "Accuracy: 97.34513274336283%\n",
      "Precision: 96.0%\n",
      "Recall: 92.3076923076923%\n",
      "ROC AUC: 95.57913351016799%\n"
     ]
    }
   ],
   "source": [
    "svc = SVC(random_state=42, **grid.best_params_)\n",
    "svc.fit(X_train_no_outliers_na_dropped, y_train_no_outliers_na_dropped)\n",
    "\n",
    "y_pred = svc.predict(X_test_no_outliers_na_dropped)\n",
    "\n",
    "accuracy = accuracy_score(y_test_no_outliers_na_dropped, y_pred)\n",
    "precision = precision_score(y_test_no_outliers_na_dropped, y_pred)\n",
    "recall = recall_score(y_test_no_outliers_na_dropped, y_pred)\n",
    "roc_auc = roc_auc_score(y_test_no_outliers_na_dropped, y_pred)\n",
    "\n",
    "print(f\"Accuracy: {accuracy * 100.0}%\")\n",
    "print(f\"Precision: {precision * 100.0}%\")\n",
    "print(f\"Recall: {recall * 100.0}%\")\n",
    "print(f\"ROC AUC: {roc_auc * 100.0}%\")\n",
    "\n",
    "d_no_outliers_na_dropped['SVC'] = {'Accuracy': accuracy, 'Precision': precision, 'Recall': recall, 'ROC AUC': roc_auc}"
   ]
  },
  {
   "cell_type": "markdown",
   "metadata": {},
   "source": [
    "#### 3.4.5- Support Vector Classification nan_outliers"
   ]
  },
  {
   "cell_type": "code",
   "execution_count": 101,
   "metadata": {},
   "outputs": [
    {
     "name": "stdout",
     "output_type": "stream",
     "text": [
      "En iyi k değeri: 1\n"
     ]
    }
   ],
   "source": [
    "best_score = -np.inf\n",
    "best_k_train = 1\n",
    "\n",
    "for k in range(1, 21):\n",
    "    imputer = KNNImputer(n_neighbors=k)\n",
    "    X_imputed = imputer.fit_transform(X_train_nan_outliers)\n",
    "\n",
    "    model = SVC(random_state=42)\n",
    "    scores = cross_val_score(model, X_imputed, y_train_nan_outliers, cv=5)\n",
    "    mean_score = np.mean(scores)\n",
    "\n",
    "    if mean_score > best_score:\n",
    "        best_score = mean_score\n",
    "        best_k_train = k\n",
    "\n",
    "print(f\"En iyi k değeri: {best_k_train}\")"
   ]
  },
  {
   "cell_type": "code",
   "execution_count": 102,
   "metadata": {},
   "outputs": [
    {
     "name": "stdout",
     "output_type": "stream",
     "text": [
      "En iyi k değeri: 1\n"
     ]
    }
   ],
   "source": [
    "best_score = -np.inf\n",
    "best_k_test = 1\n",
    "\n",
    "for k in range(1, 21):\n",
    "    imputer = KNNImputer(n_neighbors=k)\n",
    "    X_imputed = imputer.fit_transform(X_test_nan_outliers)\n",
    "\n",
    "    model = SVC(random_state=42)\n",
    "    scores = cross_val_score(model, X_imputed, y_test_nan_outliers, cv=5)\n",
    "    mean_score = np.mean(scores)\n",
    "\n",
    "    if mean_score > best_score:\n",
    "        best_score = mean_score\n",
    "        best_k_test = k\n",
    "\n",
    "print(f\"En iyi k değeri: {best_k_test}\")"
   ]
  },
  {
   "cell_type": "code",
   "execution_count": 103,
   "metadata": {},
   "outputs": [
    {
     "name": "stdout",
     "output_type": "stream",
     "text": [
      "Fitting 5 folds for each of 40 candidates, totalling 200 fits\n",
      "En iyi parametreler: {'C': 0.1, 'gamma': 'auto', 'kernel': 'linear'}\n"
     ]
    }
   ],
   "source": [
    "param_grid = {\n",
    "    'C': [0.1, 1, 10, 100, 1000],\n",
    "    'kernel': ['linear', 'poly', 'rbf', 'sigmoid'],\n",
    "    'gamma': ['auto', 'scale']\n",
    "}\n",
    "\n",
    "model = SVC(random_state=42)\n",
    "\n",
    "grid = GridSearchCV(model, param_grid, verbose=3, n_jobs=-1, cv=5)\n",
    "grid.fit(X_train_nan_outliers, y_train_nan_outliers)\n",
    "\n",
    "print(f\"En iyi parametreler: {grid.best_params_}\")"
   ]
  },
  {
   "cell_type": "code",
   "execution_count": 104,
   "metadata": {},
   "outputs": [
    {
     "name": "stdout",
     "output_type": "stream",
     "text": [
      "Accuracy: 97.85714285714285%\n",
      "Precision: 95.65217391304348%\n",
      "Recall: 97.77777777777777%\n",
      "ROC AUC: 97.83625730994152%\n"
     ]
    }
   ],
   "source": [
    "X_train_nan_outliers = KNNImputer(n_neighbors=best_k_train).fit_transform(X_train_nan_outliers)\n",
    "X_test_nan_outliers = KNNImputer(n_neighbors=best_k_test).fit_transform(X_test_nan_outliers)\n",
    "\n",
    "svc = SVC(random_state=42, **grid.best_params_)\n",
    "svc.fit(X_train_nan_outliers, y_train_nan_outliers)\n",
    "\n",
    "y_pred = svc.predict(X_test_nan_outliers)\n",
    "\n",
    "accuracy = accuracy_score(y_test_nan_outliers, y_pred)\n",
    "precision = precision_score(y_test_nan_outliers, y_pred)\n",
    "recall = recall_score(y_test_nan_outliers, y_pred)\n",
    "roc_auc = roc_auc_score(y_test_nan_outliers, y_pred)\n",
    "\n",
    "print(f\"Accuracy: {accuracy * 100.0}%\")\n",
    "print(f\"Precision: {precision * 100.0}%\")\n",
    "print(f\"Recall: {recall * 100.0}%\")\n",
    "print(f\"ROC AUC: {roc_auc * 100.0}%\")\n",
    "\n",
    "d_nan_outliers['SVC'] = {'Accuracy': accuracy, 'Precision': precision, 'Recall': recall, 'ROC AUC': roc_auc}"
   ]
  },
  {
   "cell_type": "markdown",
   "metadata": {},
   "source": [
    "#### 3.4.6- Support Vector Classification nan_outliers_na_dropped"
   ]
  },
  {
   "cell_type": "code",
   "execution_count": 105,
   "metadata": {},
   "outputs": [
    {
     "name": "stdout",
     "output_type": "stream",
     "text": [
      "En iyi k değeri: 1\n"
     ]
    }
   ],
   "source": [
    "best_score = -np.inf\n",
    "best_k_train = 1\n",
    "\n",
    "for k in range(1, 21):\n",
    "    imputer = KNNImputer(n_neighbors=k)\n",
    "    X_imputed = imputer.fit_transform(X_train_nan_outliers_na_dropped)\n",
    "\n",
    "    model = SVC(random_state=42)\n",
    "    scores = cross_val_score(model, X_imputed, y_train_nan_outliers_na_dropped, cv=5)\n",
    "    mean_score = np.mean(scores)\n",
    "\n",
    "    if mean_score > best_score:\n",
    "        best_score = mean_score\n",
    "        best_k_train = k\n",
    "\n",
    "print(f\"En iyi k değeri: {best_k_train}\")"
   ]
  },
  {
   "cell_type": "code",
   "execution_count": 106,
   "metadata": {},
   "outputs": [
    {
     "name": "stdout",
     "output_type": "stream",
     "text": [
      "En iyi k değeri: 1\n"
     ]
    }
   ],
   "source": [
    "best_score = -np.inf\n",
    "best_k_test = 1\n",
    "\n",
    "for k in range(1, 21):\n",
    "    imputer = KNNImputer(n_neighbors=k)\n",
    "    X_imputed = imputer.fit_transform(X_test_nan_outliers_na_dropped)\n",
    "\n",
    "    model = SVC(random_state=42)\n",
    "    scores = cross_val_score(model, X_imputed, y_test_nan_outliers_na_dropped, cv=5)\n",
    "    mean_score = np.mean(scores)\n",
    "\n",
    "    if mean_score > best_score:\n",
    "        best_score = mean_score\n",
    "        best_k_test = k\n",
    "\n",
    "print(f\"En iyi k değeri: {best_k_test}\")"
   ]
  },
  {
   "cell_type": "code",
   "execution_count": 107,
   "metadata": {},
   "outputs": [
    {
     "name": "stdout",
     "output_type": "stream",
     "text": [
      "Fitting 5 folds for each of 40 candidates, totalling 200 fits\n",
      "En iyi parametreler: {'C': 0.1, 'gamma': 'auto', 'kernel': 'rbf'}\n"
     ]
    }
   ],
   "source": [
    "param_grid = {\n",
    "    'C': [0.1, 1, 10, 100, 1000],\n",
    "    'kernel': ['linear', 'poly', 'rbf', 'sigmoid'],\n",
    "    'gamma': ['auto', 'scale']\n",
    "}\n",
    "\n",
    "model = SVC(random_state=42)\n",
    "\n",
    "grid = GridSearchCV(model, param_grid, verbose=3, n_jobs=-1, cv=5)\n",
    "grid.fit(X_train_nan_outliers_na_dropped, y_train_nan_outliers_na_dropped)\n",
    "\n",
    "print(f\"En iyi parametreler: {grid.best_params_}\")"
   ]
  },
  {
   "cell_type": "code",
   "execution_count": 108,
   "metadata": {},
   "outputs": [
    {
     "name": "stdout",
     "output_type": "stream",
     "text": [
      "Accuracy: 97.08029197080292%\n",
      "Precision: 98.21428571428571%\n",
      "Recall: 94.82758620689656%\n",
      "ROC AUC: 96.78088171104322%\n"
     ]
    }
   ],
   "source": [
    "svc = SVC(random_state=42, **grid.best_params_)\n",
    "svc.fit(X_train_nan_outliers_na_dropped, y_train_nan_outliers_na_dropped)\n",
    "\n",
    "y_pred = svc.predict(X_test_nan_outliers_na_dropped)\n",
    "\n",
    "accuracy = accuracy_score(y_test_nan_outliers_na_dropped, y_pred)\n",
    "precision = precision_score(y_test_nan_outliers_na_dropped, y_pred)\n",
    "recall = recall_score(y_test_nan_outliers_na_dropped, y_pred)\n",
    "roc_auc = roc_auc_score(y_test_nan_outliers_na_dropped, y_pred)\n",
    "\n",
    "print(f\"Accuracy: {accuracy * 100.0}%\")\n",
    "print(f\"Precision: {precision * 100.0}%\")\n",
    "print(f\"Recall: {recall * 100.0}%\")\n",
    "print(f\"ROC AUC: {roc_auc * 100.0}%\")\n",
    "\n",
    "d_nan_outliers_na_dropped['SVC'] = {'Accuracy': accuracy, 'Precision': precision, 'Recall': recall, 'ROC AUC': roc_auc}"
   ]
  },
  {
   "cell_type": "markdown",
   "metadata": {},
   "source": [
    "### 3.5- Neural Network Classification"
   ]
  },
  {
   "cell_type": "code",
   "execution_count": 109,
   "metadata": {},
   "outputs": [],
   "source": [
    "from sklearn.neural_network import MLPClassifier"
   ]
  },
  {
   "cell_type": "markdown",
   "metadata": {},
   "source": [
    "#### 3.5.1- Neural Network Classification with_outliers"
   ]
  },
  {
   "cell_type": "code",
   "execution_count": 110,
   "metadata": {},
   "outputs": [
    {
     "name": "stdout",
     "output_type": "stream",
     "text": [
      "En iyi k değeri: 1\n"
     ]
    }
   ],
   "source": [
    "best_score = -np.inf\n",
    "best_k_train = 1\n",
    "\n",
    "for k in range(1, 21):\n",
    "    imputer = KNNImputer(n_neighbors=k)\n",
    "    X_imputed = imputer.fit_transform(X_train_with_outliers)\n",
    "\n",
    "    model = MLPClassifier(random_state=42)\n",
    "    scores = cross_val_score(model, X_imputed, y_train_with_outliers, cv=5)\n",
    "    mean_score = np.mean(scores)\n",
    "\n",
    "    if mean_score > best_score:\n",
    "        best_score = mean_score\n",
    "        best_k_train = k\n",
    "\n",
    "print(f\"En iyi k değeri: {best_k_train}\")"
   ]
  },
  {
   "cell_type": "code",
   "execution_count": 111,
   "metadata": {},
   "outputs": [
    {
     "name": "stdout",
     "output_type": "stream",
     "text": [
      "En iyi k değeri: 1\n"
     ]
    }
   ],
   "source": [
    "best_score = -np.inf\n",
    "best_k_test = 1\n",
    "\n",
    "for k in range(1, 21):\n",
    "    imputer = KNNImputer(n_neighbors=k)\n",
    "    X_imputed = imputer.fit_transform(X_test_with_outliers)\n",
    "\n",
    "    model = MLPClassifier(random_state=42)\n",
    "    scores = cross_val_score(model, X_imputed, y_test_with_outliers, cv=5)\n",
    "    mean_score = np.mean(scores)\n",
    "\n",
    "    if mean_score > best_score:\n",
    "        best_score = mean_score\n",
    "        best_k_test = k\n",
    "\n",
    "print(f\"En iyi k değeri: {best_k_test}\")"
   ]
  },
  {
   "cell_type": "code",
   "execution_count": 112,
   "metadata": {},
   "outputs": [
    {
     "name": "stdout",
     "output_type": "stream",
     "text": [
      "Fitting 5 folds for each of 3600 candidates, totalling 18000 fits\n",
      "En iyi parametreler: {'activation': 'relu', 'hidden_layer_sizes': (100,), 'learning_rate': 'adaptive', 'learning_rate_init': 1.0, 'max_iter': 300, 'solver': 'sgd'}\n"
     ]
    }
   ],
   "source": [
    "param_grid = {\n",
    "    'hidden_layer_sizes': [(50,), (50, 50), (100,), (100, 100)],\n",
    "    'activation': ['identity', 'logistic', 'tanh', 'relu'],\n",
    "    'solver': ['lbfgs', 'sgd', 'adam'],\n",
    "    'learning_rate': ['constant', 'invscaling', 'adaptive'],\n",
    "    'learning_rate_init': [0.0001, 0.001, 0.01, 0.1, 1.0],\n",
    "    'max_iter': [100, 200, 300, 400, 500]\n",
    "}\n",
    "\n",
    "model = MLPClassifier(random_state=42)\n",
    "\n",
    "grid = GridSearchCV(model, param_grid, verbose=3, n_jobs=-1, cv=5)\n",
    "grid.fit(X_train_with_outliers, y_train_with_outliers)\n",
    "\n",
    "print(f\"En iyi parametreler: {grid.best_params_}\")"
   ]
  },
  {
   "cell_type": "code",
   "execution_count": 113,
   "metadata": {},
   "outputs": [
    {
     "name": "stdout",
     "output_type": "stream",
     "text": [
      "Accuracy: 93.57142857142857%\n",
      "Precision: 95.0%\n",
      "Recall: 84.44444444444444%\n",
      "ROC AUC: 91.16959064327486%\n"
     ]
    }
   ],
   "source": [
    "X_train_with_outliers = KNNImputer(n_neighbors=best_k_train).fit_transform(X_train_with_outliers)\n",
    "X_test_with_outliers = KNNImputer(n_neighbors=best_k_test).fit_transform(X_test_with_outliers)\n",
    "\n",
    "mlpc = MLPClassifier(random_state=42, **grid.best_params_)\n",
    "mlpc.fit(X_train_with_outliers, y_train_with_outliers)\n",
    "\n",
    "y_pred = mlpc.predict(X_test_with_outliers)\n",
    "\n",
    "accuracy = accuracy_score(y_test_with_outliers, y_pred)\n",
    "precision = precision_score(y_test_with_outliers, y_pred)\n",
    "recall = recall_score(y_test_with_outliers, y_pred)\n",
    "roc_auc = roc_auc_score(y_test_with_outliers, y_pred)\n",
    "\n",
    "print(f\"Accuracy: {accuracy * 100.0}%\")\n",
    "print(f\"Precision: {precision * 100.0}%\")\n",
    "print(f\"Recall: {recall * 100.0}%\")\n",
    "print(f\"ROC AUC: {roc_auc * 100.0}%\")\n",
    "\n",
    "d_with_outliers['MLPC'] = {'Accuracy': accuracy, 'Precision': precision, 'Recall': recall, 'ROC AUC': roc_auc}"
   ]
  },
  {
   "cell_type": "markdown",
   "metadata": {},
   "source": [
    "#### 3.5.2- Neural Network Classification with_outliers_na_dropped"
   ]
  },
  {
   "cell_type": "code",
   "execution_count": 114,
   "metadata": {},
   "outputs": [
    {
     "name": "stdout",
     "output_type": "stream",
     "text": [
      "Fitting 5 folds for each of 3600 candidates, totalling 18000 fits\n",
      "En iyi parametreler: {'activation': 'logistic', 'hidden_layer_sizes': (50,), 'learning_rate': 'constant', 'learning_rate_init': 0.001, 'max_iter': 200, 'solver': 'adam'}\n"
     ]
    }
   ],
   "source": [
    "param_grid = {\n",
    "    'hidden_layer_sizes': [(50,), (50, 50), (100,), (100, 100)],\n",
    "    'activation': ['identity', 'logistic', 'tanh', 'relu'],\n",
    "    'solver': ['lbfgs', 'sgd', 'adam'],\n",
    "    'learning_rate': ['constant', 'invscaling', 'adaptive'],\n",
    "    'learning_rate_init': [0.0001, 0.001, 0.01, 0.1, 1.0],\n",
    "    'max_iter': [100, 200, 300, 400, 500]\n",
    "}\n",
    "\n",
    "model = MLPClassifier(random_state=42)\n",
    "\n",
    "grid = GridSearchCV(model, param_grid, verbose=3, n_jobs=-1, cv=5)\n",
    "grid.fit(X_train_with_outliers_na_dropped, y_train_with_outliers_na_dropped)\n",
    "\n",
    "print(f\"En iyi parametreler: {grid.best_params_}\")"
   ]
  },
  {
   "cell_type": "code",
   "execution_count": 115,
   "metadata": {},
   "outputs": [
    {
     "name": "stdout",
     "output_type": "stream",
     "text": [
      "Accuracy: 94.8905109489051%\n",
      "Precision: 96.36363636363636%\n",
      "Recall: 91.37931034482759%\n",
      "ROC AUC: 94.42383238760367%\n"
     ]
    }
   ],
   "source": [
    "mlpc = MLPClassifier(random_state=42, **grid.best_params_)\n",
    "mlpc.fit(X_train_with_outliers_na_dropped, y_train_with_outliers_na_dropped)\n",
    "\n",
    "y_pred = mlpc.predict(X_test_with_outliers_na_dropped)\n",
    "\n",
    "accuracy = accuracy_score(y_test_with_outliers_na_dropped, y_pred)\n",
    "precision = precision_score(y_test_with_outliers_na_dropped, y_pred)\n",
    "recall = recall_score(y_test_with_outliers_na_dropped, y_pred)\n",
    "roc_auc = roc_auc_score(y_test_with_outliers_na_dropped, y_pred)\n",
    "\n",
    "print(f\"Accuracy: {accuracy * 100.0}%\")\n",
    "print(f\"Precision: {precision * 100.0}%\")\n",
    "print(f\"Recall: {recall * 100.0}%\")\n",
    "print(f\"ROC AUC: {roc_auc * 100.0}%\")\n",
    "\n",
    "d_with_outliers_na_dropped['MLPC'] = {'Accuracy': accuracy, 'Precision': precision, 'Recall': recall, 'ROC AUC': roc_auc}"
   ]
  },
  {
   "cell_type": "markdown",
   "metadata": {},
   "source": [
    "#### 3.5.3- Neural Network Classification no_outliers"
   ]
  },
  {
   "cell_type": "code",
   "execution_count": 116,
   "metadata": {},
   "outputs": [
    {
     "name": "stdout",
     "output_type": "stream",
     "text": [
      "En iyi k değeri: 1\n"
     ]
    }
   ],
   "source": [
    "best_score = -np.inf\n",
    "best_k_train = 1\n",
    "\n",
    "for k in range(1, 21):\n",
    "    imputer = KNNImputer(n_neighbors=k)\n",
    "    X_imputed = imputer.fit_transform(X_train_no_outliers)\n",
    "\n",
    "    model = MLPClassifier(random_state=42)\n",
    "    scores = cross_val_score(model, X_imputed, y_train_no_outliers, cv=5)\n",
    "    mean_score = np.mean(scores)\n",
    "\n",
    "    if mean_score > best_score:\n",
    "        best_score = mean_score\n",
    "        best_k_train = k\n",
    "\n",
    "print(f\"En iyi k değeri: {best_k_train}\")"
   ]
  },
  {
   "cell_type": "code",
   "execution_count": 117,
   "metadata": {},
   "outputs": [
    {
     "name": "stdout",
     "output_type": "stream",
     "text": [
      "En iyi k değeri: 1\n"
     ]
    }
   ],
   "source": [
    "best_score = -np.inf\n",
    "best_k_test = 1\n",
    "\n",
    "for k in range(1, 21):\n",
    "    imputer = KNNImputer(n_neighbors=k)\n",
    "    X_imputed = imputer.fit_transform(X_test_no_outliers)\n",
    "\n",
    "    model = MLPClassifier(random_state=42)\n",
    "    scores = cross_val_score(model, X_imputed, y_test_no_outliers, cv=5)\n",
    "    mean_score = np.mean(scores)\n",
    "\n",
    "    if mean_score > best_score:\n",
    "        best_score = mean_score\n",
    "        best_k_test = k\n",
    "\n",
    "print(f\"En iyi k değeri: {best_k_test}\")"
   ]
  },
  {
   "cell_type": "code",
   "execution_count": 118,
   "metadata": {},
   "outputs": [
    {
     "name": "stdout",
     "output_type": "stream",
     "text": [
      "Fitting 5 folds for each of 3600 candidates, totalling 18000 fits\n",
      "En iyi parametreler: {'activation': 'logistic', 'hidden_layer_sizes': (100,), 'learning_rate': 'invscaling', 'learning_rate_init': 1.0, 'max_iter': 100, 'solver': 'sgd'}\n"
     ]
    }
   ],
   "source": [
    "param_grid = {\n",
    "    'hidden_layer_sizes': [(50,), (50, 50), (100,), (100, 100)],\n",
    "    'activation': ['identity', 'logistic', 'tanh', 'relu'],\n",
    "    'solver': ['lbfgs', 'sgd', 'adam'],\n",
    "    'learning_rate': ['constant', 'invscaling', 'adaptive'],\n",
    "    'learning_rate_init': [0.0001, 0.001, 0.01, 0.1, 1.0],\n",
    "    'max_iter': [100, 200, 300, 400, 500]\n",
    "}\n",
    "\n",
    "model = MLPClassifier(random_state=42)\n",
    "\n",
    "grid = GridSearchCV(model, param_grid, verbose=3, n_jobs=-1, cv=5)\n",
    "grid.fit(X_train_no_outliers, y_train_no_outliers)\n",
    "\n",
    "print(f\"En iyi parametreler: {grid.best_params_}\")"
   ]
  },
  {
   "cell_type": "code",
   "execution_count": 119,
   "metadata": {},
   "outputs": [
    {
     "name": "stdout",
     "output_type": "stream",
     "text": [
      "Accuracy: 98.27586206896551%\n",
      "Precision: 92.5925925925926%\n",
      "Recall: 100.0%\n",
      "ROC AUC: 98.90109890109889%\n"
     ]
    }
   ],
   "source": [
    "X_train_no_outliers = KNNImputer(n_neighbors=best_k_train).fit_transform(X_train_no_outliers)\n",
    "X_test_no_outliers = KNNImputer(n_neighbors=best_k_test).fit_transform(X_test_no_outliers)\n",
    "\n",
    "mlpc = MLPClassifier(random_state=42, **grid.best_params_)\n",
    "mlpc.fit(X_train_no_outliers, y_train_no_outliers)\n",
    "\n",
    "y_pred = mlpc.predict(X_test_no_outliers)\n",
    "\n",
    "accuracy = accuracy_score(y_test_no_outliers, y_pred)\n",
    "precision = precision_score(y_test_no_outliers, y_pred)\n",
    "recall = recall_score(y_test_no_outliers, y_pred)\n",
    "roc_auc = roc_auc_score(y_test_no_outliers, y_pred)\n",
    "\n",
    "print(f\"Accuracy: {accuracy * 100.0}%\")\n",
    "print(f\"Precision: {precision * 100.0}%\")\n",
    "print(f\"Recall: {recall * 100.0}%\")\n",
    "print(f\"ROC AUC: {roc_auc * 100.0}%\")\n",
    "\n",
    "d_no_outliers['MLPC'] = {'Accuracy': accuracy, 'Precision': precision, 'Recall': recall, 'ROC AUC': roc_auc}"
   ]
  },
  {
   "cell_type": "markdown",
   "metadata": {},
   "source": [
    "#### 3.5.4- Neural Network Classification no_outliers_na_dropped"
   ]
  },
  {
   "cell_type": "code",
   "execution_count": 120,
   "metadata": {},
   "outputs": [
    {
     "name": "stdout",
     "output_type": "stream",
     "text": [
      "Fitting 5 folds for each of 3600 candidates, totalling 18000 fits\n",
      "En iyi parametreler: {'activation': 'logistic', 'hidden_layer_sizes': (50,), 'learning_rate': 'constant', 'learning_rate_init': 0.01, 'max_iter': 200, 'solver': 'sgd'}\n"
     ]
    }
   ],
   "source": [
    "param_grid = {\n",
    "    'hidden_layer_sizes': [(50,), (50, 50), (100,), (100, 100)],\n",
    "    'activation': ['identity', 'logistic', 'tanh', 'relu'],\n",
    "    'solver': ['lbfgs', 'sgd', 'adam'],\n",
    "    'learning_rate': ['constant', 'invscaling', 'adaptive'],\n",
    "    'learning_rate_init': [0.0001, 0.001, 0.01, 0.1, 1.0],\n",
    "    'max_iter': [100, 200, 300, 400, 500]\n",
    "}\n",
    "\n",
    "model = MLPClassifier(random_state=42)\n",
    "\n",
    "grid = GridSearchCV(model, param_grid, verbose=3, n_jobs=-1, cv=5)\n",
    "grid.fit(X_train_no_outliers_na_dropped, y_train_no_outliers_na_dropped)\n",
    "\n",
    "print(f\"En iyi parametreler: {grid.best_params_}\")"
   ]
  },
  {
   "cell_type": "code",
   "execution_count": 121,
   "metadata": {},
   "outputs": [
    {
     "name": "stdout",
     "output_type": "stream",
     "text": [
      "Accuracy: 97.34513274336283%\n",
      "Precision: 100.0%\n",
      "Recall: 88.46153846153845%\n",
      "ROC AUC: 94.23076923076923%\n"
     ]
    }
   ],
   "source": [
    "mlpc = MLPClassifier(random_state=42, **grid.best_params_)\n",
    "mlpc.fit(X_train_no_outliers_na_dropped, y_train_no_outliers_na_dropped)\n",
    "\n",
    "y_pred = mlpc.predict(X_test_no_outliers_na_dropped)\n",
    "\n",
    "accuracy = accuracy_score(y_test_no_outliers_na_dropped, y_pred)\n",
    "precision = precision_score(y_test_no_outliers_na_dropped, y_pred)\n",
    "recall = recall_score(y_test_no_outliers_na_dropped, y_pred)\n",
    "roc_auc = roc_auc_score(y_test_no_outliers_na_dropped, y_pred)\n",
    "\n",
    "print(f\"Accuracy: {accuracy * 100.0}%\")\n",
    "print(f\"Precision: {precision * 100.0}%\")\n",
    "print(f\"Recall: {recall * 100.0}%\")\n",
    "print(f\"ROC AUC: {roc_auc * 100.0}%\")\n",
    "\n",
    "d_no_outliers_na_dropped['MLPC'] = {'Accuracy': accuracy, 'Precision': precision, 'Recall': recall, 'ROC AUC': roc_auc}"
   ]
  },
  {
   "cell_type": "markdown",
   "metadata": {},
   "source": [
    "#### 3.5.5- Support Vector Classification nan_outliers"
   ]
  },
  {
   "cell_type": "code",
   "execution_count": 122,
   "metadata": {},
   "outputs": [
    {
     "name": "stdout",
     "output_type": "stream",
     "text": [
      "En iyi k değeri: 1\n"
     ]
    }
   ],
   "source": [
    "best_score = -np.inf\n",
    "best_k_train = 1\n",
    "\n",
    "for k in range(1, 21):\n",
    "    imputer = KNNImputer(n_neighbors=k)\n",
    "    X_imputed = imputer.fit_transform(X_train_nan_outliers)\n",
    "\n",
    "    model = MLPClassifier(random_state=42)\n",
    "    scores = cross_val_score(model, X_imputed, y_train_nan_outliers, cv=5)\n",
    "    mean_score = np.mean(scores)\n",
    "\n",
    "    if mean_score > best_score:\n",
    "        best_score = mean_score\n",
    "        best_k_train = k\n",
    "\n",
    "print(f\"En iyi k değeri: {best_k_train}\")"
   ]
  },
  {
   "cell_type": "code",
   "execution_count": 123,
   "metadata": {},
   "outputs": [
    {
     "name": "stdout",
     "output_type": "stream",
     "text": [
      "En iyi k değeri: 1\n"
     ]
    }
   ],
   "source": [
    "best_score = -np.inf\n",
    "best_k_test = 1\n",
    "\n",
    "for k in range(1, 21):\n",
    "    imputer = KNNImputer(n_neighbors=k)\n",
    "    X_imputed = imputer.fit_transform(X_test_nan_outliers)\n",
    "\n",
    "    model = MLPClassifier(random_state=42)\n",
    "    scores = cross_val_score(model, X_imputed, y_test_nan_outliers, cv=5)\n",
    "    mean_score = np.mean(scores)\n",
    "\n",
    "    if mean_score > best_score:\n",
    "        best_score = mean_score\n",
    "        best_k_test = k\n",
    "\n",
    "print(f\"En iyi k değeri: {best_k_test}\")"
   ]
  },
  {
   "cell_type": "code",
   "execution_count": 124,
   "metadata": {},
   "outputs": [
    {
     "name": "stdout",
     "output_type": "stream",
     "text": [
      "Fitting 5 folds for each of 3600 candidates, totalling 18000 fits\n",
      "En iyi parametreler: {'activation': 'logistic', 'hidden_layer_sizes': (100, 100), 'learning_rate': 'constant', 'learning_rate_init': 0.01, 'max_iter': 200, 'solver': 'adam'}\n"
     ]
    }
   ],
   "source": [
    "param_grid = {\n",
    "    'hidden_layer_sizes': [(50,), (50, 50), (100,), (100, 100)],\n",
    "    'activation': ['identity', 'logistic', 'tanh', 'relu'],\n",
    "    'solver': ['lbfgs', 'sgd', 'adam'],\n",
    "    'learning_rate': ['constant', 'invscaling', 'adaptive'],\n",
    "    'learning_rate_init': [0.0001, 0.001, 0.01, 0.1, 1.0],\n",
    "    'max_iter': [100, 200, 300, 400, 500]\n",
    "}\n",
    "\n",
    "model = MLPClassifier(random_state=42)\n",
    "\n",
    "grid = GridSearchCV(model, param_grid, verbose=3, n_jobs=-1, cv=5)\n",
    "grid.fit(X_train_nan_outliers, y_train_nan_outliers)\n",
    "\n",
    "print(f\"En iyi parametreler: {grid.best_params_}\")"
   ]
  },
  {
   "cell_type": "code",
   "execution_count": 125,
   "metadata": {},
   "outputs": [
    {
     "name": "stdout",
     "output_type": "stream",
     "text": [
      "Accuracy: 95.71428571428572%\n",
      "Precision: 95.34883720930233%\n",
      "Recall: 91.11111111111111%\n",
      "ROC AUC: 94.50292397660819%\n"
     ]
    }
   ],
   "source": [
    "X_train_nan_outliers = KNNImputer(n_neighbors=best_k_train).fit_transform(X_train_nan_outliers)\n",
    "X_test_nan_outliers = KNNImputer(n_neighbors=best_k_test).fit_transform(X_test_nan_outliers)\n",
    "\n",
    "mlpc = MLPClassifier(random_state=42, **grid.best_params_)\n",
    "mlpc.fit(X_train_nan_outliers, y_train_nan_outliers)\n",
    "\n",
    "y_pred = mlpc.predict(X_test_nan_outliers)\n",
    "\n",
    "accuracy = accuracy_score(y_test_nan_outliers, y_pred)\n",
    "precision = precision_score(y_test_nan_outliers, y_pred)\n",
    "recall = recall_score(y_test_nan_outliers, y_pred)\n",
    "roc_auc = roc_auc_score(y_test_nan_outliers, y_pred)\n",
    "\n",
    "print(f\"Accuracy: {accuracy * 100.0}%\")\n",
    "print(f\"Precision: {precision * 100.0}%\")\n",
    "print(f\"Recall: {recall * 100.0}%\")\n",
    "print(f\"ROC AUC: {roc_auc * 100.0}%\")\n",
    "\n",
    "d_nan_outliers['MLPC'] = {'Accuracy': accuracy, 'Precision': precision, 'Recall': recall, 'ROC AUC': roc_auc}"
   ]
  },
  {
   "cell_type": "markdown",
   "metadata": {},
   "source": [
    "#### 3.5.6- Support Vector Classification nan_outliers_na_dropped"
   ]
  },
  {
   "cell_type": "code",
   "execution_count": 126,
   "metadata": {},
   "outputs": [
    {
     "name": "stdout",
     "output_type": "stream",
     "text": [
      "En iyi k değeri: 1\n"
     ]
    }
   ],
   "source": [
    "best_score = -np.inf\n",
    "best_k_train = 1\n",
    "\n",
    "for k in range(1, 21):\n",
    "    imputer = KNNImputer(n_neighbors=k)\n",
    "    X_imputed = imputer.fit_transform(X_train_nan_outliers_na_dropped)\n",
    "\n",
    "    model = MLPClassifier(random_state=42)\n",
    "    scores = cross_val_score(model, X_imputed, y_train_nan_outliers_na_dropped, cv=5)\n",
    "    mean_score = np.mean(scores)\n",
    "\n",
    "    if mean_score > best_score:\n",
    "        best_score = mean_score\n",
    "        best_k_train = k\n",
    "\n",
    "print(f\"En iyi k değeri: {best_k_train}\")"
   ]
  },
  {
   "cell_type": "code",
   "execution_count": 127,
   "metadata": {},
   "outputs": [
    {
     "name": "stdout",
     "output_type": "stream",
     "text": [
      "En iyi k değeri: 1\n"
     ]
    }
   ],
   "source": [
    "best_score = -np.inf\n",
    "best_k_test = 1\n",
    "\n",
    "for k in range(1, 21):\n",
    "    imputer = KNNImputer(n_neighbors=k)\n",
    "    X_imputed = imputer.fit_transform(X_test_nan_outliers_na_dropped)\n",
    "\n",
    "    model = MLPClassifier(random_state=42)\n",
    "    scores = cross_val_score(model, X_imputed, y_test_nan_outliers_na_dropped, cv=5)\n",
    "    mean_score = np.mean(scores)\n",
    "\n",
    "    if mean_score > best_score:\n",
    "        best_score = mean_score\n",
    "        best_k_test = k\n",
    "\n",
    "print(f\"En iyi k değeri: {best_k_test}\")"
   ]
  },
  {
   "cell_type": "code",
   "execution_count": 128,
   "metadata": {},
   "outputs": [
    {
     "name": "stdout",
     "output_type": "stream",
     "text": [
      "Fitting 5 folds for each of 3600 candidates, totalling 18000 fits\n",
      "En iyi parametreler: {'activation': 'logistic', 'hidden_layer_sizes': (50,), 'learning_rate': 'constant', 'learning_rate_init': 0.001, 'max_iter': 200, 'solver': 'adam'}\n"
     ]
    }
   ],
   "source": [
    "param_grid = {\n",
    "    'hidden_layer_sizes': [(50,), (50, 50), (100,), (100, 100)],\n",
    "    'activation': ['identity', 'logistic', 'tanh', 'relu'],\n",
    "    'solver': ['lbfgs', 'sgd', 'adam'],\n",
    "    'learning_rate': ['constant', 'invscaling', 'adaptive'],\n",
    "    'learning_rate_init': [0.0001, 0.001, 0.01, 0.1, 1.0],\n",
    "    'max_iter': [100, 200, 300, 400, 500]\n",
    "}\n",
    "\n",
    "model = MLPClassifier(random_state=42)\n",
    "\n",
    "grid = GridSearchCV(model, param_grid, verbose=3, n_jobs=-1, cv=5)\n",
    "grid.fit(X_train_nan_outliers_na_dropped, y_train_nan_outliers_na_dropped)\n",
    "\n",
    "print(f\"En iyi parametreler: {grid.best_params_}\")"
   ]
  },
  {
   "cell_type": "code",
   "execution_count": 129,
   "metadata": {},
   "outputs": [
    {
     "name": "stdout",
     "output_type": "stream",
     "text": [
      "Accuracy: 94.8905109489051%\n",
      "Precision: 96.36363636363636%\n",
      "Recall: 91.37931034482759%\n",
      "ROC AUC: 94.42383238760367%\n"
     ]
    }
   ],
   "source": [
    "mlpc = MLPClassifier(random_state=42, **grid.best_params_)\n",
    "mlpc.fit(X_train_nan_outliers_na_dropped, y_train_nan_outliers_na_dropped)\n",
    "\n",
    "y_pred = mlpc.predict(X_test_nan_outliers_na_dropped)\n",
    "\n",
    "accuracy = accuracy_score(y_test_nan_outliers_na_dropped, y_pred)\n",
    "precision = precision_score(y_test_nan_outliers_na_dropped, y_pred)\n",
    "recall = recall_score(y_test_nan_outliers_na_dropped, y_pred)\n",
    "roc_auc = roc_auc_score(y_test_nan_outliers_na_dropped, y_pred)\n",
    "\n",
    "print(f\"Accuracy: {accuracy * 100.0}%\")\n",
    "print(f\"Precision: {precision * 100.0}%\")\n",
    "print(f\"Recall: {recall * 100.0}%\")\n",
    "print(f\"ROC AUC: {roc_auc * 100.0}%\")\n",
    "\n",
    "d_nan_outliers_na_dropped['MLPC'] = {'Accuracy': accuracy, 'Precision': precision, 'Recall': recall, 'ROC AUC': roc_auc}"
   ]
  },
  {
   "cell_type": "markdown",
   "metadata": {},
   "source": [
    "### 3.6- Gradient Boosting Classification"
   ]
  },
  {
   "cell_type": "code",
   "execution_count": 130,
   "metadata": {},
   "outputs": [],
   "source": [
    "from sklearn.ensemble import GradientBoostingClassifier"
   ]
  },
  {
   "cell_type": "markdown",
   "metadata": {},
   "source": [
    "#### 3.6.1- Gradient Boosting Classification with_outliers"
   ]
  },
  {
   "cell_type": "code",
   "execution_count": 131,
   "metadata": {},
   "outputs": [
    {
     "name": "stdout",
     "output_type": "stream",
     "text": [
      "En iyi k değeri: 1\n"
     ]
    }
   ],
   "source": [
    "best_score = -np.inf\n",
    "best_k_train = 1\n",
    "\n",
    "for k in range(1, 21):\n",
    "    imputer = KNNImputer(n_neighbors=k)\n",
    "    X_imputed = imputer.fit_transform(X_train_with_outliers)\n",
    "\n",
    "    model = GradientBoostingClassifier(random_state=42)\n",
    "    scores = cross_val_score(model, X_imputed, y_train_with_outliers, cv=5)\n",
    "    mean_score = np.mean(scores)\n",
    "\n",
    "    if mean_score > best_score:\n",
    "        best_score = mean_score\n",
    "        best_k_train = k\n",
    "\n",
    "print(f\"En iyi k değeri: {best_k_train}\")"
   ]
  },
  {
   "cell_type": "code",
   "execution_count": 132,
   "metadata": {},
   "outputs": [
    {
     "name": "stdout",
     "output_type": "stream",
     "text": [
      "En iyi k değeri: 1\n"
     ]
    }
   ],
   "source": [
    "best_score = -np.inf\n",
    "best_k_test = 1\n",
    "\n",
    "for k in range(1, 21):\n",
    "    imputer = KNNImputer(n_neighbors=k)\n",
    "    X_imputed = imputer.fit_transform(X_test_with_outliers)\n",
    "\n",
    "    model = GradientBoostingClassifier(random_state=42)\n",
    "    scores = cross_val_score(model, X_imputed, y_test_with_outliers, cv=5)\n",
    "    mean_score = np.mean(scores)\n",
    "\n",
    "    if mean_score > best_score:\n",
    "        best_score = mean_score\n",
    "        best_k_test = k\n",
    "\n",
    "print(f\"En iyi k değeri: {best_k_test}\")"
   ]
  },
  {
   "cell_type": "code",
   "execution_count": 133,
   "metadata": {},
   "outputs": [
    {
     "name": "stdout",
     "output_type": "stream",
     "text": [
      "Fitting 5 folds for each of 360 candidates, totalling 1800 fits\n",
      "En iyi parametreler: {'learning_rate': 0.01, 'loss': 'exponential', 'max_depth': 3, 'min_samples_split': 6, 'n_estimators': 300}\n"
     ]
    }
   ],
   "source": [
    "param_grid = {\n",
    "    'loss': ['log_loss', 'exponential'],\n",
    "    'learning_rate': [0.1, 0.01, 0.001],\n",
    "    'n_estimators': [100, 200, 300, 400, 500],\n",
    "    'min_samples_split': [2, 4, 6, 8],\n",
    "    'max_depth': [3, 5, 7]\n",
    "}\n",
    "\n",
    "model = GradientBoostingClassifier(random_state=42)\n",
    "\n",
    "grid = GridSearchCV(model, param_grid, verbose=3, n_jobs=-1, cv=5)\n",
    "grid.fit(X_train_with_outliers, y_train_with_outliers)\n",
    "\n",
    "print(f\"En iyi parametreler: {grid.best_params_}\")"
   ]
  },
  {
   "cell_type": "code",
   "execution_count": 134,
   "metadata": {},
   "outputs": [
    {
     "name": "stdout",
     "output_type": "stream",
     "text": [
      "Accuracy: 95.71428571428572%\n",
      "Precision: 95.34883720930233%\n",
      "Recall: 91.11111111111111%\n",
      "ROC AUC: 94.50292397660819%\n"
     ]
    }
   ],
   "source": [
    "X_train_with_outliers = KNNImputer(n_neighbors=best_k_train).fit_transform(X_train_with_outliers)\n",
    "X_test_with_outliers = KNNImputer(n_neighbors=best_k_test).fit_transform(X_test_with_outliers)\n",
    "\n",
    "gbc = GradientBoostingClassifier(random_state=42, **grid.best_params_)\n",
    "gbc.fit(X_train_with_outliers, y_train_with_outliers)\n",
    "\n",
    "y_pred = gbc.predict(X_test_with_outliers)\n",
    "\n",
    "accuracy = accuracy_score(y_test_with_outliers, y_pred)\n",
    "precision = precision_score(y_test_with_outliers, y_pred)\n",
    "recall = recall_score(y_test_with_outliers, y_pred)\n",
    "roc_auc = roc_auc_score(y_test_with_outliers, y_pred)\n",
    "\n",
    "print(f\"Accuracy: {accuracy * 100.0}%\")\n",
    "print(f\"Precision: {precision * 100.0}%\")\n",
    "print(f\"Recall: {recall * 100.0}%\")\n",
    "print(f\"ROC AUC: {roc_auc * 100.0}%\")\n",
    "\n",
    "d_with_outliers['GBC'] = {'Accuracy': accuracy, 'Precision': precision, 'Recall': recall, 'ROC AUC': roc_auc}"
   ]
  },
  {
   "cell_type": "markdown",
   "metadata": {},
   "source": [
    "#### 3.6.2- Gradient Boosting Classification with_outliers_na_dropped"
   ]
  },
  {
   "cell_type": "code",
   "execution_count": 135,
   "metadata": {},
   "outputs": [
    {
     "name": "stdout",
     "output_type": "stream",
     "text": [
      "Fitting 5 folds for each of 360 candidates, totalling 1800 fits\n",
      "En iyi parametreler: {'learning_rate': 0.1, 'loss': 'log_loss', 'max_depth': 3, 'min_samples_split': 4, 'n_estimators': 100}\n"
     ]
    }
   ],
   "source": [
    "param_grid = {\n",
    "    'loss': ['log_loss', 'exponential'],\n",
    "    'learning_rate': [0.1, 0.01, 0.001],\n",
    "    'n_estimators': [100, 200, 300, 400, 500],\n",
    "    'min_samples_split': [2, 4, 6, 8],\n",
    "    'max_depth': [3, 5, 7]\n",
    "}\n",
    "\n",
    "model = GradientBoostingClassifier(random_state=42)\n",
    "\n",
    "grid = GridSearchCV(model, param_grid, verbose=3, n_jobs=-1, cv=5)\n",
    "grid.fit(X_train_with_outliers_na_dropped, y_train_with_outliers_na_dropped)\n",
    "\n",
    "print(f\"En iyi parametreler: {grid.best_params_}\")"
   ]
  },
  {
   "cell_type": "code",
   "execution_count": 136,
   "metadata": {},
   "outputs": [
    {
     "name": "stdout",
     "output_type": "stream",
     "text": [
      "Accuracy: 94.8905109489051%\n",
      "Precision: 96.36363636363636%\n",
      "Recall: 91.37931034482759%\n",
      "ROC AUC: 94.42383238760367%\n"
     ]
    }
   ],
   "source": [
    "gbc = GradientBoostingClassifier(random_state=42, **grid.best_params_)\n",
    "gbc.fit(X_train_with_outliers_na_dropped, y_train_with_outliers_na_dropped)\n",
    "\n",
    "y_pred = gbc.predict(X_test_with_outliers_na_dropped)\n",
    "\n",
    "accuracy = accuracy_score(y_test_with_outliers_na_dropped, y_pred)\n",
    "precision = precision_score(y_test_with_outliers_na_dropped, y_pred)\n",
    "recall = recall_score(y_test_with_outliers_na_dropped, y_pred)\n",
    "roc_auc = roc_auc_score(y_test_with_outliers_na_dropped, y_pred)\n",
    "\n",
    "print(f\"Accuracy: {accuracy * 100.0}%\")\n",
    "print(f\"Precision: {precision * 100.0}%\")\n",
    "print(f\"Recall: {recall * 100.0}%\")\n",
    "print(f\"ROC AUC: {roc_auc * 100.0}%\")\n",
    "\n",
    "d_with_outliers_na_dropped['GBC'] = {'Accuracy': accuracy, 'Precision': precision, 'Recall': recall, 'ROC AUC': roc_auc}"
   ]
  },
  {
   "cell_type": "markdown",
   "metadata": {},
   "source": [
    "#### 3.6.3- Gradient Boost Classification no_outliers"
   ]
  },
  {
   "cell_type": "code",
   "execution_count": 137,
   "metadata": {},
   "outputs": [
    {
     "name": "stdout",
     "output_type": "stream",
     "text": [
      "En iyi k değeri: 1\n"
     ]
    }
   ],
   "source": [
    "best_score = -np.inf\n",
    "best_k_train = 1\n",
    "\n",
    "for k in range(1, 21):\n",
    "    imputer = KNNImputer(n_neighbors=k)\n",
    "    X_imputed = imputer.fit_transform(X_train_no_outliers)\n",
    "\n",
    "    model = GradientBoostingClassifier(random_state=42)\n",
    "    scores = cross_val_score(model, X_imputed, y_train_no_outliers, cv=5)\n",
    "    mean_score = np.mean(scores)\n",
    "\n",
    "    if mean_score > best_score:\n",
    "        best_score = mean_score\n",
    "        best_k_train = k\n",
    "\n",
    "print(f\"En iyi k değeri: {best_k_train}\")"
   ]
  },
  {
   "cell_type": "code",
   "execution_count": 138,
   "metadata": {},
   "outputs": [
    {
     "name": "stdout",
     "output_type": "stream",
     "text": [
      "En iyi k değeri: 1\n"
     ]
    }
   ],
   "source": [
    "best_score = -np.inf\n",
    "best_k_test = 1\n",
    "\n",
    "for k in range(1, 21):\n",
    "    imputer = KNNImputer(n_neighbors=k)\n",
    "    X_imputed = imputer.fit_transform(X_test_no_outliers)\n",
    "\n",
    "    model = GradientBoostingClassifier(random_state=42)\n",
    "    scores = cross_val_score(model, X_imputed, y_test_no_outliers, cv=5)\n",
    "    mean_score = np.mean(scores)\n",
    "\n",
    "    if mean_score > best_score:\n",
    "        best_score = mean_score\n",
    "        best_k_test = k\n",
    "\n",
    "print(f\"En iyi k değeri: {best_k_test}\")"
   ]
  },
  {
   "cell_type": "code",
   "execution_count": 139,
   "metadata": {},
   "outputs": [
    {
     "name": "stdout",
     "output_type": "stream",
     "text": [
      "Fitting 5 folds for each of 360 candidates, totalling 1800 fits\n",
      "En iyi parametreler: {'learning_rate': 0.1, 'loss': 'log_loss', 'max_depth': 5, 'min_samples_split': 8, 'n_estimators': 200}\n"
     ]
    }
   ],
   "source": [
    "param_grid = {\n",
    "    'loss': ['log_loss', 'exponential'],\n",
    "    'learning_rate': [0.1, 0.01, 0.001],\n",
    "    'n_estimators': [100, 200, 300, 400, 500],\n",
    "    'min_samples_split': [2, 4, 6, 8],\n",
    "    'max_depth': [3, 5, 7]\n",
    "}\n",
    "\n",
    "model = GradientBoostingClassifier(random_state=42)\n",
    "\n",
    "grid = GridSearchCV(model, param_grid, verbose=3, n_jobs=-1, cv=5)\n",
    "grid.fit(X_train_no_outliers, y_train_no_outliers)\n",
    "\n",
    "print(f\"En iyi parametreler: {grid.best_params_}\")"
   ]
  },
  {
   "cell_type": "code",
   "execution_count": 140,
   "metadata": {},
   "outputs": [
    {
     "name": "stdout",
     "output_type": "stream",
     "text": [
      "Accuracy: 96.55172413793103%\n",
      "Precision: 92.0%\n",
      "Recall: 92.0%\n",
      "ROC AUC: 94.9010989010989%\n"
     ]
    }
   ],
   "source": [
    "X_train_no_outliers = KNNImputer(n_neighbors=best_k_train).fit_transform(X_train_no_outliers)\n",
    "X_test_no_outliers = KNNImputer(n_neighbors=best_k_test).fit_transform(X_test_no_outliers)\n",
    "\n",
    "gbc = GradientBoostingClassifier(random_state=42, **grid.best_params_)\n",
    "gbc.fit(X_train_no_outliers, y_train_no_outliers)\n",
    "\n",
    "y_pred = gbc.predict(X_test_no_outliers)\n",
    "\n",
    "accuracy = accuracy_score(y_test_no_outliers, y_pred)\n",
    "precision = precision_score(y_test_no_outliers, y_pred)\n",
    "recall = recall_score(y_test_no_outliers, y_pred)\n",
    "roc_auc = roc_auc_score(y_test_no_outliers, y_pred)\n",
    "\n",
    "print(f\"Accuracy: {accuracy * 100.0}%\")\n",
    "print(f\"Precision: {precision * 100.0}%\")\n",
    "print(f\"Recall: {recall * 100.0}%\")\n",
    "print(f\"ROC AUC: {roc_auc * 100.0}%\")\n",
    "\n",
    "d_no_outliers['GBC'] = {'Accuracy': accuracy, 'Precision': precision, 'Recall': recall, 'ROC AUC': roc_auc}"
   ]
  },
  {
   "cell_type": "markdown",
   "metadata": {},
   "source": [
    "#### 3.6.4- Neural Network Classification no_outliers_na_dropped"
   ]
  },
  {
   "cell_type": "code",
   "execution_count": 141,
   "metadata": {},
   "outputs": [
    {
     "name": "stdout",
     "output_type": "stream",
     "text": [
      "Fitting 5 folds for each of 360 candidates, totalling 1800 fits\n",
      "En iyi parametreler: {'learning_rate': 0.1, 'loss': 'log_loss', 'max_depth': 5, 'min_samples_split': 8, 'n_estimators': 200}\n"
     ]
    }
   ],
   "source": [
    "param_grid = {\n",
    "    'loss': ['log_loss', 'exponential'],\n",
    "    'learning_rate': [0.1, 0.01, 0.001],\n",
    "    'n_estimators': [100, 200, 300, 400, 500],\n",
    "    'min_samples_split': [2, 4, 6, 8],\n",
    "    'max_depth': [3, 5, 7]\n",
    "}\n",
    "\n",
    "model = GradientBoostingClassifier(random_state=42)\n",
    "\n",
    "grid = GridSearchCV(model, param_grid, verbose=3, n_jobs=-1, cv=5)\n",
    "grid.fit(X_train_no_outliers_na_dropped, y_train_no_outliers_na_dropped)\n",
    "\n",
    "print(f\"En iyi parametreler: {grid.best_params_}\")"
   ]
  },
  {
   "cell_type": "code",
   "execution_count": 142,
   "metadata": {},
   "outputs": [
    {
     "name": "stdout",
     "output_type": "stream",
     "text": [
      "Accuracy: 95.57522123893806%\n",
      "Precision: 92.0%\n",
      "Recall: 88.46153846153845%\n",
      "ROC AUC: 93.0813439434129%\n"
     ]
    }
   ],
   "source": [
    "gbc = GradientBoostingClassifier(random_state=42, **grid.best_params_)\n",
    "gbc.fit(X_train_no_outliers_na_dropped, y_train_no_outliers_na_dropped)\n",
    "\n",
    "y_pred = gbc.predict(X_test_no_outliers_na_dropped)\n",
    "\n",
    "accuracy = accuracy_score(y_test_no_outliers_na_dropped, y_pred)\n",
    "precision = precision_score(y_test_no_outliers_na_dropped, y_pred)\n",
    "recall = recall_score(y_test_no_outliers_na_dropped, y_pred)\n",
    "roc_auc = roc_auc_score(y_test_no_outliers_na_dropped, y_pred)\n",
    "\n",
    "print(f\"Accuracy: {accuracy * 100.0}%\")\n",
    "print(f\"Precision: {precision * 100.0}%\")\n",
    "print(f\"Recall: {recall * 100.0}%\")\n",
    "print(f\"ROC AUC: {roc_auc * 100.0}%\")\n",
    "\n",
    "d_no_outliers_na_dropped['GBC'] = {'Accuracy': accuracy, 'Precision': precision, 'Recall': recall, 'ROC AUC': roc_auc}"
   ]
  },
  {
   "cell_type": "markdown",
   "metadata": {},
   "source": [
    "#### 3.6.5- Support Vector Classification nan_outliers"
   ]
  },
  {
   "cell_type": "code",
   "execution_count": 143,
   "metadata": {},
   "outputs": [
    {
     "name": "stdout",
     "output_type": "stream",
     "text": [
      "En iyi k değeri: 1\n"
     ]
    }
   ],
   "source": [
    "best_score = -np.inf\n",
    "best_k_train = 1\n",
    "\n",
    "for k in range(1, 21):\n",
    "    imputer = KNNImputer(n_neighbors=k)\n",
    "    X_imputed = imputer.fit_transform(X_train_nan_outliers)\n",
    "\n",
    "    model = GradientBoostingClassifier(random_state=42)\n",
    "    scores = cross_val_score(model, X_imputed, y_train_nan_outliers, cv=5)\n",
    "    mean_score = np.mean(scores)\n",
    "\n",
    "    if mean_score > best_score:\n",
    "        best_score = mean_score\n",
    "        best_k_train = k\n",
    "\n",
    "print(f\"En iyi k değeri: {best_k_train}\")"
   ]
  },
  {
   "cell_type": "code",
   "execution_count": 144,
   "metadata": {},
   "outputs": [
    {
     "name": "stdout",
     "output_type": "stream",
     "text": [
      "En iyi k değeri: 1\n"
     ]
    }
   ],
   "source": [
    "best_score = -np.inf\n",
    "best_k_test = 1\n",
    "\n",
    "for k in range(1, 21):\n",
    "    imputer = KNNImputer(n_neighbors=k)\n",
    "    X_imputed = imputer.fit_transform(X_test_nan_outliers)\n",
    "\n",
    "    model = GradientBoostingClassifier(random_state=42)\n",
    "    scores = cross_val_score(model, X_imputed, y_test_nan_outliers, cv=5)\n",
    "    mean_score = np.mean(scores)\n",
    "\n",
    "    if mean_score > best_score:\n",
    "        best_score = mean_score\n",
    "        best_k_test = k\n",
    "\n",
    "print(f\"En iyi k değeri: {best_k_test}\")"
   ]
  },
  {
   "cell_type": "code",
   "execution_count": 145,
   "metadata": {},
   "outputs": [
    {
     "name": "stdout",
     "output_type": "stream",
     "text": [
      "Fitting 5 folds for each of 360 candidates, totalling 1800 fits\n",
      "En iyi parametreler: {'learning_rate': 0.1, 'loss': 'log_loss', 'max_depth': 3, 'min_samples_split': 4, 'n_estimators': 300}\n"
     ]
    }
   ],
   "source": [
    "param_grid = {\n",
    "    'loss': ['log_loss', 'exponential'],\n",
    "    'learning_rate': [0.1, 0.01, 0.001],\n",
    "    'n_estimators': [100, 200, 300, 400, 500],\n",
    "    'min_samples_split': [2, 4, 6, 8],\n",
    "    'max_depth': [3, 5, 7]\n",
    "}\n",
    "\n",
    "model = GradientBoostingClassifier(random_state=42)\n",
    "\n",
    "grid = GridSearchCV(model, param_grid, verbose=3, n_jobs=-1, cv=5)\n",
    "grid.fit(X_train_nan_outliers, y_train_nan_outliers)\n",
    "\n",
    "print(f\"En iyi parametreler: {grid.best_params_}\")"
   ]
  },
  {
   "cell_type": "code",
   "execution_count": 146,
   "metadata": {},
   "outputs": [
    {
     "name": "stdout",
     "output_type": "stream",
     "text": [
      "Accuracy: 95.71428571428572%\n",
      "Precision: 95.34883720930233%\n",
      "Recall: 91.11111111111111%\n",
      "ROC AUC: 94.50292397660819%\n"
     ]
    }
   ],
   "source": [
    "X_train_nan_outliers = KNNImputer(n_neighbors=best_k_train).fit_transform(X_train_nan_outliers)\n",
    "X_test_nan_outliers = KNNImputer(n_neighbors=best_k_test).fit_transform(X_test_nan_outliers)\n",
    "\n",
    "gbc = GradientBoostingClassifier(random_state=42, **grid.best_params_)\n",
    "gbc.fit(X_train_nan_outliers, y_train_nan_outliers)\n",
    "\n",
    "y_pred = gbc.predict(X_test_nan_outliers)\n",
    "\n",
    "accuracy = accuracy_score(y_test_nan_outliers, y_pred)\n",
    "precision = precision_score(y_test_nan_outliers, y_pred)\n",
    "recall = recall_score(y_test_nan_outliers, y_pred)\n",
    "roc_auc = roc_auc_score(y_test_nan_outliers, y_pred)\n",
    "\n",
    "print(f\"Accuracy: {accuracy * 100.0}%\")\n",
    "print(f\"Precision: {precision * 100.0}%\")\n",
    "print(f\"Recall: {recall * 100.0}%\")\n",
    "print(f\"ROC AUC: {roc_auc * 100.0}%\")\n",
    "\n",
    "d_nan_outliers['GBC'] = {'Accuracy': accuracy, 'Precision': precision, 'Recall': recall, 'ROC AUC': roc_auc}"
   ]
  },
  {
   "cell_type": "markdown",
   "metadata": {},
   "source": [
    "#### 3.6.6- Support Vector Classification nan_outliers_na_dropped"
   ]
  },
  {
   "cell_type": "code",
   "execution_count": 147,
   "metadata": {},
   "outputs": [
    {
     "name": "stdout",
     "output_type": "stream",
     "text": [
      "En iyi k değeri: 1\n"
     ]
    }
   ],
   "source": [
    "best_score = -np.inf\n",
    "best_k_train = 1\n",
    "\n",
    "for k in range(1, 21):\n",
    "    imputer = KNNImputer(n_neighbors=k)\n",
    "    X_imputed = imputer.fit_transform(X_train_nan_outliers_na_dropped)\n",
    "\n",
    "    model = GradientBoostingClassifier(random_state=42)\n",
    "    scores = cross_val_score(model, X_imputed, y_train_nan_outliers_na_dropped, cv=5)\n",
    "    mean_score = np.mean(scores)\n",
    "\n",
    "    if mean_score > best_score:\n",
    "        best_score = mean_score\n",
    "        best_k_train = k\n",
    "\n",
    "print(f\"En iyi k değeri: {best_k_train}\")"
   ]
  },
  {
   "cell_type": "code",
   "execution_count": 148,
   "metadata": {},
   "outputs": [
    {
     "name": "stdout",
     "output_type": "stream",
     "text": [
      "En iyi k değeri: 1\n"
     ]
    }
   ],
   "source": [
    "best_score = -np.inf\n",
    "best_k_test = 1\n",
    "\n",
    "for k in range(1, 21):\n",
    "    imputer = KNNImputer(n_neighbors=k)\n",
    "    X_imputed = imputer.fit_transform(X_test_nan_outliers_na_dropped)\n",
    "\n",
    "    model = GradientBoostingClassifier(random_state=42)\n",
    "    scores = cross_val_score(model, X_imputed, y_test_nan_outliers_na_dropped, cv=5)\n",
    "    mean_score = np.mean(scores)\n",
    "\n",
    "    if mean_score > best_score:\n",
    "        best_score = mean_score\n",
    "        best_k_test = k\n",
    "\n",
    "print(f\"En iyi k değeri: {best_k_test}\")"
   ]
  },
  {
   "cell_type": "code",
   "execution_count": 149,
   "metadata": {},
   "outputs": [
    {
     "name": "stdout",
     "output_type": "stream",
     "text": [
      "Fitting 5 folds for each of 360 candidates, totalling 1800 fits\n",
      "En iyi parametreler: {'learning_rate': 0.1, 'loss': 'exponential', 'max_depth': 5, 'min_samples_split': 8, 'n_estimators': 200}\n"
     ]
    }
   ],
   "source": [
    "param_grid = {\n",
    "    'loss': ['log_loss', 'exponential'],\n",
    "    'learning_rate': [0.1, 0.01, 0.001],\n",
    "    'n_estimators': [100, 200, 300, 400, 500],\n",
    "    'min_samples_split': [2, 4, 6, 8],\n",
    "    'max_depth': [3, 5, 7]\n",
    "}\n",
    "\n",
    "model = GradientBoostingClassifier(random_state=42)\n",
    "\n",
    "grid = GridSearchCV(model, param_grid, verbose=3, n_jobs=-1, cv=5)\n",
    "grid.fit(X_train_nan_outliers_na_dropped, y_train_nan_outliers_na_dropped)\n",
    "\n",
    "print(f\"En iyi parametreler: {grid.best_params_}\")"
   ]
  },
  {
   "cell_type": "code",
   "execution_count": 150,
   "metadata": {},
   "outputs": [
    {
     "name": "stdout",
     "output_type": "stream",
     "text": [
      "Accuracy: 97.08029197080292%\n",
      "Precision: 98.21428571428571%\n",
      "Recall: 94.82758620689656%\n",
      "ROC AUC: 96.78088171104322%\n"
     ]
    }
   ],
   "source": [
    "gbc = GradientBoostingClassifier(random_state=42, **grid.best_params_)\n",
    "gbc.fit(X_train_nan_outliers_na_dropped, y_train_nan_outliers_na_dropped)\n",
    "\n",
    "y_pred = gbc.predict(X_test_nan_outliers_na_dropped)\n",
    "\n",
    "accuracy = accuracy_score(y_test_nan_outliers_na_dropped, y_pred)\n",
    "precision = precision_score(y_test_nan_outliers_na_dropped, y_pred)\n",
    "recall = recall_score(y_test_nan_outliers_na_dropped, y_pred)\n",
    "roc_auc = roc_auc_score(y_test_nan_outliers_na_dropped, y_pred)\n",
    "\n",
    "print(f\"Accuracy: {accuracy * 100.0}%\")\n",
    "print(f\"Precision: {precision * 100.0}%\")\n",
    "print(f\"Recall: {recall * 100.0}%\")\n",
    "print(f\"ROC AUC: {roc_auc * 100.0}%\")\n",
    "\n",
    "d_nan_outliers_na_dropped['GBC'] = {'Accuracy': accuracy, 'Precision': precision, 'Recall': recall, 'ROC AUC': roc_auc}"
   ]
  },
  {
   "cell_type": "markdown",
   "metadata": {},
   "source": [
    "Şimdi tüm veri kombinasyonları için en iyi değerlere bakalım."
   ]
  },
  {
   "cell_type": "code",
   "execution_count": 158,
   "metadata": {},
   "outputs": [
    {
     "name": "stdout",
     "output_type": "stream",
     "text": [
      "with_outliers verisi için en iyi değerler:\n",
      "------------------------------------------\n",
      "En yüksek Accuracy:\t\tLR = 0.9785714285714285\n",
      "En yüksek Precision:\t\tLR = 0.9565217391304348\n",
      "En yüksek Recall:\t\tLR = 0.9777777777777777\n",
      "En yüksek ROC AUC:\t\tLR = 0.9783625730994152\n",
      "\n",
      "with_outliers_na_dropped verisi için en iyi değerler:\n",
      "-----------------------------------------------------\n",
      "En yüksek Accuracy:\t\tSVC = 0.9854014598540146\n",
      "En yüksek Precision:\t\tSVC = 0.9827586206896551\n",
      "En yüksek Recall:\t\tSVC = 0.9827586206896551\n",
      "En yüksek ROC AUC:\t\tSVC = 0.9850501964207771\n",
      "\n",
      "no_outliers verisi için en iyi değerler:\n",
      "----------------------------------------\n",
      "En yüksek Accuracy:\t\tSVC = 0.9827586206896551\n",
      "En yüksek Precision:\t\tXGB = 0.9583333333333334\n",
      "En yüksek Recall:\t\tSVC = 1.0\n",
      "En yüksek ROC AUC:\t\tSVC = 0.9890109890109889\n",
      "\n",
      "no_outliers_na_dropped verisi için en iyi değerler:\n",
      "---------------------------------------------------\n",
      "En yüksek Accuracy:\t\tXGB = 0.9734513274336283\n",
      "En yüksek Precision:\t\tXGB = 1.0\n",
      "En yüksek Recall:\t\tSVC = 0.9230769230769231\n",
      "En yüksek ROC AUC:\t\tSVC = 0.9557913351016799\n",
      "\n",
      "nan_outliers verisi için en iyi değerler:\n",
      "-----------------------------------------\n",
      "En yüksek Accuracy:\t\tSVC = 0.9785714285714285\n",
      "En yüksek Precision:\t\tSVC = 0.9565217391304348\n",
      "En yüksek Recall:\t\tSVC = 0.9777777777777777\n",
      "En yüksek ROC AUC:\t\tSVC = 0.9783625730994152\n",
      "\n",
      "nan_outliers_na_dropped verisi için en iyi değerler:\n",
      "----------------------------------------------------\n",
      "En yüksek Accuracy:\t\tSVC = 0.9708029197080292\n",
      "En yüksek Precision:\t\tSVC = 0.9821428571428571\n",
      "En yüksek Recall:\t\tSVC = 0.9482758620689655\n",
      "En yüksek ROC AUC:\t\tSVC = 0.9678088171104322\n",
      "\n"
     ]
    }
   ],
   "source": [
    "abbs = ['with_outliers', 'with_outliers_na_dropped', 'no_outliers', 'no_outliers_na_dropped', 'nan_outliers', 'nan_outliers_na_dropped']\n",
    "metrics = ['Accuracy', 'Precision', 'Recall', 'ROC AUC']\n",
    "\n",
    "for abb in abbs:\n",
    "    d = globals()['d_' + abb]\n",
    "    print(f\"{abb} verisi için en iyi değerler:\")\n",
    "    print('-'*len(f\"{abb} verisi için en iyi değerler:\"))\n",
    "\n",
    "    for metric in metrics:\n",
    "        best_model = max(d, key=lambda x: d[x][metric])\n",
    "        best_value = d[best_model][metric]\n",
    "        print(f\"En yüksek {metric}:\\t\\t{best_model} = {best_value}\")\n",
    "    \n",
    "    print()"
   ]
  },
  {
   "cell_type": "markdown",
   "metadata": {},
   "source": [
    "**with_outliers verisi için en iyi değerler:**\n",
    "- En yüksek Accuracy:\tLR = 0.9785714285714285\n",
    "- En yüksek Precision:\tLR = 0.9565217391304348\n",
    "- En yüksek Recall:\t\tLR = 0.9777777777777777\n",
    "- En yüksek ROC AUC:\tLR = 0.9783625730994152\n",
    "\n",
    "**with_outliers_na_dropped verisi için en iyi değerler:**\n",
    "\n",
    "- En yüksek Accuracy:\tSVC = 0.9854014598540146\n",
    "- En yüksek Precision:\tSVC = 0.9827586206896551\n",
    "- En yüksek Recall:\t\tSVC = 0.9827586206896551\n",
    "- En yüksek ROC AUC:\tSVC = 0.9850501964207771\n",
    "\n",
    "**no_outliers verisi için en iyi değerler:**\n",
    "\n",
    "- En yüksek Accuracy:\t\tSVC = 0.9827586206896551\n",
    "- En yüksek Precision:\tXGB = 0.9583333333333334\n",
    "- En yüksek Recall:\t\tSVC = 1.0\n",
    "- En yüksek ROC AUC:\t\tSVC = 0.9890109890109889\n",
    "\n",
    "**no_outliers_na_dropped verisi için en iyi değerler:**\n",
    "\n",
    "- En yüksek Accuracy:\t\tXGB = 0.9734513274336283\n",
    "- En yüksek Precision:\tXGB = 1.0\n",
    "- En yüksek Recall:\t\tSVC = 0.9230769230769231\n",
    "- En yüksek ROC AUC:\t\tSVC = 0.9557913351016799\n",
    "\n",
    "**nan_outliers verisi için en iyi değerler:**\n",
    "\n",
    "- En yüksek Accuracy:\t\tSVC = 0.9785714285714285\n",
    "- En yüksek Precision:\tSVC = 0.9565217391304348\n",
    "- En yüksek Recall:\t\tSVC = 0.9777777777777777\n",
    "- En yüksek ROC AUC:\t\tSVC = 0.9783625730994152\n",
    "\n",
    "**nan_outliers_na_dropped verisi için en iyi değerler:**\n",
    "\n",
    "- En yüksek Accuracy:\t\tSVC = 0.9708029197080292\n",
    "- En yüksek Precision:\tSVC = 0.9821428571428571\n",
    "- En yüksek Recall:\t\tSVC = 0.9482758620689655\n",
    "- En yüksek ROC AUC:\t\tSVC = 0.9678088171104322"
   ]
  },
  {
   "cell_type": "markdown",
   "metadata": {},
   "source": [
    "## Sonuç"
   ]
  },
  {
   "cell_type": "markdown",
   "metadata": {},
   "source": [
    "Outlierları atmadığımız veride Logistic Regression en iyi sonuçları vermiş gibi görünüyor. NaN verileri impute etmek yerine dropladığımız durumda ise SVC ezici üstünlüğe sahip oluyor.\n",
    "\n",
    "Outlierları attığımız veride SVC yine genel olarak üstünlüğü korumakla beraber olabilecek en iyi Recall değerine ulaşıyor. Tıbbi bir veriyle uğraşıp kişinin ilgili hastalığa sahip olup olmadığını belirlemeye çalıştığımız için mükemmel Recall değerine ulaşmak ilk hedeflerimizden olmalı. Bu veri için SVC olabilecek en iyi model gibi duruyor. Aynı veride NaN verileri dropladığımız zaman da SVC-XGB arasında gidip geliyoruz.\n",
    "\n",
    "Outlierları NaN ile değiştirdiğimiz verilerde ise her durumda SVC modelinin en iyi performansı gösterdiğini görüyoruz. \n",
    "\n",
    "Genele baktığımızda da en iyi performansı SVC modeli ve no_outliers verisi ile aldığımız sonucuna varabiliriz.\n",
    "\n",
    "Raporda doldurmak ve manuel karşılaştırma yapmak için tüm veriler için metrikleri görüntüleyelim:"
   ]
  },
  {
   "cell_type": "code",
   "execution_count": 159,
   "metadata": {},
   "outputs": [
    {
     "data": {
      "text/plain": [
       "{'XGB': {'Accuracy': 0.9714285714285714,\n",
       "  'Precision': 0.9555555555555556,\n",
       "  'Recall': 0.9555555555555556,\n",
       "  'ROC AUC': 0.9672514619883043},\n",
       " 'LR': {'Accuracy': 0.9785714285714285,\n",
       "  'Precision': 0.9565217391304348,\n",
       "  'Recall': 0.9777777777777777,\n",
       "  'ROC AUC': 0.9783625730994152},\n",
       " 'RFR': {'Accuracy': 0.9714285714285714,\n",
       "  'Precision': 0.9555555555555556,\n",
       "  'Recall': 0.9555555555555556,\n",
       "  'ROC AUC': 0.9672514619883043},\n",
       " 'SVC': {'Accuracy': 0.9785714285714285,\n",
       "  'Precision': 0.9565217391304348,\n",
       "  'Recall': 0.9777777777777777,\n",
       "  'ROC AUC': 0.9783625730994152},\n",
       " 'MLPC': {'Accuracy': 0.9357142857142857,\n",
       "  'Precision': 0.95,\n",
       "  'Recall': 0.8444444444444444,\n",
       "  'ROC AUC': 0.9116959064327486},\n",
       " 'GBC': {'Accuracy': 0.9571428571428572,\n",
       "  'Precision': 0.9534883720930233,\n",
       "  'Recall': 0.9111111111111111,\n",
       "  'ROC AUC': 0.9450292397660819}}"
      ]
     },
     "metadata": {},
     "output_type": "display_data"
    },
    {
     "name": "stdout",
     "output_type": "stream",
     "text": [
      "\n"
     ]
    },
    {
     "data": {
      "text/plain": [
       "{'XGB': {'Accuracy': 0.9562043795620438,\n",
       "  'Precision': 0.9814814814814815,\n",
       "  'Recall': 0.9137931034482759,\n",
       "  'ROC AUC': 0.9505674378000872},\n",
       " 'LR': {'Accuracy': 0.9708029197080292,\n",
       "  'Precision': 0.9821428571428571,\n",
       "  'Recall': 0.9482758620689655,\n",
       "  'ROC AUC': 0.9678088171104322},\n",
       " 'RFR': {'Accuracy': 0.948905109489051,\n",
       "  'Precision': 0.9636363636363636,\n",
       "  'Recall': 0.9137931034482759,\n",
       "  'ROC AUC': 0.9442383238760367},\n",
       " 'SVC': {'Accuracy': 0.9854014598540146,\n",
       "  'Precision': 0.9827586206896551,\n",
       "  'Recall': 0.9827586206896551,\n",
       "  'ROC AUC': 0.9850501964207771},\n",
       " 'MLPC': {'Accuracy': 0.948905109489051,\n",
       "  'Precision': 0.9636363636363636,\n",
       "  'Recall': 0.9137931034482759,\n",
       "  'ROC AUC': 0.9442383238760367},\n",
       " 'GBC': {'Accuracy': 0.948905109489051,\n",
       "  'Precision': 0.9636363636363636,\n",
       "  'Recall': 0.9137931034482759,\n",
       "  'ROC AUC': 0.9442383238760367}}"
      ]
     },
     "metadata": {},
     "output_type": "display_data"
    },
    {
     "name": "stdout",
     "output_type": "stream",
     "text": [
      "\n"
     ]
    },
    {
     "data": {
      "text/plain": [
       "{'XGB': {'Accuracy': 0.9741379310344828,\n",
       "  'Precision': 0.9583333333333334,\n",
       "  'Recall': 0.92,\n",
       "  'ROC AUC': 0.9545054945054945},\n",
       " 'LR': {'Accuracy': 0.9741379310344828,\n",
       "  'Precision': 0.9583333333333334,\n",
       "  'Recall': 0.92,\n",
       "  'ROC AUC': 0.9545054945054945},\n",
       " 'RFR': {'Accuracy': 0.9741379310344828,\n",
       "  'Precision': 0.9583333333333334,\n",
       "  'Recall': 0.92,\n",
       "  'ROC AUC': 0.9545054945054945},\n",
       " 'SVC': {'Accuracy': 0.9827586206896551,\n",
       "  'Precision': 0.9259259259259259,\n",
       "  'Recall': 1.0,\n",
       "  'ROC AUC': 0.9890109890109889},\n",
       " 'MLPC': {'Accuracy': 0.9827586206896551,\n",
       "  'Precision': 0.9259259259259259,\n",
       "  'Recall': 1.0,\n",
       "  'ROC AUC': 0.9890109890109889},\n",
       " 'GBC': {'Accuracy': 0.9655172413793104,\n",
       "  'Precision': 0.92,\n",
       "  'Recall': 0.92,\n",
       "  'ROC AUC': 0.949010989010989}}"
      ]
     },
     "metadata": {},
     "output_type": "display_data"
    },
    {
     "name": "stdout",
     "output_type": "stream",
     "text": [
      "\n"
     ]
    },
    {
     "data": {
      "text/plain": [
       "{'XGB': {'Accuracy': 0.9734513274336283,\n",
       "  'Precision': 1.0,\n",
       "  'Recall': 0.8846153846153846,\n",
       "  'ROC AUC': 0.9423076923076923},\n",
       " 'LR': {'Accuracy': 0.9557522123893806,\n",
       "  'Precision': 1.0,\n",
       "  'Recall': 0.8076923076923077,\n",
       "  'ROC AUC': 0.9038461538461539},\n",
       " 'RFR': {'Accuracy': 0.9646017699115044,\n",
       "  'Precision': 0.9583333333333334,\n",
       "  'Recall': 0.8846153846153846,\n",
       "  'ROC AUC': 0.9365605658709107},\n",
       " 'SVC': {'Accuracy': 0.9734513274336283,\n",
       "  'Precision': 0.96,\n",
       "  'Recall': 0.9230769230769231,\n",
       "  'ROC AUC': 0.9557913351016799},\n",
       " 'MLPC': {'Accuracy': 0.9734513274336283,\n",
       "  'Precision': 1.0,\n",
       "  'Recall': 0.8846153846153846,\n",
       "  'ROC AUC': 0.9423076923076923},\n",
       " 'GBC': {'Accuracy': 0.9557522123893806,\n",
       "  'Precision': 0.92,\n",
       "  'Recall': 0.8846153846153846,\n",
       "  'ROC AUC': 0.9308134394341291}}"
      ]
     },
     "metadata": {},
     "output_type": "display_data"
    },
    {
     "name": "stdout",
     "output_type": "stream",
     "text": [
      "\n"
     ]
    },
    {
     "data": {
      "text/plain": [
       "{'XGB': {'Accuracy': 0.9642857142857143,\n",
       "  'Precision': 0.9545454545454546,\n",
       "  'Recall': 0.9333333333333333,\n",
       "  'ROC AUC': 0.956140350877193},\n",
       " 'LR': {'Accuracy': 0.9571428571428572,\n",
       "  'Precision': 0.9534883720930233,\n",
       "  'Recall': 0.9111111111111111,\n",
       "  'ROC AUC': 0.9450292397660819},\n",
       " 'RFR': {'Accuracy': 0.95,\n",
       "  'Precision': 0.9318181818181818,\n",
       "  'Recall': 0.9111111111111111,\n",
       "  'ROC AUC': 0.939766081871345},\n",
       " 'SVC': {'Accuracy': 0.9785714285714285,\n",
       "  'Precision': 0.9565217391304348,\n",
       "  'Recall': 0.9777777777777777,\n",
       "  'ROC AUC': 0.9783625730994152},\n",
       " 'MLPC': {'Accuracy': 0.9571428571428572,\n",
       "  'Precision': 0.9534883720930233,\n",
       "  'Recall': 0.9111111111111111,\n",
       "  'ROC AUC': 0.9450292397660819},\n",
       " 'GBC': {'Accuracy': 0.9571428571428572,\n",
       "  'Precision': 0.9534883720930233,\n",
       "  'Recall': 0.9111111111111111,\n",
       "  'ROC AUC': 0.9450292397660819}}"
      ]
     },
     "metadata": {},
     "output_type": "display_data"
    },
    {
     "name": "stdout",
     "output_type": "stream",
     "text": [
      "\n"
     ]
    },
    {
     "data": {
      "text/plain": [
       "{'XGB': {'Accuracy': 0.9562043795620438,\n",
       "  'Precision': 0.9814814814814815,\n",
       "  'Recall': 0.9137931034482759,\n",
       "  'ROC AUC': 0.9505674378000872},\n",
       " 'LR': {'Accuracy': 0.948905109489051,\n",
       "  'Precision': 0.9636363636363636,\n",
       "  'Recall': 0.9137931034482759,\n",
       "  'ROC AUC': 0.9442383238760367},\n",
       " 'RFR': {'Accuracy': 0.9635036496350365,\n",
       "  'Precision': 0.9818181818181818,\n",
       "  'Recall': 0.9310344827586207,\n",
       "  'ROC AUC': 0.9591881274552597},\n",
       " 'SVC': {'Accuracy': 0.9708029197080292,\n",
       "  'Precision': 0.9821428571428571,\n",
       "  'Recall': 0.9482758620689655,\n",
       "  'ROC AUC': 0.9678088171104322},\n",
       " 'MLPC': {'Accuracy': 0.948905109489051,\n",
       "  'Precision': 0.9636363636363636,\n",
       "  'Recall': 0.9137931034482759,\n",
       "  'ROC AUC': 0.9442383238760367},\n",
       " 'GBC': {'Accuracy': 0.9708029197080292,\n",
       "  'Precision': 0.9821428571428571,\n",
       "  'Recall': 0.9482758620689655,\n",
       "  'ROC AUC': 0.9678088171104322}}"
      ]
     },
     "metadata": {},
     "output_type": "display_data"
    },
    {
     "name": "stdout",
     "output_type": "stream",
     "text": [
      "\n"
     ]
    }
   ],
   "source": [
    "for abb in abbs:\n",
    "    display(globals()['d_' + abb])\n",
    "    print()"
   ]
  }
 ],
 "metadata": {
  "kernelspec": {
   "display_name": "Python 3",
   "language": "python",
   "name": "python3"
  },
  "language_info": {
   "codemirror_mode": {
    "name": "ipython",
    "version": 3
   },
   "file_extension": ".py",
   "mimetype": "text/x-python",
   "name": "python",
   "nbconvert_exporter": "python",
   "pygments_lexer": "ipython3",
   "version": "3.11.1"
  }
 },
 "nbformat": 4,
 "nbformat_minor": 2
}
